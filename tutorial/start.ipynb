{
 "cells": [
  {
   "cell_type": "markdown",
   "metadata": {},
   "source": [
    "<img align=\"right\" src=\"images/tf.png\" width=\"128\"/>\n",
    "<img align=\"right\" src=\"images/etcbc.png\"/>\n",
    "<img align=\"right\" src=\"images/logo.png\"/>\n",
    "\n",
    "# Tutorial\n",
    "\n",
    "This notebook gets you started with using\n",
    "[Text-Fabric](https://dans-labs.github.io/text-fabric/) for coding in the Syriac New Testament.\n",
    "\n",
    "Chances are that a bit of reading about the underlying\n",
    "[data model](https://dans-labs.github.io/text-fabric/Model/Data-Model/)\n",
    "helps you to follow the exercises below, and vice versa."
   ]
  },
  {
   "cell_type": "markdown",
   "metadata": {},
   "source": [
    "## Installing Text-Fabric\n",
    "\n",
    "### Python\n",
    "\n",
    "You need to have Python on your system. Most systems have it out of the box,\n",
    "but alas, that is python2 and we need at least python **3.6**.\n",
    "\n",
    "Install it from [python.org](https://www.python.org) or from\n",
    "[Anaconda](https://www.anaconda.com/download).\n",
    "\n",
    "### TF itself\n",
    "\n",
    "```\n",
    "pip3 install text-fabric\n",
    "```\n",
    "\n",
    "### Jupyter notebook\n",
    "\n",
    "You need [Jupyter](http://jupyter.org).\n",
    "\n",
    "If it is not already installed:\n",
    "\n",
    "```\n",
    "pip3 install jupyter\n",
    "```"
   ]
  },
  {
   "cell_type": "markdown",
   "metadata": {},
   "source": [
    "## Tip\n",
    "If you start computing with this tutorial, first copy its parent directory to somewhere else,\n",
    "outside your `syrnt` directory.\n",
    "If you pull changes from the `syrnt` repository later, your work will not be overwritten.\n",
    "Where you put your tutorial directory is up till you.\n",
    "It will work from any directory."
   ]
  },
  {
   "cell_type": "code",
   "execution_count": 1,
   "metadata": {
    "ExecuteTime": {
     "end_time": "2018-10-18T10:40:34.922214Z",
     "start_time": "2018-10-18T10:40:34.901689Z"
    }
   },
   "outputs": [],
   "source": [
    "%load_ext autoreload\n",
    "%autoreload 2"
   ]
  },
  {
   "cell_type": "code",
   "execution_count": 2,
   "metadata": {
    "ExecuteTime": {
     "end_time": "2018-10-18T10:40:36.468086Z",
     "start_time": "2018-10-18T10:40:36.442023Z"
    }
   },
   "outputs": [],
   "source": [
    "import os, collections"
   ]
  },
  {
   "cell_type": "code",
   "execution_count": 3,
   "metadata": {
    "ExecuteTime": {
     "end_time": "2018-10-18T10:40:37.964346Z",
     "start_time": "2018-10-18T10:40:37.346091Z"
    }
   },
   "outputs": [],
   "source": [
    "from tf.app import use"
   ]
  },
  {
   "cell_type": "markdown",
   "metadata": {},
   "source": [
    "## Syrnt data\n",
    "\n",
    "Text-Fabric will fetch a standard set of features for you from the newest github release binaries.\n",
    "\n",
    "The data will be stored in the `text-fabric-data` in your home directory."
   ]
  },
  {
   "cell_type": "markdown",
   "metadata": {},
   "source": [
    "# Load Features\n",
    "The data of the corpus is organized in features.\n",
    "They are *columns* of data.\n",
    "Think of the text as a gigantic spreadsheet, where row 1 corresponds to the\n",
    "first word, row 2 to the second word, and so on, for all 100,000+ words.\n",
    "\n",
    "The letters of each word is a column `form` in that spreadsheet.\n",
    "\n",
    "The corpus contains ca. 30 columns, not only for the words, but also for \n",
    "textual objects, such as *books*, *chapters*, and *verses*.\n",
    "\n",
    "Instead of putting that information in one big table, the data is organized in separate columns.\n",
    "We call those columns **features**."
   ]
  },
  {
   "cell_type": "code",
   "execution_count": 4,
   "metadata": {
    "ExecuteTime": {
     "end_time": "2018-10-18T10:40:42.958397Z",
     "start_time": "2018-10-18T10:40:41.535490Z"
    }
   },
   "outputs": [
    {
     "name": "stdout",
     "output_type": "stream",
     "text": [
      "Using etcbc/syrnt - 0.1 r0.3 in ~/text-fabric-data/etcbc/syrnt/tf/0.1\n"
     ]
    },
    {
     "data": {
      "text/markdown": [
       "**Documentation:** <a target=\"_blank\" href=\"https://github.com/etcbc/syrnt/blob/master/docs\" title=\"provenance of SyrNT\">SYRNT</a> <a target=\"_blank\" href=\"https://dans-labs.github.io/text-fabric/Writing/Syriac\" title=\"('Syriac characters and transcriptions',)\">Character table</a> <a target=\"_blank\" href=\"https://github.com/etcbc/syrnt/blob/master/docs/transcription-0.1.md#transcription.md\" title=\"SYRNT feature documentation\">Feature docs</a> <a target=\"_blank\" href=\"https://dans-labs.github.io/text-fabric/Api/Syrnt/\" title=\"syrnt API documentation\">syrnt API</a> <a target=\"_blank\" href=\"https://dans-labs.github.io/text-fabric/Api/General/\" title=\"text-fabric-api\">Text-Fabric API 6.4.6</a> <a target=\"_blank\" href=\"https://dans-labs.github.io/text-fabric/Api/General/#search-templates\" title=\"Search Templates Introduction and Reference\">Search Reference</a>"
      ],
      "text/plain": [
       "<IPython.core.display.Markdown object>"
      ]
     },
     "metadata": {},
     "output_type": "display_data"
    },
    {
     "data": {
      "text/html": [
       "<details open><summary><b>Loaded features</b>:</summary>\n",
       "<p><b>SyrNT</b>: <a target=\"_blank\" href=\"https://github.com/etcbc/syrnt/blob/master/docs/transcription-0.1.md#oslots\" title=\"/Users/dirk/text-fabric-data/etcbc/syrnt/tf/0.1/book.tf\">book</a>  <a target=\"_blank\" href=\"https://github.com/etcbc/syrnt/blob/master/docs/transcription-0.1.md#oslots\" title=\"/Users/dirk/text-fabric-data/etcbc/syrnt/tf/0.1/book@en.tf\">book@ll</a>  <a target=\"_blank\" href=\"https://github.com/etcbc/syrnt/blob/master/docs/transcription-0.1.md#oslots\" title=\"/Users/dirk/text-fabric-data/etcbc/syrnt/tf/0.1/chapter.tf\">chapter</a>  <a target=\"_blank\" href=\"https://github.com/etcbc/syrnt/blob/master/docs/transcription-0.1.md#oslots\" title=\"/Users/dirk/text-fabric-data/etcbc/syrnt/tf/0.1/demcat.tf\">demcat</a>  <a target=\"_blank\" href=\"https://github.com/etcbc/syrnt/blob/master/docs/transcription-0.1.md#oslots\" title=\"/Users/dirk/text-fabric-data/etcbc/syrnt/tf/0.1/fmhdot.tf\">fmhdot</a>  <a target=\"_blank\" href=\"https://github.com/etcbc/syrnt/blob/master/docs/transcription-0.1.md#oslots\" title=\"/Users/dirk/text-fabric-data/etcbc/syrnt/tf/0.1/gn.tf\">gn</a>  <a target=\"_blank\" href=\"https://github.com/etcbc/syrnt/blob/master/docs/transcription-0.1.md#oslots\" title=\"/Users/dirk/text-fabric-data/etcbc/syrnt/tf/0.1/lexeme.tf\">lexeme</a>  <a target=\"_blank\" href=\"https://github.com/etcbc/syrnt/blob/master/docs/transcription-0.1.md#oslots\" title=\"/Users/dirk/text-fabric-data/etcbc/syrnt/tf/0.1/lexeme_etcbc.tf\">lexeme_etcbc</a>  <a target=\"_blank\" href=\"https://github.com/etcbc/syrnt/blob/master/docs/transcription-0.1.md#oslots\" title=\"/Users/dirk/text-fabric-data/etcbc/syrnt/tf/0.1/lexeme_sedra.tf\">lexeme_sedra</a>  <a target=\"_blank\" href=\"https://github.com/etcbc/syrnt/blob/master/docs/transcription-0.1.md#oslots\" title=\"/Users/dirk/text-fabric-data/etcbc/syrnt/tf/0.1/nmtyp.tf\">nmtyp</a>  <a target=\"_blank\" href=\"https://github.com/etcbc/syrnt/blob/master/docs/transcription-0.1.md#oslots\" title=\"/Users/dirk/text-fabric-data/etcbc/syrnt/tf/0.1/ntyp.tf\">ntyp</a>  <a target=\"_blank\" href=\"https://github.com/etcbc/syrnt/blob/master/docs/transcription-0.1.md#oslots\" title=\"/Users/dirk/text-fabric-data/etcbc/syrnt/tf/0.1/nu.tf\">nu</a>  <a target=\"_blank\" href=\"https://github.com/etcbc/syrnt/blob/master/docs/transcription-0.1.md#oslots\" title=\"/Users/dirk/text-fabric-data/etcbc/syrnt/tf/0.1/otype.tf\">otype</a>  <a target=\"_blank\" href=\"https://github.com/etcbc/syrnt/blob/master/docs/transcription-0.1.md#oslots\" title=\"/Users/dirk/text-fabric-data/etcbc/syrnt/tf/0.1/prefix.tf\">prefix</a>  <a target=\"_blank\" href=\"https://github.com/etcbc/syrnt/blob/master/docs/transcription-0.1.md#oslots\" title=\"/Users/dirk/text-fabric-data/etcbc/syrnt/tf/0.1/prefix_etcbc.tf\">prefix_etcbc</a>  <a target=\"_blank\" href=\"https://github.com/etcbc/syrnt/blob/master/docs/transcription-0.1.md#oslots\" title=\"/Users/dirk/text-fabric-data/etcbc/syrnt/tf/0.1/prefix_sedra.tf\">prefix_sedra</a>  <a target=\"_blank\" href=\"https://github.com/etcbc/syrnt/blob/master/docs/transcription-0.1.md#oslots\" title=\"/Users/dirk/text-fabric-data/etcbc/syrnt/tf/0.1/prtyp.tf\">prtyp</a>  <a target=\"_blank\" href=\"https://github.com/etcbc/syrnt/blob/master/docs/transcription-0.1.md#oslots\" title=\"/Users/dirk/text-fabric-data/etcbc/syrnt/tf/0.1/ps.tf\">ps</a>  <a target=\"_blank\" href=\"https://github.com/etcbc/syrnt/blob/master/docs/transcription-0.1.md#oslots\" title=\"/Users/dirk/text-fabric-data/etcbc/syrnt/tf/0.1/ptctyp.tf\">ptctyp</a>  <a target=\"_blank\" href=\"https://github.com/etcbc/syrnt/blob/master/docs/transcription-0.1.md#oslots\" title=\"/Users/dirk/text-fabric-data/etcbc/syrnt/tf/0.1/root.tf\">root</a>  <a target=\"_blank\" href=\"https://github.com/etcbc/syrnt/blob/master/docs/transcription-0.1.md#oslots\" title=\"/Users/dirk/text-fabric-data/etcbc/syrnt/tf/0.1/root_etcbc.tf\">root_etcbc</a>  <a target=\"_blank\" href=\"https://github.com/etcbc/syrnt/blob/master/docs/transcription-0.1.md#oslots\" title=\"/Users/dirk/text-fabric-data/etcbc/syrnt/tf/0.1/root_sedra.tf\">root_sedra</a>  <a target=\"_blank\" href=\"https://github.com/etcbc/syrnt/blob/master/docs/transcription-0.1.md#oslots\" title=\"/Users/dirk/text-fabric-data/etcbc/syrnt/tf/0.1/seyame.tf\">seyame</a>  <a target=\"_blank\" href=\"https://github.com/etcbc/syrnt/blob/master/docs/transcription-0.1.md#oslots\" title=\"/Users/dirk/text-fabric-data/etcbc/syrnt/tf/0.1/sfcontract.tf\">sfcontract</a>  <a target=\"_blank\" href=\"https://github.com/etcbc/syrnt/blob/master/docs/transcription-0.1.md#oslots\" title=\"/Users/dirk/text-fabric-data/etcbc/syrnt/tf/0.1/sfgn.tf\">sfgn</a>  <a target=\"_blank\" href=\"https://github.com/etcbc/syrnt/blob/master/docs/transcription-0.1.md#oslots\" title=\"/Users/dirk/text-fabric-data/etcbc/syrnt/tf/0.1/sfnu.tf\">sfnu</a>  <a target=\"_blank\" href=\"https://github.com/etcbc/syrnt/blob/master/docs/transcription-0.1.md#oslots\" title=\"/Users/dirk/text-fabric-data/etcbc/syrnt/tf/0.1/sfps.tf\">sfps</a>  <a target=\"_blank\" href=\"https://github.com/etcbc/syrnt/blob/master/docs/transcription-0.1.md#oslots\" title=\"/Users/dirk/text-fabric-data/etcbc/syrnt/tf/0.1/sp.tf\">sp</a>  <a target=\"_blank\" href=\"https://github.com/etcbc/syrnt/blob/master/docs/transcription-0.1.md#oslots\" title=\"/Users/dirk/text-fabric-data/etcbc/syrnt/tf/0.1/st.tf\">st</a>  <a target=\"_blank\" href=\"https://github.com/etcbc/syrnt/blob/master/docs/transcription-0.1.md#oslots\" title=\"/Users/dirk/text-fabric-data/etcbc/syrnt/tf/0.1/stem.tf\">stem</a>  <a target=\"_blank\" href=\"https://github.com/etcbc/syrnt/blob/master/docs/transcription-0.1.md#oslots\" title=\"/Users/dirk/text-fabric-data/etcbc/syrnt/tf/0.1/stem_etcbc.tf\">stem_etcbc</a>  <a target=\"_blank\" href=\"https://github.com/etcbc/syrnt/blob/master/docs/transcription-0.1.md#oslots\" title=\"/Users/dirk/text-fabric-data/etcbc/syrnt/tf/0.1/stem_sedra.tf\">stem_sedra</a>  <a target=\"_blank\" href=\"https://github.com/etcbc/syrnt/blob/master/docs/transcription-0.1.md#oslots\" title=\"/Users/dirk/text-fabric-data/etcbc/syrnt/tf/0.1/suffix.tf\">suffix</a>  <a target=\"_blank\" href=\"https://github.com/etcbc/syrnt/blob/master/docs/transcription-0.1.md#oslots\" title=\"/Users/dirk/text-fabric-data/etcbc/syrnt/tf/0.1/suffix_etcbc.tf\">suffix_etcbc</a>  <a target=\"_blank\" href=\"https://github.com/etcbc/syrnt/blob/master/docs/transcription-0.1.md#oslots\" title=\"/Users/dirk/text-fabric-data/etcbc/syrnt/tf/0.1/suffix_sedra.tf\">suffix_sedra</a>  <a target=\"_blank\" href=\"https://github.com/etcbc/syrnt/blob/master/docs/transcription-0.1.md#oslots\" title=\"/Users/dirk/text-fabric-data/etcbc/syrnt/tf/0.1/verse.tf\">verse</a>  <a target=\"_blank\" href=\"https://github.com/etcbc/syrnt/blob/master/docs/transcription-0.1.md#oslots\" title=\"/Users/dirk/text-fabric-data/etcbc/syrnt/tf/0.1/vs.tf\">vs</a>  <a target=\"_blank\" href=\"https://github.com/etcbc/syrnt/blob/master/docs/transcription-0.1.md#oslots\" title=\"/Users/dirk/text-fabric-data/etcbc/syrnt/tf/0.1/vt.tf\">vt</a>  <a target=\"_blank\" href=\"https://github.com/etcbc/syrnt/blob/master/docs/transcription-0.1.md#oslots\" title=\"/Users/dirk/text-fabric-data/etcbc/syrnt/tf/0.1/word.tf\">word</a>  <a target=\"_blank\" href=\"https://github.com/etcbc/syrnt/blob/master/docs/transcription-0.1.md#oslots\" title=\"/Users/dirk/text-fabric-data/etcbc/syrnt/tf/0.1/word_etcbc.tf\">word_etcbc</a>  <a target=\"_blank\" href=\"https://github.com/etcbc/syrnt/blob/master/docs/transcription-0.1.md#oslots\" title=\"/Users/dirk/text-fabric-data/etcbc/syrnt/tf/0.1/word_sedra.tf\">word_sedra</a>  <b><i><a target=\"_blank\" href=\"https://github.com/etcbc/syrnt/blob/master/docs/transcription-0.1.md#oslots\" title=\"/Users/dirk/text-fabric-data/etcbc/syrnt/tf/0.1/oslots.tf\">oslots</a></i></b> </p></details>"
      ],
      "text/plain": [
       "<IPython.core.display.HTML object>"
      ]
     },
     "metadata": {},
     "output_type": "display_data"
    },
    {
     "data": {
      "text/html": [
       "\n",
       "<style>\n",
       "@font-face {\n",
       "  font-family: \"Estrangelo Edessa\";\n",
       "  src: url('https://github.com/Dans-labs/text-fabric/blob/master/tf/server/static/fonts/SyrCOMEdessa.otf?raw=true');\n",
       "  src: url('https://github.com/Dans-labs/text-fabric/blob/master/tf/server/static/fonts/SyrCOMEdessa.woff?raw=true') format('woff');\n",
       "}\n",
       "</style>\n",
       "\n",
       "<style type=\"text/css\">\n",
       ".features {\n",
       "    font-family: monospace;\n",
       "    font-size: medium;\n",
       "    font-weight: bold;\n",
       "    color: #0a6611;\n",
       "    display: flex;\n",
       "    flex-flow: column nowrap;\n",
       "    padding: 0.1em;\n",
       "    margin: 0.1em;\n",
       "    direction: ltr;\n",
       "}\n",
       ".features div,.features span {\n",
       "    padding: 0;\n",
       "    margin: -0.1rem 0;\n",
       "}\n",
       ".features .f {\n",
       "    font-family: sans-serif;\n",
       "    font-size: x-small;\n",
       "    font-weight: normal;\n",
       "    color: #5555bb;\n",
       "}\n",
       ".features .xft {\n",
       "  color: #000000;\n",
       "  background-color: #eeeeee;\n",
       "  font-size: medium;\n",
       "  margin: 0.1em 0em;\n",
       "}\n",
       ".features .xft .f {\n",
       "  color: #000000;\n",
       "  background-color: #eeeeee;\n",
       "  font-style: italic;\n",
       "  font-size: small;\n",
       "  font-weight: normal;\n",
       "}\n",
       ".verse {\n",
       "    display: flex;\n",
       "    flex-flow: row wrap;\n",
       "    direction: rtl;\n",
       "}\n",
       ".vl {\n",
       "    display: flex;\n",
       "    flex-flow: column nowrap;\n",
       "    justify-content: flex-end;\n",
       "    align-items: flex-end;\n",
       "    direction: ltr;\n",
       "    width: 100%;\n",
       "}\n",
       ".outeritem {\n",
       "    display: flex;\n",
       "    flex-flow: row wrap;\n",
       "    direction: rtl;\n",
       "}\n",
       ".word {\n",
       "    padding: 0.1em;\n",
       "    margin: 0.1em;\n",
       "    border-radius: 0.1em;\n",
       "    border: 1px solid #cccccc;\n",
       "    display: flex;\n",
       "    flex-flow: column nowrap;\n",
       "    direction: rtl;\n",
       "    background-color: #ffffff;\n",
       "}\n",
       ".lextp {\n",
       "    padding: 0.1em;\n",
       "    margin: 0.1em;\n",
       "    border-radius: 0.1em;\n",
       "    border: 2px solid #888888;\n",
       "    width: fit-content;\n",
       "    display: flex;\n",
       "    flex-flow: column nowrap;\n",
       "    direction: rtl;\n",
       "    background-color: #ffffff;\n",
       "}\n",
       ".occs {\n",
       "    font-size: x-small;\n",
       "}\n",
       ".tr,.tr a:visited,.tr a:link {\n",
       "    font-family: sans-serif;\n",
       "    font-size: large;\n",
       "    color: #000044;\n",
       "    direction: ltr;\n",
       "    text-decoration: none;\n",
       "}\n",
       ".trb,.trb a:visited,.trb a:link {\n",
       "    font-family: sans-serif;\n",
       "    font-size: normal;\n",
       "    direction: ltr;\n",
       "    text-decoration: none;\n",
       "}\n",
       ".sy,.sy a:visited,.sy a:link {\n",
       "    font-family: \"Estrangelo Edessa\", sans-serif;\n",
       "    font-size: large;\n",
       "    color: #000044;\n",
       "    direction: rtl;\n",
       "    text-decoration: none;\n",
       "}\n",
       ".syb,.syb a:visited,.syb a:link {\n",
       "    font-family: \"Estrangelo Edessa\", sans-serif;\n",
       "    font-size: large;\n",
       "    direction: rtl;\n",
       "    text-decoration: none;\n",
       "}\n",
       ".vn {\n",
       "  font-size: small !important;\n",
       "  padding-right: 1em;\n",
       "}\n",
       ".sp,.sp a:visited,.sp a:link {\n",
       "    font-family: monospace;\n",
       "    font-size: medium;\n",
       "    color: #0000bb;\n",
       "    text-decoration: none;\n",
       "}\n",
       ".lexeme {\n",
       "    font-family: monospace;\n",
       "    font-size: medium;\n",
       "    color: #0000bb;\n",
       "}\n",
       ".vs {\n",
       "    font-family: monospace;\n",
       "    font-size: medium;\n",
       "    font-weight: bold;\n",
       "    color: #0000bb;\n",
       "}\n",
       ".vt {\n",
       "    font-family: monospace;\n",
       "    font-size: medium;\n",
       "    font-weight: bold;\n",
       "    color: #0000bb;\n",
       "}\n",
       ".nd {\n",
       "    font-family: monospace;\n",
       "    font-size: x-small;\n",
       "    color: #999999;\n",
       "}\n",
       ".hl {\n",
       "    background-color: #ffee66;\n",
       "}\n",
       "</style>\n"
      ],
      "text/plain": [
       "<IPython.core.display.HTML object>"
      ]
     },
     "metadata": {},
     "output_type": "display_data"
    },
    {
     "data": {
      "text/html": [
       "<details open><summary><b>API members</b>:</summary>\n",
       "<a target=\"_blank\" href=\"https://dans-labs.github.io/text-fabric/Api/General/#computed-data\" title=\"doc\">C Computed</a>, <a target=\"_blank\" href=\"https://dans-labs.github.io/text-fabric/Api/General/#computed-data\" title=\"doc\">Call AllComputeds</a>, <a target=\"_blank\" href=\"https://dans-labs.github.io/text-fabric/Api/General/#computed-data\" title=\"doc\">Cs ComputedString</a><br/>\n",
       "<a target=\"_blank\" href=\"https://dans-labs.github.io/text-fabric/Api/General/#edge-features\" title=\"doc\">E Edge</a>, <a target=\"_blank\" href=\"https://dans-labs.github.io/text-fabric/Api/General/#edge-features\" title=\"doc\">Eall AllEdges</a>, <a target=\"_blank\" href=\"https://dans-labs.github.io/text-fabric/Api/General/#edge-features\" title=\"doc\">Es EdgeString</a><br/>\n",
       "<a target=\"_blank\" href=\"https://dans-labs.github.io/text-fabric/Api/General/#loading\" title=\"doc\">TF</a>, <a target=\"_blank\" href=\"https://dans-labs.github.io/text-fabric/Api/General/#loading\" title=\"doc\">ensureLoaded</a>, <a target=\"_blank\" href=\"https://dans-labs.github.io/text-fabric/Api/General/#loading\" title=\"doc\">ignored</a>, <a target=\"_blank\" href=\"https://dans-labs.github.io/text-fabric/Api/General/#loading\" title=\"doc\">loadLog</a><br/>\n",
       "<a target=\"_blank\" href=\"https://dans-labs.github.io/text-fabric/Api/General/#locality\" title=\"doc\">L Locality</a><br/>\n",
       "<a target=\"_blank\" href=\"https://dans-labs.github.io/text-fabric/Api/General/#messaging\" title=\"doc\">cache</a>, <a target=\"_blank\" href=\"https://dans-labs.github.io/text-fabric/Api/General/#messaging\" title=\"doc\">error</a>, <a target=\"_blank\" href=\"https://dans-labs.github.io/text-fabric/Api/General/#messaging\" title=\"doc\">indent</a>, <a target=\"_blank\" href=\"https://dans-labs.github.io/text-fabric/Api/General/#messaging\" title=\"doc\">info</a>, <a target=\"_blank\" href=\"https://dans-labs.github.io/text-fabric/Api/General/#messaging\" title=\"doc\">reset</a><br/>\n",
       "<a target=\"_blank\" href=\"https://dans-labs.github.io/text-fabric/Api/General/#navigating-nodes\" title=\"doc\">N Nodes</a>, <a target=\"_blank\" href=\"https://dans-labs.github.io/text-fabric/Api/General/#navigating-nodes\" title=\"doc\">sortKey</a>, <a target=\"_blank\" href=\"https://dans-labs.github.io/text-fabric/Api/General/#navigating-nodes\" title=\"doc\">otypeRank</a>, <a target=\"_blank\" href=\"https://dans-labs.github.io/text-fabric/Api/General/#navigating-nodes\" title=\"doc\">sortNodes</a><br/>\n",
       "<a target=\"_blank\" href=\"https://dans-labs.github.io/text-fabric/Api/General/#node-features\" title=\"doc\">F Feature</a>, <a target=\"_blank\" href=\"https://dans-labs.github.io/text-fabric/Api/General/#node-features\" title=\"doc\">Fall AllFeatures</a>, <a target=\"_blank\" href=\"https://dans-labs.github.io/text-fabric/Api/General/#node-features\" title=\"doc\">Fs FeatureString</a><br/>\n",
       "<a target=\"_blank\" href=\"https://dans-labs.github.io/text-fabric/Api/General/#searching\" title=\"doc\">S Search</a><br/>\n",
       "<a target=\"_blank\" href=\"https://dans-labs.github.io/text-fabric/Api/General/#text\" title=\"doc\">T Text</a></details>"
      ],
      "text/plain": [
       "<IPython.core.display.HTML object>"
      ]
     },
     "metadata": {},
     "output_type": "display_data"
    }
   ],
   "source": [
    "A = use('syrnt', hoist=globals())"
   ]
  },
  {
   "cell_type": "markdown",
   "metadata": {},
   "source": [
    "## API\n",
    "\n",
    "At this point it is helpful to throw a quick glance at the text-fabric\n",
    "[API documentation](https://github.com/Dans-labs/text-fabric/wiki/Api)\n",
    "especially the right side bar.\n",
    "\n",
    "The most essential thing for now is that we can use `F` to access the data in the features\n",
    "we've loaded.\n",
    "But there is more, such as `N`, which helps us to walk over the text, as we see in a minute."
   ]
  },
  {
   "cell_type": "markdown",
   "metadata": {},
   "source": [
    "# Counting\n",
    "\n",
    "In order to get acquainted with the data, we start with the simple task of counting.\n",
    "\n",
    "## Count all nodes\n",
    "We use the \n",
    "[`N()` generator](https://github.com/Dans-labs/text-fabric/wiki/Api#walking-through-nodes)\n",
    "to walk through the nodes.\n",
    "\n",
    "We compared corpus to a gigantic spreadsheet, where the rows correspond to the words.\n",
    "In Text-Fabric, we call the rows `slots`, because they are the textual positions that can be filled with words.\n",
    "\n",
    "We also mentioned that there are also more textual objects. \n",
    "They are the verses, chapters and books.\n",
    "They also correspond to rows in the big spreadsheet.\n",
    "\n",
    "In Text-Fabric we call all these rows *nodes*, and the `N()` generator\n",
    "carries us through those nodes in the textual order.\n",
    "\n",
    "Just one extra thing: the `info` statements generate timed messages.\n",
    "If you use them instead of `print` you'll get a sense of the amount of time that \n",
    "the various processing steps typically need."
   ]
  },
  {
   "cell_type": "code",
   "execution_count": 5,
   "metadata": {
    "ExecuteTime": {
     "end_time": "2018-03-08T10:13:01.501437Z",
     "start_time": "2018-03-08T10:13:01.452315Z"
    }
   },
   "outputs": [
    {
     "name": "stdout",
     "output_type": "stream",
     "text": [
      "  0.00s Counting nodes ...\n",
      "  0.02s 120922 nodes\n"
     ]
    }
   ],
   "source": [
    "indent(reset=True)\n",
    "info('Counting nodes ...')\n",
    "\n",
    "i = 0\n",
    "for n in N(): i += 1\n",
    "\n",
    "info('{} nodes'.format(i))"
   ]
  },
  {
   "cell_type": "markdown",
   "metadata": {},
   "source": [
    "## What are those nodes?\n",
    "Every node has a type, like word, or phrase, sentence.\n",
    "We know that we have approximately 100,000 words and a few other nodes.\n",
    "But what exactly are they?\n",
    "\n",
    "Text-Fabric has two special features, `otype` and `oslots`, that must occur in every Text-Fabric data set.\n",
    "`otype` tells you for each node its type, and you can ask for the number of `slot`s in the text.\n",
    "\n",
    "Here we go!"
   ]
  },
  {
   "cell_type": "code",
   "execution_count": 6,
   "metadata": {
    "ExecuteTime": {
     "end_time": "2018-03-08T10:13:05.040545Z",
     "start_time": "2018-03-08T10:13:05.019791Z"
    }
   },
   "outputs": [
    {
     "data": {
      "text/plain": [
       "'word'"
      ]
     },
     "execution_count": 6,
     "metadata": {},
     "output_type": "execute_result"
    }
   ],
   "source": [
    "F.otype.slotType"
   ]
  },
  {
   "cell_type": "code",
   "execution_count": 7,
   "metadata": {
    "ExecuteTime": {
     "end_time": "2018-03-08T10:13:05.855607Z",
     "start_time": "2018-03-08T10:13:05.849069Z"
    }
   },
   "outputs": [
    {
     "data": {
      "text/plain": [
       "109640"
      ]
     },
     "execution_count": 7,
     "metadata": {},
     "output_type": "execute_result"
    }
   ],
   "source": [
    "F.otype.maxSlot"
   ]
  },
  {
   "cell_type": "code",
   "execution_count": 8,
   "metadata": {
    "ExecuteTime": {
     "end_time": "2018-03-08T10:13:06.387787Z",
     "start_time": "2018-03-08T10:13:06.381228Z"
    }
   },
   "outputs": [
    {
     "data": {
      "text/plain": [
       "120922"
      ]
     },
     "execution_count": 8,
     "metadata": {},
     "output_type": "execute_result"
    }
   ],
   "source": [
    "F.otype.maxNode"
   ]
  },
  {
   "cell_type": "code",
   "execution_count": 9,
   "metadata": {
    "ExecuteTime": {
     "end_time": "2018-03-08T10:13:07.770989Z",
     "start_time": "2018-03-08T10:13:07.764917Z"
    }
   },
   "outputs": [
    {
     "data": {
      "text/plain": [
       "('book', 'chapter', 'lexeme', 'verse', 'word')"
      ]
     },
     "execution_count": 9,
     "metadata": {},
     "output_type": "execute_result"
    }
   ],
   "source": [
    "F.otype.all"
   ]
  },
  {
   "cell_type": "code",
   "execution_count": 10,
   "metadata": {
    "ExecuteTime": {
     "end_time": "2018-03-08T10:13:11.588722Z",
     "start_time": "2018-03-08T10:13:11.581305Z"
    }
   },
   "outputs": [
    {
     "data": {
      "text/plain": [
       "(('book', 4060.740740740741, 109641, 109667),\n",
       " ('chapter', 421.6923076923077, 109668, 109927),\n",
       " ('lexeme', 36.08953258722844, 109928, 112965),\n",
       " ('verse', 13.779062460726404, 112966, 120922),\n",
       " ('word', 1, 1, 109640))"
      ]
     },
     "execution_count": 10,
     "metadata": {},
     "output_type": "execute_result"
    }
   ],
   "source": [
    "C.levels.data"
   ]
  },
  {
   "cell_type": "markdown",
   "metadata": {},
   "source": [
    "This is interesting: above you see all the textual objects, with the average size of their objects,\n",
    "the node where they start, and the node where they end."
   ]
  },
  {
   "cell_type": "markdown",
   "metadata": {},
   "source": [
    "## Count individual object types\n",
    "This is an intuitive way to count the number of nodes in each type.\n",
    "Note in passing, how we use the `indent` in conjunction with `info` to produce neat timed \n",
    "and indented progress messages."
   ]
  },
  {
   "cell_type": "code",
   "execution_count": 11,
   "metadata": {
    "ExecuteTime": {
     "end_time": "2018-03-08T10:13:21.547051Z",
     "start_time": "2018-03-08T10:13:21.498807Z"
    }
   },
   "outputs": [
    {
     "name": "stdout",
     "output_type": "stream",
     "text": [
      "  0.00s counting objects ...\n",
      "   |     0.00s      27 books\n",
      "   |     0.00s     260 chapters\n",
      "   |     0.00s    3038 lexemes\n",
      "   |     0.00s    7957 verses\n",
      "   |     0.01s  109640 words\n",
      "  0.02s Done\n"
     ]
    }
   ],
   "source": [
    "indent(reset=True)\n",
    "info('counting objects ...')\n",
    "\n",
    "for otype in F.otype.all:\n",
    "    i = 0\n",
    "    indent(level=1, reset=True)\n",
    "\n",
    "    for n in F.otype.s(otype): i+=1\n",
    "\n",
    "    info('{:>7} {}s'.format(i, otype))\n",
    "\n",
    "indent(level=0)\n",
    "info('Done')"
   ]
  },
  {
   "cell_type": "markdown",
   "metadata": {},
   "source": [
    "# Viewing textual objects\n",
    "\n",
    "We use the A API (the extra power) to peek into the corpus."
   ]
  },
  {
   "cell_type": "markdown",
   "metadata": {},
   "source": [
    "Let's inspect some words."
   ]
  },
  {
   "cell_type": "code",
   "execution_count": 12,
   "metadata": {
    "ExecuteTime": {
     "end_time": "2018-05-18T09:18:02.282178Z",
     "start_time": "2018-05-18T09:18:02.274117Z"
    }
   },
   "outputs": [
    {
     "data": {
      "text/html": [
       "<div class=\"outeritem\">\n",
       "<div class=\"word \" style=\"background-color: None;\">\n",
       "<div class=\"sy\">ܫܡܥ </div>\n",
       "<div class=\"features\"> <span class=\"word_etcbc\">CM&lt;</span> <span class=\"lexeme_etcbc\">CM&lt;</span> <span class=\"sp\">verb</span> <span class=\"vs\">peal</span> <span class=\"vt\">perfect</span></div>\n",
       "\n",
       "\n",
       "</div>\n",
       "\n",
       "</div>"
      ],
      "text/plain": [
       "<IPython.core.display.HTML object>"
      ]
     },
     "metadata": {},
     "output_type": "display_data"
    },
    {
     "data": {
      "text/html": [
       "<div class=\"outeritem\">\n",
       "<div class=\"word \" style=\"background-color: None;\">\n",
       "<div class=\"sy\">ܟܕ </div>\n",
       "<div class=\"features\"> <span class=\"word_etcbc\">KD</span> <span class=\"lexeme_etcbc\">KD</span> <span class=\"sp\">particle</span></div>\n",
       "\n",
       "\n",
       "</div>\n",
       "\n",
       "</div>"
      ],
      "text/plain": [
       "<IPython.core.display.HTML object>"
      ]
     },
     "metadata": {},
     "output_type": "display_data"
    },
    {
     "data": {
      "text/html": [
       "<div class=\"outeritem\">\n",
       "<div class=\"word \" style=\"background-color: None;\">\n",
       "<div class=\"sy\">ܕܝܢ </div>\n",
       "<div class=\"features\"> <span class=\"word_etcbc\">DJN</span> <span class=\"lexeme_etcbc\">DJN</span> <span class=\"sp\">particle</span></div>\n",
       "\n",
       "\n",
       "</div>\n",
       "\n",
       "</div>"
      ],
      "text/plain": [
       "<IPython.core.display.HTML object>"
      ]
     },
     "metadata": {},
     "output_type": "display_data"
    }
   ],
   "source": [
    "wordShow = (1000, 10000, 100000)\n",
    "for word in wordShow:\n",
    "  A.pretty(word)"
   ]
  },
  {
   "cell_type": "markdown",
   "metadata": {},
   "source": [
    "# Feature statistics\n",
    "\n",
    "`F`\n",
    "gives access to all features.\n",
    "Every feature has a method\n",
    "`freqList()`\n",
    "to generate a frequency list of its values, higher frequencies first.\n",
    "Here are the parts of speech:"
   ]
  },
  {
   "cell_type": "code",
   "execution_count": 13,
   "metadata": {
    "ExecuteTime": {
     "end_time": "2018-03-08T10:13:28.926742Z",
     "start_time": "2018-03-08T10:13:28.846500Z"
    }
   },
   "outputs": [
    {
     "data": {
      "text/plain": [
       "(('noun', 33717),\n",
       " ('verb', 30441),\n",
       " ('particle', 28486),\n",
       " ('pronoun', 10247),\n",
       " ('adjective', 4503),\n",
       " ('numeral', 1620),\n",
       " ('adverb', 434),\n",
       " ('idiom', 192))"
      ]
     },
     "execution_count": 13,
     "metadata": {},
     "output_type": "execute_result"
    }
   ],
   "source": [
    "F.sp.freqList()"
   ]
  },
  {
   "cell_type": "markdown",
   "metadata": {},
   "source": [
    "# Lexeme matters\n",
    "\n",
    "## Top 10 frequent verbs\n",
    "\n",
    "If we count the frequency of words, we usually mean the frequency of their\n",
    "corresponding lexemes.\n",
    "\n",
    "There are several methods for working with lexemes.\n",
    "\n",
    "### Method 1: counting words"
   ]
  },
  {
   "cell_type": "code",
   "execution_count": 14,
   "metadata": {
    "ExecuteTime": {
     "end_time": "2018-03-08T10:13:39.960696Z",
     "start_time": "2018-03-08T10:13:39.829670Z"
    }
   },
   "outputs": [
    {
     "name": "stdout",
     "output_type": "stream",
     "text": [
      "  0.00s Collecting data\n",
      "  0.07s Done\n",
      "HW>: 4006\n",
      ">MR: 2553\n",
      ">T>: 965\n",
      "XZ>: 734\n",
      "<BD: 706\n",
      "JD<: 704\n",
      "MCJX>: 585\n",
      "QM: 550\n",
      "JHB: 534\n",
      "CM<: 494\n",
      "\n"
     ]
    }
   ],
   "source": [
    "verbs = collections.Counter()\n",
    "indent(reset=True)\n",
    "info('Collecting data')\n",
    "\n",
    "for w in F.otype.s('word'):\n",
    "    if F.sp.v(w) != 'verb': continue\n",
    "    verbs[F.lexeme_etcbc.v(w)] +=1\n",
    "\n",
    "info('Done')\n",
    "print(''.join(\n",
    "    '{}: {}\\n'.format(verb, cnt)\n",
    "    for (verb, cnt) in sorted(verbs.items(), key=lambda x: (-x[1], x[0]))[0:10]\n",
    "))       "
   ]
  },
  {
   "cell_type": "markdown",
   "metadata": {},
   "source": [
    "## Lexeme distribution\n",
    "\n",
    "Let's do a bit more fancy lexeme stuff.\n",
    "\n",
    "### Hapaxes\n",
    "\n",
    "A hapax can be found by inspecting lexemes and see to how many word nodes they are linked.\n",
    "If that is number is one, we have a hapax.\n",
    "\n",
    "We print 10 hapaxes with their gloss."
   ]
  },
  {
   "cell_type": "code",
   "execution_count": 15,
   "metadata": {
    "ExecuteTime": {
     "end_time": "2018-03-08T10:13:58.376059Z",
     "start_time": "2018-03-08T10:13:58.247752Z"
    }
   },
   "outputs": [
    {
     "name": "stdout",
     "output_type": "stream",
     "text": [
      "  0.07s 835 hapaxes found\n",
      "\t<BDW\n",
      "\t<BJD>\n",
      "\t<CN\n",
      "\t<CQ\n",
      "\t<GN\n",
      "\t<JJQ>\n",
      "\t<JN-JWN\n",
      "\t<JR\n",
      "\t<KW\n",
      "\t<LM<LMJN\n"
     ]
    }
   ],
   "source": [
    "indent(reset=True)\n",
    "\n",
    "hapax = []\n",
    "lexIndex = collections.defaultdict(list)\n",
    "\n",
    "for n in F.otype.s('word'):\n",
    "    lexIndex[F.lexeme_etcbc.v(n)].append(n)\n",
    "    \n",
    "hapax = dict((lex, occs) for (lex, occs) in lexIndex.items() if len(occs) == 1)\n",
    "    \n",
    "info('{} hapaxes found'.format(len(hapax)))\n",
    "\n",
    "for h in sorted(hapax)[0:10]:\n",
    "    print(f'\\t{h}')"
   ]
  },
  {
   "cell_type": "markdown",
   "metadata": {},
   "source": [
    "If we want more info on the hapaxes, we get that by means of its *node*.\n",
    "The lexIndex dictionary stores the occurrences of a lexeme as a list of nodes.\n",
    "\n",
    "Let's get the part of speech and the syriac form of those 10 hapaxes."
   ]
  },
  {
   "cell_type": "code",
   "execution_count": 16,
   "metadata": {
    "ExecuteTime": {
     "end_time": "2018-03-08T10:14:00.590376Z",
     "start_time": "2018-03-08T10:14:00.580157Z"
    }
   },
   "outputs": [
    {
     "name": "stdout",
     "output_type": "stream",
     "text": [
      "\tnoun         ܥܒܕܘ\n",
      "\tverb         ܥܒܝܕܐ\n",
      "\tverb         ܥܫܢ\n",
      "\tverb         ܥܫܩ\n",
      "\tverb         ܥܓܢ\n",
      "\tadjective    ܥܝܝܩܐ\n",
      "\tnoun         ܥܝܢ-ܝܘܢ\n",
      "\tnoun         ܥܝܪ\n",
      "\tnoun         ܥܟܘ\n",
      "\tnoun         ܥܠܡܥܠܡܝܢ\n"
     ]
    }
   ],
   "source": [
    "for h in sorted(hapax)[0:10]:\n",
    "    node = hapax[h][0]\n",
    "    print(f'\\t{F.sp.v(node):<12} {F.lexeme.v(node)}')"
   ]
  },
  {
   "cell_type": "markdown",
   "metadata": {},
   "source": [
    "### Small occurrence base\n",
    "\n",
    "The occurrence base of a lexeme are the verses, chapters and books in which occurs.\n",
    "Let's look for lexemes that occur in a single chapter.\n",
    "\n",
    "Oh yes, we have already found the hapaxes, we will skip them here."
   ]
  },
  {
   "cell_type": "code",
   "execution_count": 17,
   "metadata": {
    "ExecuteTime": {
     "end_time": "2018-03-08T10:14:03.503420Z",
     "start_time": "2018-03-08T10:14:02.841707Z"
    }
   },
   "outputs": [
    {
     "name": "stdout",
     "output_type": "stream",
     "text": [
      "  0.00s Finding single chapter lexemes\n",
      "  0.41s 947 single chapter lexemes found\n",
      "Matthew 1:1          JLJDWT> (1x)\n",
      "Matthew 1:1          ZRX    (1x)\n",
      "Matthew 1:1          TMR    (1x)\n",
      "Matthew 1:1          R<WT   (1x)\n",
      "Matthew 1:1          RXB<M  (1x)\n",
      "Matthew 1:1          JHWCPV (1x)\n",
      "Matthew 1:1          <WZJ>  (1x)\n",
      "Matthew 1:1          JWTM   (1x)\n",
      "Matthew 1:1          >XZ    (1x)\n",
      "Matthew 1:1          XZQJ>  (1x)\n"
     ]
    }
   ],
   "source": [
    "indent(reset=True)\n",
    "info('Finding single chapter lexemes')\n",
    "\n",
    "lexChapterIndex = {}\n",
    "\n",
    "for (lex, occs) in lexIndex.items():\n",
    "    lexChapterIndex[lex] = set(L.u(n, otype='chapter')[0] for n in occs)\n",
    "    \n",
    "singleCh = [(lex, occs) for (lex, occs) in lexChapterIndex.items() if len(lexChapterIndex[lex]) == 1]\n",
    "\n",
    "info('{} single chapter lexemes found'.format(len(singleCh)))\n",
    "\n",
    "for (lex, occs) in singleCh[0:10]:\n",
    "    print('{:<20} {:<6} ({}x)'.format(\n",
    "        '{} {}:{}'.format(*T.sectionFromNode(sorted(occs)[0])),\n",
    "        lex,\n",
    "        len(occs),\n",
    "    ))"
   ]
  },
  {
   "cell_type": "markdown",
   "metadata": {},
   "source": [
    "### Confined to books\n",
    "\n",
    "As a final exercise with lexemes, lets make a list of all books, and show their total number of lexemes and\n",
    "the number of lexemes that occur exclusively in that book."
   ]
  },
  {
   "cell_type": "code",
   "execution_count": 18,
   "metadata": {
    "ExecuteTime": {
     "end_time": "2018-03-08T10:14:07.670486Z",
     "start_time": "2018-03-08T10:14:07.479785Z"
    }
   },
   "outputs": [
    {
     "name": "stdout",
     "output_type": "stream",
     "text": [
      "  0.00s Making book-lexeme index\n",
      "  0.10s Found 3038 lexemes\n"
     ]
    }
   ],
   "source": [
    "indent(reset=True)\n",
    "info('Making book-lexeme index')\n",
    "\n",
    "allBook = collections.defaultdict(set)\n",
    "allLex = set()\n",
    "\n",
    "for b in F.otype.s('book'):\n",
    "    for w in L.d(b, 'word'):\n",
    "        l = F.lexeme.v(w)\n",
    "        allBook[b].add(l)\n",
    "        allLex.add(l)\n",
    "\n",
    "info('Found {} lexemes'.format(len(allLex)))"
   ]
  },
  {
   "cell_type": "code",
   "execution_count": 19,
   "metadata": {
    "ExecuteTime": {
     "end_time": "2018-03-08T10:14:09.712557Z",
     "start_time": "2018-03-08T10:14:09.068800Z"
    }
   },
   "outputs": [
    {
     "name": "stdout",
     "output_type": "stream",
     "text": [
      "  0.00s Finding single book lexemes\n",
      "  0.39s found 1079 single book lexemes\n"
     ]
    }
   ],
   "source": [
    "indent(reset=True)\n",
    "info('Finding single book lexemes')\n",
    "\n",
    "lexBookIndex = {}\n",
    "\n",
    "for (lex, occs) in lexIndex.items():\n",
    "    lexBookIndex[lex] = set(L.u(n, otype='book')[0] for n in occs)\n",
    "\n",
    "singleBookLex = collections.defaultdict(set)\n",
    "for (lex, books) in lexBookIndex.items():\n",
    "    if len(books) == 1:\n",
    "        singleBookLex[list(books)[0]].add(lex)\n",
    "\n",
    "singleBook = {book: len(lexs) for (book, lexs) in singleBookLex.items()}\n",
    "\n",
    "info('found {} single book lexemes'.format(sum(singleBook.values())))"
   ]
  },
  {
   "cell_type": "code",
   "execution_count": 20,
   "metadata": {
    "ExecuteTime": {
     "end_time": "2018-03-08T10:14:10.997607Z",
     "start_time": "2018-03-08T10:14:10.964980Z"
    }
   },
   "outputs": [
    {
     "name": "stdout",
     "output_type": "stream",
     "text": [
      "book                 #all #own %own\n",
      "-----------------------------------\n",
      "Acts                 1315  252 19.2%\n",
      "Revelation            809  104 12.9%\n",
      "Luke                 1368  153 11.2%\n",
      "2_Peter               348   34  9.8%\n",
      "Romans                782   60  7.7%\n",
      "2_Timothy             379   26  6.9%\n",
      "Hebrews               747   51  6.8%\n",
      "James                 434   28  6.5%\n",
      "Matthew              1244   80  6.4%\n",
      "John                  810   47  5.8%\n",
      "Jude                  209   12  5.7%\n",
      "2_Corinthians         628   36  5.7%\n",
      "1_Corinthians         740   41  5.5%\n",
      "1_Timothy             444   20  4.5%\n",
      "Philippians           371   15  4.0%\n",
      "Colossians            375   15  4.0%\n",
      "Ephesians             460   18  3.9%\n",
      "1_Peter               452   17  3.8%\n",
      "Mark                  966   32  3.3%\n",
      "2_John                 91    3  3.3%\n",
      "Galatians             418   13  3.1%\n",
      "Titus                 249    6  2.4%\n",
      "3_John                 97    2  2.1%\n",
      "1_Thessalonians       322    6  1.9%\n",
      "Philemon              127    2  1.6%\n",
      "1_John                218    3  1.4%\n",
      "2_Thessalonians       220    3  1.4%\n"
     ]
    }
   ],
   "source": [
    "print('{:<20}{:>5}{:>5}{:>5}\\n{}'.format(\n",
    "    'book', '#all', '#own', '%own',\n",
    "    '-'*35,\n",
    "))\n",
    "booklist = []\n",
    "\n",
    "for b in F.otype.s('book'):\n",
    "    book = T.bookName(b)\n",
    "    a = len(allBook[b])\n",
    "    o = singleBook.get(b, 0)\n",
    "    p = 100 * o / a\n",
    "    booklist.append((book, a, o, p))\n",
    "\n",
    "for x in sorted(booklist, key=lambda e: (-e[3], -e[1], e[0])):\n",
    "    print('{:<20} {:>4} {:>4} {:>4.1f}%'.format(*x))"
   ]
  },
  {
   "cell_type": "markdown",
   "metadata": {},
   "source": [
    "# Layer API\n",
    "We travel upwards and downwards, forwards and backwards through the nodes.\n",
    "The Layer-API (`L`) provides functions: `u()` for going up, and `d()` for going down,\n",
    "`n()` for going to next nodes and `p()` for going to previous nodes.\n",
    "\n",
    "These directions are indirect notions: nodes are just numbers, but by means of the\n",
    "`oslots` feature they are linked to slots. One node *contains* an other node, if the one is linked to a set of slots that contains the set of slots that the other is linked to.\n",
    "And one if next or previous to an other, if its slots follow of precede the slots of the other one.\n",
    "\n",
    "`L.u(node)` **Up** is going to nodes that embed `node`.\n",
    "\n",
    "`L.d(node)` **Down** is the opposite direction, to those that are contained in `node`.\n",
    "\n",
    "`L.n(node)` **Next** are the next *adjacent* nodes, i.e. nodes whose first slot comes immediately after the last slot of `node`.\n",
    "\n",
    "`L.p(node)` **Previous** are the previous *adjacent* nodes, i.e. nodes whose last slot comes immediately before the first slot of `node`.\n",
    "\n",
    "All these functions yield nodes of all possible otypes.\n",
    "By passing an optional parameter, you can restrict the results to nodes of that type.\n",
    "\n",
    "The result are ordered according to the order of things in the text.\n",
    "\n",
    "The functions return always a tuple, even if there is just one node in the result.\n",
    "\n",
    "## Going up\n",
    "We go from the first word to the book it contains.\n",
    "Note the `[0]` at the end. You expect one book, yet `L` returns a tuple. \n",
    "To get the only element of that tuple, you need to do that `[0]`.\n",
    "\n",
    "If you are like me, you keep forgetting it, and that will lead to weird error messages later on."
   ]
  },
  {
   "cell_type": "code",
   "execution_count": 21,
   "metadata": {
    "ExecuteTime": {
     "end_time": "2018-03-08T10:14:15.350367Z",
     "start_time": "2018-03-08T10:14:15.343039Z"
    }
   },
   "outputs": [
    {
     "name": "stdout",
     "output_type": "stream",
     "text": [
      "109641\n"
     ]
    }
   ],
   "source": [
    "firstBook = L.u(1, otype='book')[0]\n",
    "print(firstBook)"
   ]
  },
  {
   "cell_type": "markdown",
   "metadata": {},
   "source": [
    "And let's see all the containing objects of word 3:"
   ]
  },
  {
   "cell_type": "code",
   "execution_count": 22,
   "metadata": {
    "ExecuteTime": {
     "end_time": "2018-03-08T10:14:17.364197Z",
     "start_time": "2018-03-08T10:14:17.352186Z"
    }
   },
   "outputs": [
    {
     "name": "stdout",
     "output_type": "stream",
     "text": [
      "word 3 is contained in book 109641\n",
      "word 3 is contained in chapter 109668\n",
      "word 3 is contained in lexeme 109930\n",
      "word 3 is contained in verse 112966\n"
     ]
    }
   ],
   "source": [
    "w = 3\n",
    "for otype in F.otype.all:\n",
    "    if otype == F.otype.slotType: continue\n",
    "    up = L.u(w, otype=otype)\n",
    "    upNode = 'x' if len(up) == 0 else up[0]\n",
    "    print('word {} is contained in {} {}'.format(w, otype, upNode))"
   ]
  },
  {
   "cell_type": "markdown",
   "metadata": {},
   "source": [
    "## Going next\n",
    "Let's go to the next nodes of the first book."
   ]
  },
  {
   "cell_type": "code",
   "execution_count": 23,
   "metadata": {
    "ExecuteTime": {
     "end_time": "2018-03-08T10:14:20.775341Z",
     "start_time": "2018-03-08T10:14:20.762875Z"
    }
   },
   "outputs": [
    {
     "name": "stdout",
     "output_type": "stream",
     "text": [
      "  13980: word          first slot=13980 , last slot=13980 \n",
      " 114037: verse         first slot=13980 , last slot=13985 \n",
      " 109696: chapter       first slot=13980 , last slot=14490 \n",
      " 109642: book          first slot=13980 , last slot=22772 \n"
     ]
    }
   ],
   "source": [
    "afterFirstBook = L.n(firstBook)\n",
    "for n in afterFirstBook:\n",
    "    print('{:>7}: {:<13} first slot={:<6}, last slot={:<6}'.format(\n",
    "        n, F.otype.v(n),\n",
    "        E.oslots.s(n)[0],\n",
    "        E.oslots.s(n)[-1],\n",
    "    ))\n",
    "secondBook = L.n(firstBook, otype='book')[0]"
   ]
  },
  {
   "cell_type": "markdown",
   "metadata": {},
   "source": [
    "## Going previous\n",
    "\n",
    "And let's see what is right before the second book."
   ]
  },
  {
   "cell_type": "code",
   "execution_count": 24,
   "metadata": {
    "ExecuteTime": {
     "end_time": "2018-03-08T10:14:23.300424Z",
     "start_time": "2018-03-08T10:14:23.292226Z"
    }
   },
   "outputs": [
    {
     "name": "stdout",
     "output_type": "stream",
     "text": [
      " 109641: book          first slot=1     , last slot=13979 \n",
      " 109695: chapter       first slot=13714 , last slot=13979 \n",
      " 114036: verse         first slot=13964 , last slot=13979 \n",
      "  13979: word          first slot=13979 , last slot=13979 \n"
     ]
    }
   ],
   "source": [
    "for n in L.p(secondBook):\n",
    "    print('{:>7}: {:<13} first slot={:<6}, last slot={:<6}'.format(\n",
    "        n, F.otype.v(n),\n",
    "        E.oslots.s(n)[0],\n",
    "        E.oslots.s(n)[-1],\n",
    "    ))"
   ]
  },
  {
   "cell_type": "markdown",
   "metadata": {},
   "source": [
    "## Going down"
   ]
  },
  {
   "cell_type": "markdown",
   "metadata": {},
   "source": [
    "We go to the chapters of the second book, and just count them."
   ]
  },
  {
   "cell_type": "code",
   "execution_count": 25,
   "metadata": {
    "ExecuteTime": {
     "end_time": "2018-03-08T10:14:25.969860Z",
     "start_time": "2018-03-08T10:14:25.957084Z"
    }
   },
   "outputs": [
    {
     "name": "stdout",
     "output_type": "stream",
     "text": [
      "16\n"
     ]
    }
   ],
   "source": [
    "chapters = L.d(secondBook, otype='chapter')\n",
    "print(len(chapters))"
   ]
  },
  {
   "cell_type": "markdown",
   "metadata": {},
   "source": [
    "## The first verse\n",
    "We pick the first verse and the first word, and explore what is above and below them."
   ]
  },
  {
   "cell_type": "code",
   "execution_count": 26,
   "metadata": {
    "ExecuteTime": {
     "end_time": "2018-03-08T10:14:28.468853Z",
     "start_time": "2018-03-08T10:14:28.416537Z"
    }
   },
   "outputs": [
    {
     "name": "stdout",
     "output_type": "stream",
     "text": [
      "Node 1\n",
      "   |   UP\n",
      "   |      |   109928          lexeme\n",
      "   |      |   112966          verse\n",
      "   |      |   109668          chapter\n",
      "   |      |   109641          book\n",
      "   |   DOWN\n",
      "   |      |   \n",
      "Node 112966\n",
      "   |   UP\n",
      "   |      |   109668          chapter\n",
      "   |      |   109641          book\n",
      "   |   DOWN\n",
      "   |      |   109928          lexeme\n",
      "   |      |   1               word\n",
      "   |      |   109929          lexeme\n",
      "   |      |   2               word\n",
      "   |      |   109930          lexeme\n",
      "   |      |   3               word\n",
      "   |      |   109931          lexeme\n",
      "   |      |   4               word\n",
      "   |      |   109932          lexeme\n",
      "   |      |   5               word\n",
      "   |      |   109933          lexeme\n",
      "   |      |   6               word\n",
      "   |      |   7               word\n",
      "   |      |   8               word\n",
      "Done\n"
     ]
    }
   ],
   "source": [
    "for n in [1, L.u(1, otype='verse')[0]]:\n",
    "    indent(level=0)\n",
    "    info('Node {}'.format(n), tm=False)\n",
    "    indent(level=1)\n",
    "    info('UP', tm=False)\n",
    "    indent(level=2)\n",
    "    info('\\n'.join(['{:<15} {}'.format(u, F.otype.v(u)) for u in L.u(n)]), tm=False)\n",
    "    indent(level=1)\n",
    "    info('DOWN', tm=False)\n",
    "    indent(level=2)\n",
    "    info('\\n'.join(['{:<15} {}'.format(u, F.otype.v(u)) for u in L.d(n)]), tm=False)\n",
    "indent(level=0)\n",
    "info('Done', tm=False)"
   ]
  },
  {
   "cell_type": "markdown",
   "metadata": {},
   "source": [
    "# Text API\n",
    "\n",
    "So far, we have mainly seen nodes and their numbers, and the names of node types.\n",
    "You would almost forget that we are dealing with text.\n",
    "So let's try to see some text.\n",
    "\n",
    "In the same way as `F` gives access to feature data,\n",
    "`T` gives access to the text.\n",
    "That is also feature data, but you can tell Text-Fabric which features are specifically\n",
    "carrying the text, and in return Text-Fabric offers you\n",
    "a Text API: `T`.\n",
    "\n",
    "## Formats\n",
    "Syriac text can be represented in a number of ways:\n",
    "\n",
    "* in transliteration, or in Syriac characters,\n",
    "* showing the actual text or only the lexemes,\n",
    "\n",
    "If you wonder where the information about text formats is stored: \n",
    "not in the program text-fabric, but in the data set.\n",
    "It has a feature `otext`, which specifies the formats and which features\n",
    "must be used to produce them. `otext` is the third special feature in a TF data set,\n",
    "next to `otype` and `oslots`. \n",
    "It is an optional feature. \n",
    "If it is absent, there will be no `T` API.\n",
    "\n",
    "Here is a list of all available formats in this data set."
   ]
  },
  {
   "cell_type": "code",
   "execution_count": 27,
   "metadata": {
    "ExecuteTime": {
     "end_time": "2018-03-08T10:14:31.965590Z",
     "start_time": "2018-03-08T10:14:31.955945Z"
    }
   },
   "outputs": [
    {
     "data": {
      "text/plain": [
       "['lex-orig-full', 'lex-trans-full', 'text-orig-full', 'text-trans-full']"
      ]
     },
     "execution_count": 27,
     "metadata": {},
     "output_type": "execute_result"
    }
   ],
   "source": [
    "sorted(T.formats)"
   ]
  },
  {
   "cell_type": "markdown",
   "metadata": {},
   "source": [
    "## Using the formats\n",
    "\n",
    "We can pretty display in other formats:"
   ]
  },
  {
   "cell_type": "code",
   "execution_count": 28,
   "metadata": {},
   "outputs": [
    {
     "data": {
      "text/html": [
       "<div class=\"outeritem\">\n",
       "<div class=\"word \" style=\"background-color: None;\">\n",
       "<div class=\"tr\">CM&lt; </div>\n",
       "<div class=\"features\"> <span class=\"word_etcbc\">CM&lt;</span> <span class=\"lexeme_etcbc\">CM&lt;</span> <span class=\"sp\">verb</span> <span class=\"vs\">peal</span> <span class=\"vt\">perfect</span></div>\n",
       "\n",
       "\n",
       "</div>\n",
       "\n",
       "</div>"
      ],
      "text/plain": [
       "<IPython.core.display.HTML object>"
      ]
     },
     "metadata": {},
     "output_type": "display_data"
    },
    {
     "data": {
      "text/html": [
       "<div class=\"outeritem\">\n",
       "<div class=\"word \" style=\"background-color: None;\">\n",
       "<div class=\"tr\">KD </div>\n",
       "<div class=\"features\"> <span class=\"word_etcbc\">KD</span> <span class=\"lexeme_etcbc\">KD</span> <span class=\"sp\">particle</span></div>\n",
       "\n",
       "\n",
       "</div>\n",
       "\n",
       "</div>"
      ],
      "text/plain": [
       "<IPython.core.display.HTML object>"
      ]
     },
     "metadata": {},
     "output_type": "display_data"
    },
    {
     "data": {
      "text/html": [
       "<div class=\"outeritem\">\n",
       "<div class=\"word \" style=\"background-color: None;\">\n",
       "<div class=\"tr\">DJN </div>\n",
       "<div class=\"features\"> <span class=\"word_etcbc\">DJN</span> <span class=\"lexeme_etcbc\">DJN</span> <span class=\"sp\">particle</span></div>\n",
       "\n",
       "\n",
       "</div>\n",
       "\n",
       "</div>"
      ],
      "text/plain": [
       "<IPython.core.display.HTML object>"
      ]
     },
     "metadata": {},
     "output_type": "display_data"
    }
   ],
   "source": [
    "for word in wordShow:\n",
    "  A.pretty(word, fmt='text-trans-full')"
   ]
  },
  {
   "cell_type": "markdown",
   "metadata": {},
   "source": [
    "Now let's use those formats to print out the first verse of the Hebrew Bible."
   ]
  },
  {
   "cell_type": "code",
   "execution_count": 29,
   "metadata": {
    "ExecuteTime": {
     "end_time": "2018-03-08T10:14:35.240131Z",
     "start_time": "2018-03-08T10:14:35.231752Z"
    }
   },
   "outputs": [
    {
     "name": "stdout",
     "output_type": "stream",
     "text": [
      "lex-orig-full:\n",
      "\tܟܬܒܐ ܝܠܝܕܘܬܐ ܝܫܘܥ ܡܫܝܚܐ ܒܪܐ ܕܘܝܕ ܒܪܐ ܐܒܪܗܡ ܐܒܪܗܡ ܝܠܕ ܐܝܣܚܩ \n",
      "lex-trans-full:\n",
      "\tKTB> JLJDWT> JCW< MCJX> BR> DWJD BR> >BRHM >BRHM JLD >JSXQ \n",
      "text-orig-full:\n",
      "\tܟܬܒܐ ܕܝܠܝܕܘܬܗ ܕܝܫܘܥ ܡܫܝܚܐ ܒܪܗ ܕܕܘܝܕ ܒܪܗ ܕܐܒܪܗܡ ܐܒܪܗܡ ܐܘܠܕ ܠܐܝܣܚܩ \n",
      "text-trans-full:\n",
      "\tKTB> DJLJDWTH DJCW< MCJX> BRH DDWJD BRH D>BRHM >BRHM >WLD L>JSXQ \n"
     ]
    }
   ],
   "source": [
    "for fmt in sorted(T.formats):\n",
    "    print('{}:\\n\\t{}'.format(fmt, T.text(range(1,12), fmt=fmt)))"
   ]
  },
  {
   "cell_type": "markdown",
   "metadata": {},
   "source": [
    "If we do not specify a format, the **default** format is used (`text-orig-full`)."
   ]
  },
  {
   "cell_type": "code",
   "execution_count": 30,
   "metadata": {
    "ExecuteTime": {
     "end_time": "2018-03-08T10:14:37.681491Z",
     "start_time": "2018-03-08T10:14:37.674538Z"
    }
   },
   "outputs": [
    {
     "name": "stdout",
     "output_type": "stream",
     "text": [
      "ܟܬܒܐ ܕܝܠܝܕܘܬܗ ܕܝܫܘܥ ܡܫܝܚܐ ܒܪܗ ܕܕܘܝܕ ܒܪܗ ܕܐܒܪܗܡ ܐܒܪܗܡ ܐܘܠܕ ܠܐܝܣܚܩ \n"
     ]
    }
   ],
   "source": [
    "print(T.text(range(1,12)))"
   ]
  },
  {
   "cell_type": "markdown",
   "metadata": {},
   "source": [
    "## Whole text in all formats in less than a second\n",
    "Part of the pleasure of working with computers is that they can crunch massive amounts of data.\n",
    "The text of the Hebrew Bible is a piece of cake.\n",
    "\n",
    "It takes less than a second to have that cake and eat it. \n",
    "In nearly a dozen formats."
   ]
  },
  {
   "cell_type": "code",
   "execution_count": 31,
   "metadata": {
    "ExecuteTime": {
     "end_time": "2018-03-08T10:14:40.870244Z",
     "start_time": "2018-03-08T10:14:39.998071Z"
    }
   },
   "outputs": [
    {
     "name": "stdout",
     "output_type": "stream",
     "text": [
      "  0.00s writing plain text of whole Syriac New Testament in all formats\n",
      "  0.55s done 4 formats\n",
      "lex-orig-full\n",
      "ܟܬܒܐ ܝܠܝܕܘܬܐ ܝܫܘܥ ܡܫܝܚܐ ܒܪܐ ܕܘܝܕ ܒܪܐ ܐܒܪܗܡ \n",
      "ܐܒܪܗܡ ܝܠܕ ܐܝܣܚܩ ܐܝܣܚܩ ܝܠܕ ܝܥܩܘܒ ܝܥܩܘܒ ܝܠܕ ܝܗܘܕܐ ܐܚܐ \n",
      "ܝܗܘܕܐ ܝܠܕ ܦܪܨ ܙܪܚ ܡܢ ܬܡܪ ܦܪܨ ܝܠܕ ܚܨܪܘܢ ܚܨܪܘܢ ܝܠܕ ܐܪܡ \n",
      "ܐܪܡ ܝܠܕ ܥܡܝܢܕܒ ܥܡܝܢܕܒ ܝܠܕ ܢܚܫܘܢ ܢܚܫܘܢ ܝܠܕ ܣܠܡܘܢ \n",
      "ܣܠܡܘܢ ܝܠܕ ܒܥܙ ܡܢ ܪܚܒ ܒܥܙ ܝܠܕ ܥܘܒܝܕ ܡܢ ܪܥܘܬ ܥܘܒܝܕ ܝܠܕ ܐܝܫܝ \n",
      "\n",
      "lex-trans-full\n",
      "KTB> JLJDWT> JCW< MCJX> BR> DWJD BR> >BRHM \n",
      ">BRHM JLD >JSXQ >JSXQ JLD J<QWB J<QWB JLD JHWD> >X> \n",
      "JHWD> JLD PRY ZRX MN TMR PRY JLD XYRWN XYRWN JLD >RM \n",
      ">RM JLD <MJNDB <MJNDB JLD NXCWN NXCWN JLD SLMWN \n",
      "SLMWN JLD B<Z MN RXB B<Z JLD <WBJD MN R<WT <WBJD JLD >JCJ \n",
      "\n",
      "text-orig-full\n",
      "ܟܬܒܐ ܕܝܠܝܕܘܬܗ ܕܝܫܘܥ ܡܫܝܚܐ ܒܪܗ ܕܕܘܝܕ ܒܪܗ ܕܐܒܪܗܡ \n",
      "ܐܒܪܗܡ ܐܘܠܕ ܠܐܝܣܚܩ ܐܝܣܚܩ ܐܘܠܕ ܠܝܥܩܘܒ ܝܥܩܘܒ ܐܘܠܕ ܠܝܗܘܕܐ ܘܠܐܚܘܗܝ \n",
      "ܝܗܘܕܐ ܐܘܠܕ ܠܦܪܨ ܘܠܙܪܚ ܡܢ ܬܡܪ ܦܪܨ ܐܘܠܕ ܠܚܨܪܘܢ ܚܨܪܘܢ ܐܘܠܕ ܠܐܪܡ \n",
      "ܐܪܡ ܐܘܠܕ ܠܥܡܝܢܕܒ ܥܡܝܢܕܒ ܐܘܠܕ ܠܢܚܫܘܢ ܢܚܫܘܢ ܐܘܠܕ ܠܣܠܡܘܢ \n",
      "ܣܠܡܘܢ ܐܘܠܕ ܠܒܥܙ ܡܢ ܪܚܒ ܒܥܙ ܐܘܠܕ ܠܥܘܒܝܕ ܡܢ ܪܥܘܬ ܥܘܒܝܕ ܐܘܠܕ ܠܐܝܫܝ \n",
      "\n",
      "text-trans-full\n",
      "KTB> DJLJDWTH DJCW< MCJX> BRH DDWJD BRH D>BRHM \n",
      ">BRHM >WLD L>JSXQ >JSXQ >WLD LJ<QWB J<QWB >WLD LJHWD> WL>XWHJ \n",
      "JHWD> >WLD LPRY WLZRX MN TMR PRY >WLD LXYRWN XYRWN >WLD L>RM \n",
      ">RM >WLD L<MJNDB <MJNDB >WLD LNXCWN NXCWN >WLD LSLMWN \n",
      "SLMWN >WLD LB<Z MN RXB B<Z >WLD L<WBJD MN R<WT <WBJD >WLD L>JCJ \n",
      "\n"
     ]
    }
   ],
   "source": [
    "indent(reset=True)\n",
    "info('writing plain text of whole Syriac New Testament in all formats')\n",
    "\n",
    "text = collections.defaultdict(list)\n",
    "\n",
    "for v in F.otype.s('verse'):\n",
    "    words = L.d(v, 'word')\n",
    "    for fmt in sorted(T.formats):\n",
    "        text[fmt].append(T.text(words, fmt=fmt))\n",
    "\n",
    "info('done {} formats'.format(len(text)))\n",
    "\n",
    "for fmt in sorted(text):\n",
    "    print('{}\\n{}\\n'.format(fmt, '\\n'.join(text[fmt][0:5])))"
   ]
  },
  {
   "cell_type": "markdown",
   "metadata": {},
   "source": [
    "### The full plain text\n",
    "We write a few formats to file, in your `Downloads` folder."
   ]
  },
  {
   "cell_type": "code",
   "execution_count": 32,
   "metadata": {
    "ExecuteTime": {
     "end_time": "2018-03-08T10:14:43.743463Z",
     "start_time": "2018-03-08T10:14:43.726787Z"
    }
   },
   "outputs": [],
   "source": [
    "orig = 'text-orig-full'\n",
    "trans = 'text-trans-full'\n",
    "for fmt in (orig, trans):\n",
    "    with open(os.path.expanduser(f'~/Downloads/SyrNT-{fmt}.txt'), 'w') as f:\n",
    "        f.write('\\n'.join(text[fmt]))"
   ]
  },
  {
   "cell_type": "code",
   "execution_count": 33,
   "metadata": {
    "ExecuteTime": {
     "end_time": "2018-03-08T10:14:44.766248Z",
     "start_time": "2018-03-08T10:14:44.618476Z"
    }
   },
   "outputs": [
    {
     "name": "stdout",
     "output_type": "stream",
     "text": [
      "ܟܬܒܐ ܕܝܠܝܕܘܬܗ ܕܝܫܘܥ ܡܫܝܚܐ ܒܪܗ ܕܕܘܝܕ ܒܪܗ ܕܐܒܪܗܡ \n",
      "ܐܒܪܗܡ ܐܘܠܕ ܠܐܝܣܚܩ ܐܝܣܚܩ ܐܘܠܕ ܠܝܥܩܘܒ ܝܥܩܘܒ ܐܘܠܕ ܠܝܗܘܕܐ ܘܠܐܚܘܗܝ \n",
      "ܝܗܘܕܐ ܐܘܠܕ ܠܦܪܨ ܘܠܙܪܚ ܡܢ ܬܡܪ ܦܪܨ ܐܘܠܕ ܠܚܨܪܘܢ ܚܨܪܘܢ ܐܘܠܕ ܠܐܪܡ \n",
      "ܐܪܡ ܐܘܠܕ ܠܥܡܝܢܕܒ ܥܡܝܢܕܒ ܐܘܠܕ ܠܢܚܫܘܢ ܢܚܫܘܢ ܐܘܠܕ ܠܣܠܡܘܢ \n",
      "ܣܠܡܘܢ ܐܘܠܕ ܠܒܥܙ ܡܢ ܪܚܒ ܒܥܙ ܐܘܠܕ ܠܥܘܒܝܕ ܡܢ ܪܥܘܬ ܥܘܒܝܕ ܐܘܠܕ ܠܐܝܫܝ \n",
      "ܐܝܫܝ ܐܘܠܕ ܠܕܘܝܕ ܡܠܟܐ ܕܘܝܕ ܐܘܠܕ ܠܫܠܝܡܘܢ ܡܢ ܐܢܬܬܗ ܕܐܘܪܝܐ \n",
      "ܫܠܝܡܘܢ ܐܘܠܕ ܠܪܚܒܥܡ ܪܚܒܥܡ ܐܘܠܕ ܠܐܒܝܐ ܐܒܝܐ ܐܘܠܕ ܠܐܣܐ \n",
      "ܐܣܐ ܐܘܠܕ ܠܝܗܘܫܦܛ ܝܗܘܫܦܛ ܐܘܠܕ ܠܝܘܪܡ ܝܘܪܡ ܐܘܠܕ ܠܥܘܙܝܐ \n",
      "ܥܘܙܝܐ ܐܘܠܕ ܠܝܘܬܡ ܝܘܬܡ ܐܘܠܕ ܠܐܚܙ ܐܚܙ ܐܘܠܕ ܠܚܙܩܝܐ \n",
      "ܚܙܩܝܐ ܐܘܠܕ ܠܡܢܫܐ ܡܢܫܐ ܐܘܠܕ ܠܐܡܘܢ ܐܡܘܢ ܐܘܠܕ ܠܝܘܫܝܐ \n",
      "ܝܘܫܝܐ ܐܘܠܕ ܠܝܘܟܢܝܐ ܘܠܐܚܘܗܝ ܒܓܠܘܬܐ ܕܒܒܠ \n",
      "ܡܢ ܒܬܪ ܓܠܘܬܐ ܕܝܢ ܕܒܒܠ ܝܘܟܢܝܐ ܐܘܠܕ ܠܫܠܬܐܝܠ ܫܠܬܐܝܠ ܐܘܠܕ ܠܙܘܪܒܒܠ \n",
      "ܙܘܪܒܒܠ ܐܘܠܕ ܠܐܒܝܘܕ ܐܒܝܘܕ ܐܘܠܕ ܠܐܠܝܩܝܡ ܐܠܝܩܝܡ ܐܘܠܕ ܠܥܙܘܪ \n",
      "ܥܙܘܪ ܐܘܠܕ ܠܙܕܘܩ ܙܕܘܩ ܐܘܠܕ ܠܐܟܝܢ ܐܟܝܢ ܐܘܠܕ ܠܐܠܝܘܕ \n",
      "ܐܠܝܘܕ ܐܘܠܕ ܠܐܠܝܥܙܪ ܐܠܝܥܙܪ ܐܘܠܕ ܠܡܬܢ ܡܬܢ ܐܘܠܕ ܠܝܥܩܘܒ \n",
      "ܝܥܩܘܒ ܐܘܠܕ ܠܝܘܣܦ ܓܒܪܗ ܕܡܪܝܡ ܕܡܢܗ ܐܬܝܠܕ ܝܫܘܥ ܕܡܬܩܪܐ ܡܫܝܚܐ \n",
      "ܟܠܗܝܢ ܗܟܝܠ ܫܪܒܬܐ ܡܢ ܐܒܪܗܡ ܥܕܡܐ ܠܕܘܝܕ ܫܪܒܬܐ ܐܪܒܥܣܪܐ ܘܡܢ ܕܘܝܕ ܥܕܡܐ ܠܓܠܘܬܐ ܕܒܒܠ ܫܪܒܬܐ ܐܪܒܥܣܪܐ ܘܡܢ ܓܠܘܬܐ ܕܒܒܠ ܥܕܡܐ ܠܡܫܝܚܐ ܫܪܒܬܐ ܐܪܒܥܣܪܐ \n",
      "ܝܠܕܗ ܕܝܢ ܕܝܫܘܥ ܡܫܝܚܐ ܗܟܢܐ ܗܘܐ ܟܕ ܡܟܝܪܐ ܗܘܬ ܡܪܝܡ ܐܡܗ ܠܝܘܣܦ ܥܕܠܐ ܢܫܬܘܬܦܘܢ ܐܫܬܟܚܬ ܒܛܢܐ ܡܢ ܪܘܚܐ ܕܩܘܕܫܐ \n",
      "ܝܘܣܦ ܕܝܢ ܒܥܠܗ ܟܐܢܐ ܗܘܐ ܘܠܐ ܨܒܐ ܕܢܦܪܣܝܗ ܘܐܬܪܥܝ ܗܘܐ ܕܡܛܫܝܐܝܬ ܢܫܪܝܗ \n",
      "ܟܕ ܗܠܝܢ ܕܝܢ ܐܬܪܥܝ ܐܬܚܙܝ ܠܗ ܡܠܐܟܐ ܕܡܪܝܐ ܒܚܠܡܐ ܘܐܡܪ ܠܗ ܝܘܣܦ ܒܪܗ ܕܕܘܝܕ ܠܐ ܬܕܚܠ ܠܡܣܒ ܠܡܪܝܡ ܐܢܬܬܟ ܗܘ ܓܝܪ ܕܐܬܝܠܕ ܒܗ ܡܢ ܪܘܚܐ ܗܘ ܕܩܘܕܫܐ \n"
     ]
    }
   ],
   "source": [
    "!head -n 20 ~/Downloads/SyrNT-{orig}.txt"
   ]
  },
  {
   "cell_type": "markdown",
   "metadata": {},
   "source": [
    "## Book names\n",
    "\n",
    "For Bible book names, we can use several languages.\n",
    "Well, in this case we have just English.\n",
    "\n",
    "### Languages\n",
    "Here are the languages that we can use for book names.\n",
    "These languages come from the features `book@ll`, where `ll` is a two letter\n",
    "ISO language code. Have a look in your data directory, you can't miss them."
   ]
  },
  {
   "cell_type": "code",
   "execution_count": 34,
   "metadata": {
    "ExecuteTime": {
     "end_time": "2018-03-08T10:14:47.152762Z",
     "start_time": "2018-03-08T10:14:47.145420Z"
    }
   },
   "outputs": [
    {
     "data": {
      "text/plain": [
       "{'': {'language': 'default', 'languageEnglish': 'default'},\n",
       " 'en': {'language': 'English', 'languageEnglish': 'English'}}"
      ]
     },
     "execution_count": 34,
     "metadata": {},
     "output_type": "execute_result"
    }
   ],
   "source": [
    "T.languages"
   ]
  },
  {
   "cell_type": "markdown",
   "metadata": {},
   "source": [
    "## Sections\n",
    "\n",
    "A section is a book, a chapter or a verse.\n",
    "Knowledge of sections is not baked into Text-Fabric. \n",
    "The config feature `otext.tf` may specify three section levels, and tell\n",
    "what the corresponding node types and features are.\n",
    "\n",
    "From that knowledge it can construct mappings from nodes to sections, e.g. from verse\n",
    "nodes to tuples of the form:\n",
    "\n",
    "    (bookName, chapterNumber, verseNumber)\n",
    "   \n",
    "Here are examples of getting the section that corresponds to a node and vice versa.\n",
    "\n",
    "**NB:** `sectionFromNode` always delivers a verse specification, either from the\n",
    "first slot belonging to that node, or, if `lastSlot`, from the last slot\n",
    "belonging to that node."
   ]
  },
  {
   "cell_type": "code",
   "execution_count": 35,
   "metadata": {
    "ExecuteTime": {
     "end_time": "2018-03-08T10:14:49.175819Z",
     "start_time": "2018-03-08T10:14:49.151007Z"
    }
   },
   "outputs": [
    {
     "name": "stdout",
     "output_type": "stream",
     "text": [
      "section of first word          ('Matthew', 1, 1)\n",
      "node of Matthew 1:1            112966\n",
      "node of book Matthew           109641\n",
      "node of chapter Matthew 1      109668\n",
      "section of book node           ('Matthew', 1, 1)\n",
      "idem, now last word            ('Matthew', 28, 20)\n",
      "section of chapter node        ('Matthew', 1, 1)\n",
      "idem, now last word            ('Matthew', 1, 25)\n"
     ]
    }
   ],
   "source": [
    "for x in (\n",
    "    ('section of first word',     T.sectionFromNode(1)                            ),\n",
    "    ('node of Matthew 1:1',       T.nodeFromSection(('Matthew', 1, 1))            ),\n",
    "    ('node of book Matthew',      T.nodeFromSection(('Matthew',))                 ),\n",
    "    ('node of chapter Matthew 1', T.nodeFromSection(('Matthew', 1))               ),\n",
    "    ('section of book node',      T.sectionFromNode(109641)                      ),\n",
    "    ('idem, now last word',       T.sectionFromNode(109641, lastSlot=True)       ),\n",
    "    ('section of chapter node',   T.sectionFromNode(109668)                      ),\n",
    "    ('idem, now last word',       T.sectionFromNode(109668, lastSlot=True)       ),\n",
    "): print('{:<30} {}'.format(*x))"
   ]
  },
  {
   "cell_type": "markdown",
   "metadata": {},
   "source": [
    "# Next steps\n",
    "\n",
    "By now you have an impression how to compute around in the text.\n",
    "While this is still the beginning, I hope you already sense the power of unlimited programmatic access\n",
    "to all the bits and bytes in the data set.\n",
    "\n",
    "Here are a few directions for unleashing that power.\n",
    "\n",
    "## Search\n",
    "Text-Fabric contains a flexible search engine, that does not only work for this data,\n",
    "but also for data that you add to it.\n",
    "There is a tutorial dedicated to [search](search.ipynb).\n",
    "\n",
    "## Add your own data\n",
    "If you study the additional data, you can observe how that data is created and also\n",
    "how it is turned into a text-fabric data module.\n",
    "The last step is incredibly easy. You can write out every Python dictionary where the keys are numbers\n",
    "and the values string or numbers as a Text-Fabric feature.\n",
    "When you are creating data, you have already constructed those dictionaries, so writing\n",
    "them out is just one method call.\n",
    "\n",
    "You can then easily share your new features on GitHub, so that your colleagues everywhere \n",
    "can try it out for themselves."
   ]
  },
  {
   "cell_type": "markdown",
   "metadata": {},
   "source": [
    "## Export to Emdros MQL\n",
    "\n",
    "[EMDROS](http://emdros.org), written by Ulrik Petersen,\n",
    "is a text database system with the powerful *topographic* query language MQL.\n",
    "The ideas are based on a model devised by Christ-Jan Doedens in\n",
    "[Text Databases: One Database Model and Several Retrieval Languages](https://books.google.nl/books?id=9ggOBRz1dO4C).\n",
    "\n",
    "Text-Fabric's model of slots, nodes and edges is a fairly straightforward translation of the models of Christ-Jan Doedens and Ulrik Petersen.\n",
    "\n",
    "[SHEBANQ](https://shebanq.ancient-data.org) uses EMDROS to offer users to execute and save MQL queries against the Hebrew Text Database of the ETCBC.\n",
    "\n",
    "So it is kind of logical and convenient to be able to work with a Text-Fabric resource through MQL.\n",
    "\n",
    "If you have obtained an MQL dataset somehow, you can turn it into a text-fabric data set by `importMQL()`,\n",
    "which we will not show here.\n",
    "\n",
    "And if you want to export a Text-Fabric data set to MQL, that is also possible.\n",
    "\n",
    "After the `Fabric(modules=...)` call, you can call `exportMQL()` in order to save all features of the\n",
    "indicated modules into a big MQL dump, which can be imported by an EMDROS database."
   ]
  },
  {
   "cell_type": "code",
   "execution_count": 36,
   "metadata": {
    "ExecuteTime": {
     "end_time": "2018-03-08T10:15:03.472718Z",
     "start_time": "2018-03-08T10:14:55.847533Z"
    },
    "scrolled": false
   },
   "outputs": [
    {
     "name": "stdout",
     "output_type": "stream",
     "text": [
      "  0.00s Checking features of dataset mysyrnt\n"
     ]
    },
    {
     "name": "stderr",
     "output_type": "stream",
     "text": [
      "   |     0.00s feature \"book@en\" => \"book_en\"\n"
     ]
    },
    {
     "name": "stdout",
     "output_type": "stream",
     "text": [
      "  0.01s 40 features to export to MQL ...\n",
      "  0.01s Loading 40 features\n",
      "  0.01s Writing enumerations\n",
      "\tbook           :   27 values, 11 not a name, e.g. «1Cor»\n",
      "\tbook_en        :   27 values, 11 not a name, e.g. «1_Corinthians»\n",
      "\tprefix         :   19 values, 19 not a name, e.g. «»\n",
      "\tprefix_etcbc   :   19 values, 1 not a name, e.g. «»\n",
      "\tprefix_sedra   :   19 values, 1 not a name, e.g. «»\n",
      "\tps             :    4 values, 3 not a name, e.g. «1»\n",
      "\tsfps           :    4 values, 3 not a name, e.g. «1»\n",
      "\tsuffix         :   51 values, 51 not a name, e.g. «»\n",
      "\tsuffix_etcbc   :   51 values, 2 not a name, e.g. «»\n",
      "\tsuffix_sedra   :   51 values, 31 not a name, e.g. «»\n",
      "   |     0.29s Writing an all-in-one enum with   56 values\n",
      "  0.30s Mapping 40 features onto 5 object types\n",
      "  0.56s Writing 40 features as data in 5 object types\n",
      "   |     0.00s word data ...\n",
      "   |      |     1.89s batch of size               27.6MB with   50000 of   50000 words\n",
      "   |      |     3.65s batch of size               27.7MB with   50000 of  100000 words\n",
      "   |      |     4.00s batch of size                5.4MB with    9640 of  109640 words\n",
      "   |     4.00s word data: 109640 objects\n",
      "   |     0.00s verse data ...\n",
      "   |      |     0.06s batch of size              800.7KB with    7957 of    7957 verses\n",
      "   |     0.06s verse data: 7957 objects\n",
      "   |     0.00s lexeme data ...\n",
      "   |      |     0.03s batch of size              388.9KB with    3038 of    3038 lexemes\n",
      "   |     0.04s lexeme data: 3038 objects\n",
      "   |     0.00s chapter data ...\n",
      "   |      |     0.01s batch of size               23.5KB with     260 of     260 chapters\n",
      "   |     0.01s chapter data: 260 objects\n",
      "   |     0.00s book data ...\n",
      "   |      |     0.01s batch of size                2.7KB with      27 of      27 books\n",
      "   |     0.01s book data: 27 objects\n",
      "  4.69s Done\n"
     ]
    }
   ],
   "source": [
    "TF.exportMQL('mysyrnt','~/Downloads')"
   ]
  },
  {
   "cell_type": "markdown",
   "metadata": {},
   "source": [
    "Now you have a file `~/Downloads/mysyrnt.mql` of 52 MB.\n",
    "You can import it into an Emdros database by saying:\n",
    "\n",
    "    cd ~/Downloads\n",
    "    rm mysyrnt\n",
    "    mql -b 3 < mysyrnt.mql\n",
    "    \n",
    "The result is an SQLite3 database `mysyrnt` in the same directory (17 MB).\n",
    "You can run a query against it by creating a text file test.mql with this contents:\n",
    "\n",
    "    select all objects where\n",
    "    [verse\n",
    "        [word FOCUS lexeme_ascii = 'WME']\n",
    "    ]\n",
    "    \n",
    "And then say\n",
    "\n",
    "    mql -b 3 -d mysyrnt test.mql\n",
    "    \n",
    "You will see raw query results: all word occurrences that belong to lexemes with `make` in their gloss.\n",
    "     \n",
    "It is not very pretty, and probably you should use a more visual Emdros tool to run those queries.\n",
    "You see a lot of node numbers, but the good thing is, you can look those node numbers up in Text-Fabric."
   ]
  }
 ],
 "metadata": {
  "kernelspec": {
   "display_name": "Python 3",
   "language": "python",
   "name": "python3"
  },
  "language_info": {
   "codemirror_mode": {
    "name": "ipython",
    "version": 3
   },
   "file_extension": ".py",
   "mimetype": "text/x-python",
   "name": "python",
   "nbconvert_exporter": "python",
   "pygments_lexer": "ipython3",
   "version": "3.7.1"
  },
  "toc": {
   "nav_menu": {},
   "number_sections": true,
   "sideBar": true,
   "skip_h1_title": false,
   "toc_cell": false,
   "toc_position": {},
   "toc_section_display": "block",
   "toc_window_display": false
  }
 },
 "nbformat": 4,
 "nbformat_minor": 2
}
