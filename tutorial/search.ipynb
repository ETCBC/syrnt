{
 "cells": [
  {
   "cell_type": "markdown",
   "metadata": {},
   "source": [
    "<img align=\"right\" src=\"images/tf.png\"/>\n",
    "<img align=\"right\" src=\"images/etcbc.png\"/>\n",
    "<img align=\"right\" src=\"images/logo.png\"/>\n",
    "\n",
    "# Search Introduction\n",
    "\n",
    "*Search* in Text-Fabric is a template based way of looking for structural patterns in your dataset.\n",
    "\n",
    "Within Text-Fabric we have the unique possibility to combine the ease of formulating search templates for\n",
    "complicated syntactical patterns with the power of programmatically processing the results.\n",
    "\n",
    "This notebook will show you how to get up and running.\n",
    "\n",
    "## Easy command\n",
    "\n",
    "Search is as simple as saying (just an example)\n",
    "\n",
    "```python\n",
    "results = A.search(template)\n",
    "A.show(results)\n",
    "```\n",
    "\n",
    "See all ins and outs in the\n",
    "[search template docs]().\n",
    "\n",
    "For the SyrNT, you use the `A` API, which relies on the more generic\n",
    "[`S` api](https://dans-labs.github.io/text-fabric/Api/General/#search-templates)\n",
    "of Text-Fabric."
   ]
  },
  {
   "cell_type": "markdown",
   "metadata": {},
   "source": [
    "# Incantation\n",
    "\n",
    "The ins and outs of installing Text-Fabric, getting the corpus, and initializing a notebook are\n",
    "explained in the [start tutorial](start.ipynb)."
   ]
  },
  {
   "cell_type": "code",
   "execution_count": 1,
   "metadata": {},
   "outputs": [],
   "source": [
    "%load_ext autoreload\n",
    "%autoreload 2"
   ]
  },
  {
   "cell_type": "code",
   "execution_count": 2,
   "metadata": {
    "ExecuteTime": {
     "end_time": "2018-05-24T10:06:39.818664Z",
     "start_time": "2018-05-24T10:06:39.796588Z"
    }
   },
   "outputs": [],
   "source": [
    "from tf.app import use"
   ]
  },
  {
   "cell_type": "code",
   "execution_count": 3,
   "metadata": {
    "ExecuteTime": {
     "end_time": "2018-05-24T10:06:51.615044Z",
     "start_time": "2018-05-24T10:06:50.161456Z"
    }
   },
   "outputs": [
    {
     "name": "stdout",
     "output_type": "stream",
     "text": [
      "Using etcbc/syrnt - 0.1 r0.3 in ~/text-fabric-data/etcbc/syrnt/tf/0.1\n"
     ]
    },
    {
     "data": {
      "text/markdown": [
       "**Documentation:** <a target=\"_blank\" href=\"https://github.com/etcbc/syrnt/blob/master/docs\" title=\"provenance of SyrNT\">SYRNT</a> <a target=\"_blank\" href=\"https://dans-labs.github.io/text-fabric/Writing/Syriac\" title=\"('Syriac characters and transcriptions',)\">Character table</a> <a target=\"_blank\" href=\"https://github.com/etcbc/syrnt/blob/master/docs/transcription-0.1.md#transcription.md\" title=\"SYRNT feature documentation\">Feature docs</a> <a target=\"_blank\" href=\"https://dans-labs.github.io/text-fabric/Api/Syrnt/\" title=\"syrnt API documentation\">syrnt API</a> <a target=\"_blank\" href=\"https://dans-labs.github.io/text-fabric/Api/General/\" title=\"text-fabric-api\">Text-Fabric API 6.4.6</a> <a target=\"_blank\" href=\"https://dans-labs.github.io/text-fabric/Api/General/#search-templates\" title=\"Search Templates Introduction and Reference\">Search Reference</a>"
      ],
      "text/plain": [
       "<IPython.core.display.Markdown object>"
      ]
     },
     "metadata": {},
     "output_type": "display_data"
    },
    {
     "data": {
      "text/html": [
       "<details open><summary><b>Loaded features</b>:</summary>\n",
       "<p><b>SyrNT</b>: <a target=\"_blank\" href=\"https://github.com/etcbc/syrnt/blob/master/docs/transcription-0.1.md#oslots\" title=\"/Users/dirk/text-fabric-data/etcbc/syrnt/tf/0.1/book.tf\">book</a>  <a target=\"_blank\" href=\"https://github.com/etcbc/syrnt/blob/master/docs/transcription-0.1.md#oslots\" title=\"/Users/dirk/text-fabric-data/etcbc/syrnt/tf/0.1/book@en.tf\">book@ll</a>  <a target=\"_blank\" href=\"https://github.com/etcbc/syrnt/blob/master/docs/transcription-0.1.md#oslots\" title=\"/Users/dirk/text-fabric-data/etcbc/syrnt/tf/0.1/chapter.tf\">chapter</a>  <a target=\"_blank\" href=\"https://github.com/etcbc/syrnt/blob/master/docs/transcription-0.1.md#oslots\" title=\"/Users/dirk/text-fabric-data/etcbc/syrnt/tf/0.1/demcat.tf\">demcat</a>  <a target=\"_blank\" href=\"https://github.com/etcbc/syrnt/blob/master/docs/transcription-0.1.md#oslots\" title=\"/Users/dirk/text-fabric-data/etcbc/syrnt/tf/0.1/fmhdot.tf\">fmhdot</a>  <a target=\"_blank\" href=\"https://github.com/etcbc/syrnt/blob/master/docs/transcription-0.1.md#oslots\" title=\"/Users/dirk/text-fabric-data/etcbc/syrnt/tf/0.1/gn.tf\">gn</a>  <a target=\"_blank\" href=\"https://github.com/etcbc/syrnt/blob/master/docs/transcription-0.1.md#oslots\" title=\"/Users/dirk/text-fabric-data/etcbc/syrnt/tf/0.1/lexeme.tf\">lexeme</a>  <a target=\"_blank\" href=\"https://github.com/etcbc/syrnt/blob/master/docs/transcription-0.1.md#oslots\" title=\"/Users/dirk/text-fabric-data/etcbc/syrnt/tf/0.1/lexeme_etcbc.tf\">lexeme_etcbc</a>  <a target=\"_blank\" href=\"https://github.com/etcbc/syrnt/blob/master/docs/transcription-0.1.md#oslots\" title=\"/Users/dirk/text-fabric-data/etcbc/syrnt/tf/0.1/lexeme_sedra.tf\">lexeme_sedra</a>  <a target=\"_blank\" href=\"https://github.com/etcbc/syrnt/blob/master/docs/transcription-0.1.md#oslots\" title=\"/Users/dirk/text-fabric-data/etcbc/syrnt/tf/0.1/nmtyp.tf\">nmtyp</a>  <a target=\"_blank\" href=\"https://github.com/etcbc/syrnt/blob/master/docs/transcription-0.1.md#oslots\" title=\"/Users/dirk/text-fabric-data/etcbc/syrnt/tf/0.1/ntyp.tf\">ntyp</a>  <a target=\"_blank\" href=\"https://github.com/etcbc/syrnt/blob/master/docs/transcription-0.1.md#oslots\" title=\"/Users/dirk/text-fabric-data/etcbc/syrnt/tf/0.1/nu.tf\">nu</a>  <a target=\"_blank\" href=\"https://github.com/etcbc/syrnt/blob/master/docs/transcription-0.1.md#oslots\" title=\"/Users/dirk/text-fabric-data/etcbc/syrnt/tf/0.1/otype.tf\">otype</a>  <a target=\"_blank\" href=\"https://github.com/etcbc/syrnt/blob/master/docs/transcription-0.1.md#oslots\" title=\"/Users/dirk/text-fabric-data/etcbc/syrnt/tf/0.1/prefix.tf\">prefix</a>  <a target=\"_blank\" href=\"https://github.com/etcbc/syrnt/blob/master/docs/transcription-0.1.md#oslots\" title=\"/Users/dirk/text-fabric-data/etcbc/syrnt/tf/0.1/prefix_etcbc.tf\">prefix_etcbc</a>  <a target=\"_blank\" href=\"https://github.com/etcbc/syrnt/blob/master/docs/transcription-0.1.md#oslots\" title=\"/Users/dirk/text-fabric-data/etcbc/syrnt/tf/0.1/prefix_sedra.tf\">prefix_sedra</a>  <a target=\"_blank\" href=\"https://github.com/etcbc/syrnt/blob/master/docs/transcription-0.1.md#oslots\" title=\"/Users/dirk/text-fabric-data/etcbc/syrnt/tf/0.1/prtyp.tf\">prtyp</a>  <a target=\"_blank\" href=\"https://github.com/etcbc/syrnt/blob/master/docs/transcription-0.1.md#oslots\" title=\"/Users/dirk/text-fabric-data/etcbc/syrnt/tf/0.1/ps.tf\">ps</a>  <a target=\"_blank\" href=\"https://github.com/etcbc/syrnt/blob/master/docs/transcription-0.1.md#oslots\" title=\"/Users/dirk/text-fabric-data/etcbc/syrnt/tf/0.1/ptctyp.tf\">ptctyp</a>  <a target=\"_blank\" href=\"https://github.com/etcbc/syrnt/blob/master/docs/transcription-0.1.md#oslots\" title=\"/Users/dirk/text-fabric-data/etcbc/syrnt/tf/0.1/root.tf\">root</a>  <a target=\"_blank\" href=\"https://github.com/etcbc/syrnt/blob/master/docs/transcription-0.1.md#oslots\" title=\"/Users/dirk/text-fabric-data/etcbc/syrnt/tf/0.1/root_etcbc.tf\">root_etcbc</a>  <a target=\"_blank\" href=\"https://github.com/etcbc/syrnt/blob/master/docs/transcription-0.1.md#oslots\" title=\"/Users/dirk/text-fabric-data/etcbc/syrnt/tf/0.1/root_sedra.tf\">root_sedra</a>  <a target=\"_blank\" href=\"https://github.com/etcbc/syrnt/blob/master/docs/transcription-0.1.md#oslots\" title=\"/Users/dirk/text-fabric-data/etcbc/syrnt/tf/0.1/seyame.tf\">seyame</a>  <a target=\"_blank\" href=\"https://github.com/etcbc/syrnt/blob/master/docs/transcription-0.1.md#oslots\" title=\"/Users/dirk/text-fabric-data/etcbc/syrnt/tf/0.1/sfcontract.tf\">sfcontract</a>  <a target=\"_blank\" href=\"https://github.com/etcbc/syrnt/blob/master/docs/transcription-0.1.md#oslots\" title=\"/Users/dirk/text-fabric-data/etcbc/syrnt/tf/0.1/sfgn.tf\">sfgn</a>  <a target=\"_blank\" href=\"https://github.com/etcbc/syrnt/blob/master/docs/transcription-0.1.md#oslots\" title=\"/Users/dirk/text-fabric-data/etcbc/syrnt/tf/0.1/sfnu.tf\">sfnu</a>  <a target=\"_blank\" href=\"https://github.com/etcbc/syrnt/blob/master/docs/transcription-0.1.md#oslots\" title=\"/Users/dirk/text-fabric-data/etcbc/syrnt/tf/0.1/sfps.tf\">sfps</a>  <a target=\"_blank\" href=\"https://github.com/etcbc/syrnt/blob/master/docs/transcription-0.1.md#oslots\" title=\"/Users/dirk/text-fabric-data/etcbc/syrnt/tf/0.1/sp.tf\">sp</a>  <a target=\"_blank\" href=\"https://github.com/etcbc/syrnt/blob/master/docs/transcription-0.1.md#oslots\" title=\"/Users/dirk/text-fabric-data/etcbc/syrnt/tf/0.1/st.tf\">st</a>  <a target=\"_blank\" href=\"https://github.com/etcbc/syrnt/blob/master/docs/transcription-0.1.md#oslots\" title=\"/Users/dirk/text-fabric-data/etcbc/syrnt/tf/0.1/stem.tf\">stem</a>  <a target=\"_blank\" href=\"https://github.com/etcbc/syrnt/blob/master/docs/transcription-0.1.md#oslots\" title=\"/Users/dirk/text-fabric-data/etcbc/syrnt/tf/0.1/stem_etcbc.tf\">stem_etcbc</a>  <a target=\"_blank\" href=\"https://github.com/etcbc/syrnt/blob/master/docs/transcription-0.1.md#oslots\" title=\"/Users/dirk/text-fabric-data/etcbc/syrnt/tf/0.1/stem_sedra.tf\">stem_sedra</a>  <a target=\"_blank\" href=\"https://github.com/etcbc/syrnt/blob/master/docs/transcription-0.1.md#oslots\" title=\"/Users/dirk/text-fabric-data/etcbc/syrnt/tf/0.1/suffix.tf\">suffix</a>  <a target=\"_blank\" href=\"https://github.com/etcbc/syrnt/blob/master/docs/transcription-0.1.md#oslots\" title=\"/Users/dirk/text-fabric-data/etcbc/syrnt/tf/0.1/suffix_etcbc.tf\">suffix_etcbc</a>  <a target=\"_blank\" href=\"https://github.com/etcbc/syrnt/blob/master/docs/transcription-0.1.md#oslots\" title=\"/Users/dirk/text-fabric-data/etcbc/syrnt/tf/0.1/suffix_sedra.tf\">suffix_sedra</a>  <a target=\"_blank\" href=\"https://github.com/etcbc/syrnt/blob/master/docs/transcription-0.1.md#oslots\" title=\"/Users/dirk/text-fabric-data/etcbc/syrnt/tf/0.1/verse.tf\">verse</a>  <a target=\"_blank\" href=\"https://github.com/etcbc/syrnt/blob/master/docs/transcription-0.1.md#oslots\" title=\"/Users/dirk/text-fabric-data/etcbc/syrnt/tf/0.1/vs.tf\">vs</a>  <a target=\"_blank\" href=\"https://github.com/etcbc/syrnt/blob/master/docs/transcription-0.1.md#oslots\" title=\"/Users/dirk/text-fabric-data/etcbc/syrnt/tf/0.1/vt.tf\">vt</a>  <a target=\"_blank\" href=\"https://github.com/etcbc/syrnt/blob/master/docs/transcription-0.1.md#oslots\" title=\"/Users/dirk/text-fabric-data/etcbc/syrnt/tf/0.1/word.tf\">word</a>  <a target=\"_blank\" href=\"https://github.com/etcbc/syrnt/blob/master/docs/transcription-0.1.md#oslots\" title=\"/Users/dirk/text-fabric-data/etcbc/syrnt/tf/0.1/word_etcbc.tf\">word_etcbc</a>  <a target=\"_blank\" href=\"https://github.com/etcbc/syrnt/blob/master/docs/transcription-0.1.md#oslots\" title=\"/Users/dirk/text-fabric-data/etcbc/syrnt/tf/0.1/word_sedra.tf\">word_sedra</a>  <b><i><a target=\"_blank\" href=\"https://github.com/etcbc/syrnt/blob/master/docs/transcription-0.1.md#oslots\" title=\"/Users/dirk/text-fabric-data/etcbc/syrnt/tf/0.1/oslots.tf\">oslots</a></i></b> </p></details>"
      ],
      "text/plain": [
       "<IPython.core.display.HTML object>"
      ]
     },
     "metadata": {},
     "output_type": "display_data"
    },
    {
     "data": {
      "text/html": [
       "\n",
       "<style>\n",
       "@font-face {\n",
       "  font-family: \"Estrangelo Edessa\";\n",
       "  src: url('https://github.com/Dans-labs/text-fabric/blob/master/tf/server/static/fonts/SyrCOMEdessa.otf?raw=true');\n",
       "  src: url('https://github.com/Dans-labs/text-fabric/blob/master/tf/server/static/fonts/SyrCOMEdessa.woff?raw=true') format('woff');\n",
       "}\n",
       "</style>\n",
       "\n",
       "<style type=\"text/css\">\n",
       ".features {\n",
       "    font-family: monospace;\n",
       "    font-size: medium;\n",
       "    font-weight: bold;\n",
       "    color: #0a6611;\n",
       "    display: flex;\n",
       "    flex-flow: column nowrap;\n",
       "    padding: 0.1em;\n",
       "    margin: 0.1em;\n",
       "    direction: ltr;\n",
       "}\n",
       ".features div,.features span {\n",
       "    padding: 0;\n",
       "    margin: -0.1rem 0;\n",
       "}\n",
       ".features .f {\n",
       "    font-family: sans-serif;\n",
       "    font-size: x-small;\n",
       "    font-weight: normal;\n",
       "    color: #5555bb;\n",
       "}\n",
       ".features .xft {\n",
       "  color: #000000;\n",
       "  background-color: #eeeeee;\n",
       "  font-size: medium;\n",
       "  margin: 0.1em 0em;\n",
       "}\n",
       ".features .xft .f {\n",
       "  color: #000000;\n",
       "  background-color: #eeeeee;\n",
       "  font-style: italic;\n",
       "  font-size: small;\n",
       "  font-weight: normal;\n",
       "}\n",
       ".verse {\n",
       "    display: flex;\n",
       "    flex-flow: row wrap;\n",
       "    direction: rtl;\n",
       "}\n",
       ".vl {\n",
       "    display: flex;\n",
       "    flex-flow: column nowrap;\n",
       "    justify-content: flex-end;\n",
       "    align-items: flex-end;\n",
       "    direction: ltr;\n",
       "    width: 100%;\n",
       "}\n",
       ".outeritem {\n",
       "    display: flex;\n",
       "    flex-flow: row wrap;\n",
       "    direction: rtl;\n",
       "}\n",
       ".word {\n",
       "    padding: 0.1em;\n",
       "    margin: 0.1em;\n",
       "    border-radius: 0.1em;\n",
       "    border: 1px solid #cccccc;\n",
       "    display: flex;\n",
       "    flex-flow: column nowrap;\n",
       "    direction: rtl;\n",
       "    background-color: #ffffff;\n",
       "}\n",
       ".lextp {\n",
       "    padding: 0.1em;\n",
       "    margin: 0.1em;\n",
       "    border-radius: 0.1em;\n",
       "    border: 2px solid #888888;\n",
       "    width: fit-content;\n",
       "    display: flex;\n",
       "    flex-flow: column nowrap;\n",
       "    direction: rtl;\n",
       "    background-color: #ffffff;\n",
       "}\n",
       ".occs {\n",
       "    font-size: x-small;\n",
       "}\n",
       ".tr,.tr a:visited,.tr a:link {\n",
       "    font-family: sans-serif;\n",
       "    font-size: large;\n",
       "    color: #000044;\n",
       "    direction: ltr;\n",
       "    text-decoration: none;\n",
       "}\n",
       ".trb,.trb a:visited,.trb a:link {\n",
       "    font-family: sans-serif;\n",
       "    font-size: normal;\n",
       "    direction: ltr;\n",
       "    text-decoration: none;\n",
       "}\n",
       ".sy,.sy a:visited,.sy a:link {\n",
       "    font-family: \"Estrangelo Edessa\", sans-serif;\n",
       "    font-size: large;\n",
       "    color: #000044;\n",
       "    direction: rtl;\n",
       "    text-decoration: none;\n",
       "}\n",
       ".syb,.syb a:visited,.syb a:link {\n",
       "    font-family: \"Estrangelo Edessa\", sans-serif;\n",
       "    font-size: large;\n",
       "    direction: rtl;\n",
       "    text-decoration: none;\n",
       "}\n",
       ".vn {\n",
       "  font-size: small !important;\n",
       "  padding-right: 1em;\n",
       "}\n",
       ".sp,.sp a:visited,.sp a:link {\n",
       "    font-family: monospace;\n",
       "    font-size: medium;\n",
       "    color: #0000bb;\n",
       "    text-decoration: none;\n",
       "}\n",
       ".lexeme {\n",
       "    font-family: monospace;\n",
       "    font-size: medium;\n",
       "    color: #0000bb;\n",
       "}\n",
       ".vs {\n",
       "    font-family: monospace;\n",
       "    font-size: medium;\n",
       "    font-weight: bold;\n",
       "    color: #0000bb;\n",
       "}\n",
       ".vt {\n",
       "    font-family: monospace;\n",
       "    font-size: medium;\n",
       "    font-weight: bold;\n",
       "    color: #0000bb;\n",
       "}\n",
       ".nd {\n",
       "    font-family: monospace;\n",
       "    font-size: x-small;\n",
       "    color: #999999;\n",
       "}\n",
       ".hl {\n",
       "    background-color: #ffee66;\n",
       "}\n",
       "</style>\n"
      ],
      "text/plain": [
       "<IPython.core.display.HTML object>"
      ]
     },
     "metadata": {},
     "output_type": "display_data"
    },
    {
     "data": {
      "text/html": [
       "<details open><summary><b>API members</b>:</summary>\n",
       "<a target=\"_blank\" href=\"https://dans-labs.github.io/text-fabric/Api/General/#computed-data\" title=\"doc\">C Computed</a>, <a target=\"_blank\" href=\"https://dans-labs.github.io/text-fabric/Api/General/#computed-data\" title=\"doc\">Call AllComputeds</a>, <a target=\"_blank\" href=\"https://dans-labs.github.io/text-fabric/Api/General/#computed-data\" title=\"doc\">Cs ComputedString</a><br/>\n",
       "<a target=\"_blank\" href=\"https://dans-labs.github.io/text-fabric/Api/General/#edge-features\" title=\"doc\">E Edge</a>, <a target=\"_blank\" href=\"https://dans-labs.github.io/text-fabric/Api/General/#edge-features\" title=\"doc\">Eall AllEdges</a>, <a target=\"_blank\" href=\"https://dans-labs.github.io/text-fabric/Api/General/#edge-features\" title=\"doc\">Es EdgeString</a><br/>\n",
       "<a target=\"_blank\" href=\"https://dans-labs.github.io/text-fabric/Api/General/#loading\" title=\"doc\">TF</a>, <a target=\"_blank\" href=\"https://dans-labs.github.io/text-fabric/Api/General/#loading\" title=\"doc\">ensureLoaded</a>, <a target=\"_blank\" href=\"https://dans-labs.github.io/text-fabric/Api/General/#loading\" title=\"doc\">ignored</a>, <a target=\"_blank\" href=\"https://dans-labs.github.io/text-fabric/Api/General/#loading\" title=\"doc\">loadLog</a><br/>\n",
       "<a target=\"_blank\" href=\"https://dans-labs.github.io/text-fabric/Api/General/#locality\" title=\"doc\">L Locality</a><br/>\n",
       "<a target=\"_blank\" href=\"https://dans-labs.github.io/text-fabric/Api/General/#messaging\" title=\"doc\">cache</a>, <a target=\"_blank\" href=\"https://dans-labs.github.io/text-fabric/Api/General/#messaging\" title=\"doc\">error</a>, <a target=\"_blank\" href=\"https://dans-labs.github.io/text-fabric/Api/General/#messaging\" title=\"doc\">indent</a>, <a target=\"_blank\" href=\"https://dans-labs.github.io/text-fabric/Api/General/#messaging\" title=\"doc\">info</a>, <a target=\"_blank\" href=\"https://dans-labs.github.io/text-fabric/Api/General/#messaging\" title=\"doc\">reset</a><br/>\n",
       "<a target=\"_blank\" href=\"https://dans-labs.github.io/text-fabric/Api/General/#navigating-nodes\" title=\"doc\">N Nodes</a>, <a target=\"_blank\" href=\"https://dans-labs.github.io/text-fabric/Api/General/#navigating-nodes\" title=\"doc\">sortKey</a>, <a target=\"_blank\" href=\"https://dans-labs.github.io/text-fabric/Api/General/#navigating-nodes\" title=\"doc\">otypeRank</a>, <a target=\"_blank\" href=\"https://dans-labs.github.io/text-fabric/Api/General/#navigating-nodes\" title=\"doc\">sortNodes</a><br/>\n",
       "<a target=\"_blank\" href=\"https://dans-labs.github.io/text-fabric/Api/General/#node-features\" title=\"doc\">F Feature</a>, <a target=\"_blank\" href=\"https://dans-labs.github.io/text-fabric/Api/General/#node-features\" title=\"doc\">Fall AllFeatures</a>, <a target=\"_blank\" href=\"https://dans-labs.github.io/text-fabric/Api/General/#node-features\" title=\"doc\">Fs FeatureString</a><br/>\n",
       "<a target=\"_blank\" href=\"https://dans-labs.github.io/text-fabric/Api/General/#searching\" title=\"doc\">S Search</a><br/>\n",
       "<a target=\"_blank\" href=\"https://dans-labs.github.io/text-fabric/Api/General/#text\" title=\"doc\">T Text</a></details>"
      ],
      "text/plain": [
       "<IPython.core.display.HTML object>"
      ]
     },
     "metadata": {},
     "output_type": "display_data"
    }
   ],
   "source": [
    "A = use('syrnt', hoist=globals())"
   ]
  },
  {
   "cell_type": "markdown",
   "metadata": {},
   "source": [
    "# Basic search command\n",
    "\n",
    "We start with the most simple form of issuing a query.\n",
    "Let's look for the words in Matthew, chapter 1.\n",
    "\n",
    "All work involved in searching takes place under the hood."
   ]
  },
  {
   "cell_type": "code",
   "execution_count": 4,
   "metadata": {
    "ExecuteTime": {
     "end_time": "2018-05-24T07:46:55.998382Z",
     "start_time": "2018-05-24T07:46:55.137956Z"
    }
   },
   "outputs": [
    {
     "name": "stdout",
     "output_type": "stream",
     "text": [
      "  0.03s 290 results\n"
     ]
    },
    {
     "data": {
      "text/markdown": [
       "n | book | chapter | word\n",
       "--- | --- | --- | ---\n",
       "1|<span class=\"trb\"><a href=\"https://github.com/etcbc/syrnt/blob/master/source/0.1/Matt\" title=\"Matthew\" sec=\"Matthew\">Matthew</a></span>|<span class=\"trb\">Matthew 1</span>|<span class=\"syb\">ܟܬܒܐ </span>\n",
       "2|<span class=\"trb\"><a href=\"https://github.com/etcbc/syrnt/blob/master/source/0.1/Matt\" title=\"Matthew\" sec=\"Matthew\">Matthew</a></span>|<span class=\"trb\">Matthew 1</span>|<span class=\"syb\">ܕܝܠܝܕܘܬܗ </span>\n",
       "3|<span class=\"trb\"><a href=\"https://github.com/etcbc/syrnt/blob/master/source/0.1/Matt\" title=\"Matthew\" sec=\"Matthew\">Matthew</a></span>|<span class=\"trb\">Matthew 1</span>|<span class=\"syb\">ܕܝܫܘܥ </span>\n",
       "4|<span class=\"trb\"><a href=\"https://github.com/etcbc/syrnt/blob/master/source/0.1/Matt\" title=\"Matthew\" sec=\"Matthew\">Matthew</a></span>|<span class=\"trb\">Matthew 1</span>|<span class=\"syb\">ܡܫܝܚܐ </span>\n",
       "5|<span class=\"trb\"><a href=\"https://github.com/etcbc/syrnt/blob/master/source/0.1/Matt\" title=\"Matthew\" sec=\"Matthew\">Matthew</a></span>|<span class=\"trb\">Matthew 1</span>|<span class=\"syb\">ܒܪܗ </span>\n",
       "6|<span class=\"trb\"><a href=\"https://github.com/etcbc/syrnt/blob/master/source/0.1/Matt\" title=\"Matthew\" sec=\"Matthew\">Matthew</a></span>|<span class=\"trb\">Matthew 1</span>|<span class=\"syb\">ܕܕܘܝܕ </span>\n",
       "7|<span class=\"trb\"><a href=\"https://github.com/etcbc/syrnt/blob/master/source/0.1/Matt\" title=\"Matthew\" sec=\"Matthew\">Matthew</a></span>|<span class=\"trb\">Matthew 1</span>|<span class=\"syb\">ܒܪܗ </span>\n",
       "8|<span class=\"trb\"><a href=\"https://github.com/etcbc/syrnt/blob/master/source/0.1/Matt\" title=\"Matthew\" sec=\"Matthew\">Matthew</a></span>|<span class=\"trb\">Matthew 1</span>|<span class=\"syb\">ܕܐܒܪܗܡ </span>\n",
       "9|<span class=\"trb\"><a href=\"https://github.com/etcbc/syrnt/blob/master/source/0.1/Matt\" title=\"Matthew\" sec=\"Matthew\">Matthew</a></span>|<span class=\"trb\">Matthew 1</span>|<span class=\"syb\">ܐܒܪܗܡ </span>\n",
       "10|<span class=\"trb\"><a href=\"https://github.com/etcbc/syrnt/blob/master/source/0.1/Matt\" title=\"Matthew\" sec=\"Matthew\">Matthew</a></span>|<span class=\"trb\">Matthew 1</span>|<span class=\"syb\">ܐܘܠܕ </span>"
      ],
      "text/plain": [
       "<IPython.core.display.Markdown object>"
      ]
     },
     "metadata": {},
     "output_type": "display_data"
    }
   ],
   "source": [
    "query = '''\n",
    "book book=Matt\n",
    "  chapter chapter=1\n",
    "    word\n",
    "'''\n",
    "results = A.search(query)\n",
    "A.table(results, end=10)"
   ]
  },
  {
   "cell_type": "markdown",
   "metadata": {},
   "source": [
    "The hyperlinks take us all to the beginning of the book of Matthew.\n",
    "\n",
    "Note that we can choose start and/or end points in the results list."
   ]
  },
  {
   "cell_type": "code",
   "execution_count": 5,
   "metadata": {
    "ExecuteTime": {
     "end_time": "2018-05-24T07:47:03.299872Z",
     "start_time": "2018-05-24T07:47:03.261873Z"
    }
   },
   "outputs": [
    {
     "data": {
      "text/markdown": [
       "n | book | chapter | word\n",
       "--- | --- | --- | ---\n",
       "8|<span class=\"trb\">Matthew</span>|<span class=\"trb\">Matthew 1</span>|<span class=\"syb\"><a href=\"https://github.com/etcbc/syrnt/blob/master/source/0.1/Matt\" title=\"Matthew 1:1\" sec=\"Matthew 1:1\">ܕܐܒܪܗܡ </a></span>\n",
       "9|<span class=\"trb\">Matthew</span>|<span class=\"trb\">Matthew 1</span>|<span class=\"syb\"><a href=\"https://github.com/etcbc/syrnt/blob/master/source/0.1/Matt\" title=\"Matthew 1:2\" sec=\"Matthew 1:2\">ܐܒܪܗܡ </a></span>\n",
       "10|<span class=\"trb\">Matthew</span>|<span class=\"trb\">Matthew 1</span>|<span class=\"syb\"><a href=\"https://github.com/etcbc/syrnt/blob/master/source/0.1/Matt\" title=\"Matthew 1:2\" sec=\"Matthew 1:2\">ܐܘܠܕ </a></span>\n",
       "11|<span class=\"trb\">Matthew</span>|<span class=\"trb\">Matthew 1</span>|<span class=\"syb\"><a href=\"https://github.com/etcbc/syrnt/blob/master/source/0.1/Matt\" title=\"Matthew 1:2\" sec=\"Matthew 1:2\">ܠܐܝܣܚܩ </a></span>\n",
       "12|<span class=\"trb\">Matthew</span>|<span class=\"trb\">Matthew 1</span>|<span class=\"syb\"><a href=\"https://github.com/etcbc/syrnt/blob/master/source/0.1/Matt\" title=\"Matthew 1:2\" sec=\"Matthew 1:2\">ܐܝܣܚܩ </a></span>\n",
       "13|<span class=\"trb\">Matthew</span>|<span class=\"trb\">Matthew 1</span>|<span class=\"syb\"><a href=\"https://github.com/etcbc/syrnt/blob/master/source/0.1/Matt\" title=\"Matthew 1:2\" sec=\"Matthew 1:2\">ܐܘܠܕ </a></span>"
      ],
      "text/plain": [
       "<IPython.core.display.Markdown object>"
      ]
     },
     "metadata": {},
     "output_type": "display_data"
    }
   ],
   "source": [
    "A.table(results, start=8, end=13, linked=3)"
   ]
  },
  {
   "cell_type": "markdown",
   "metadata": {},
   "source": [
    "We can show the results more fully with `show()`."
   ]
  },
  {
   "cell_type": "code",
   "execution_count": 6,
   "metadata": {
    "ExecuteTime": {
     "end_time": "2018-05-24T07:47:06.875859Z",
     "start_time": "2018-05-24T07:47:06.757345Z"
    }
   },
   "outputs": [
    {
     "data": {
      "text/markdown": [
       "\n",
       "\n",
       "**verse** *1*\n",
       "\n"
      ],
      "text/plain": [
       "<IPython.core.display.Markdown object>"
      ]
     },
     "metadata": {},
     "output_type": "display_data"
    },
    {
     "data": {
      "text/html": [
       "<div class=\"verse \" style=\"background-color: None;\">\n",
       "\n",
       "    <div class=\"vl\">\n",
       "        <div class=\"vrs\"><a href=\"https://github.com/etcbc/syrnt/blob/master/source/0.1/Matt\" title=\"show this passage in the SyrNT source\" sec=\"Matthew 1:1\">Matthew 1:1</a></div>\n",
       "        \n",
       "    </div>\n",
       "\n",
       "<div class=\"word  hl\">\n",
       "<div class=\"sy\">ܟܬܒܐ </div>\n",
       "<div class=\"features\"> <span class=\"word_etcbc\">KTB></span> <span class=\"lexeme_etcbc\">KTB></span> <span class=\"sp\">noun</span></div>\n",
       "\n",
       "\n",
       "</div>\n",
       "\n",
       "<div class=\"word  hl\">\n",
       "<div class=\"sy\">ܕܝܠܝܕܘܬܗ </div>\n",
       "<div class=\"features\"> <span class=\"word_etcbc\">DJLJDWTH</span> <span class=\"lexeme_etcbc\">JLJDWT></span> <span class=\"sp\">noun</span></div>\n",
       "\n",
       "\n",
       "</div>\n",
       "\n",
       "<div class=\"word  hl\">\n",
       "<div class=\"sy\">ܕܝܫܘܥ </div>\n",
       "<div class=\"features\"> <span class=\"word_etcbc\">DJCW&lt;</span> <span class=\"lexeme_etcbc\">JCW&lt;</span> <span class=\"sp\">noun</span></div>\n",
       "\n",
       "\n",
       "</div>\n",
       "\n",
       "<div class=\"word  hl\">\n",
       "<div class=\"sy\">ܡܫܝܚܐ </div>\n",
       "<div class=\"features\"> <span class=\"word_etcbc\">MCJX></span> <span class=\"lexeme_etcbc\">MCJX></span> <span class=\"sp\">verb</span> <span class=\"vs\">peal</span></div>\n",
       "\n",
       "\n",
       "</div>\n",
       "\n",
       "<div class=\"word  hl\">\n",
       "<div class=\"sy\">ܒܪܗ </div>\n",
       "<div class=\"features\"> <span class=\"word_etcbc\">BRH</span> <span class=\"lexeme_etcbc\">BR></span> <span class=\"sp\">noun</span></div>\n",
       "\n",
       "\n",
       "</div>\n",
       "\n",
       "<div class=\"word  hl\">\n",
       "<div class=\"sy\">ܕܕܘܝܕ </div>\n",
       "<div class=\"features\"> <span class=\"word_etcbc\">DDWJD</span> <span class=\"lexeme_etcbc\">DWJD</span> <span class=\"sp\">noun</span></div>\n",
       "\n",
       "\n",
       "</div>\n",
       "\n",
       "<div class=\"word  hl\">\n",
       "<div class=\"sy\">ܒܪܗ </div>\n",
       "<div class=\"features\"> <span class=\"word_etcbc\">BRH</span> <span class=\"lexeme_etcbc\">BR></span> <span class=\"sp\">noun</span></div>\n",
       "\n",
       "\n",
       "</div>\n",
       "\n",
       "<div class=\"word  hl\">\n",
       "<div class=\"sy\">ܕܐܒܪܗܡ </div>\n",
       "<div class=\"features\"> <span class=\"word_etcbc\">D>BRHM</span> <span class=\"lexeme_etcbc\">>BRHM</span> <span class=\"sp\">noun</span></div>\n",
       "\n",
       "\n",
       "</div>\n",
       "\n",
       "\n",
       "</div>\n"
      ],
      "text/plain": [
       "<IPython.core.display.HTML object>"
      ]
     },
     "metadata": {},
     "output_type": "display_data"
    },
    {
     "data": {
      "text/markdown": [
       "\n",
       "\n",
       "**verse** *2*\n",
       "\n"
      ],
      "text/plain": [
       "<IPython.core.display.Markdown object>"
      ]
     },
     "metadata": {},
     "output_type": "display_data"
    },
    {
     "data": {
      "text/html": [
       "<div class=\"verse \" style=\"background-color: None;\">\n",
       "\n",
       "    <div class=\"vl\">\n",
       "        <div class=\"vrs\"><a href=\"https://github.com/etcbc/syrnt/blob/master/source/0.1/Matt\" title=\"show this passage in the SyrNT source\" sec=\"Matthew 1:2\">Matthew 1:2</a></div>\n",
       "        \n",
       "    </div>\n",
       "\n",
       "<div class=\"word  hl\">\n",
       "<div class=\"sy\">ܐܒܪܗܡ </div>\n",
       "<div class=\"features\"> <span class=\"word_etcbc\">>BRHM</span> <span class=\"lexeme_etcbc\">>BRHM</span> <span class=\"sp\">noun</span></div>\n",
       "\n",
       "\n",
       "</div>\n",
       "\n",
       "<div class=\"word  hl\">\n",
       "<div class=\"sy\">ܐܘܠܕ </div>\n",
       "<div class=\"features\"> <span class=\"word_etcbc\">>WLD</span> <span class=\"lexeme_etcbc\">JLD</span> <span class=\"sp\">verb</span> <span class=\"vs\">aphel</span> <span class=\"vt\">perfect</span></div>\n",
       "\n",
       "\n",
       "</div>\n",
       "\n",
       "<div class=\"word  hl\">\n",
       "<div class=\"sy\">ܠܐܝܣܚܩ </div>\n",
       "<div class=\"features\"> <span class=\"word_etcbc\">L>JSXQ</span> <span class=\"lexeme_etcbc\">>JSXQ</span> <span class=\"sp\">noun</span></div>\n",
       "\n",
       "\n",
       "</div>\n",
       "\n",
       "<div class=\"word  hl\">\n",
       "<div class=\"sy\">ܐܝܣܚܩ </div>\n",
       "<div class=\"features\"> <span class=\"word_etcbc\">>JSXQ</span> <span class=\"lexeme_etcbc\">>JSXQ</span> <span class=\"sp\">noun</span></div>\n",
       "\n",
       "\n",
       "</div>\n",
       "\n",
       "<div class=\"word  hl\">\n",
       "<div class=\"sy\">ܐܘܠܕ </div>\n",
       "<div class=\"features\"> <span class=\"word_etcbc\">>WLD</span> <span class=\"lexeme_etcbc\">JLD</span> <span class=\"sp\">verb</span> <span class=\"vs\">aphel</span> <span class=\"vt\">perfect</span></div>\n",
       "\n",
       "\n",
       "</div>\n",
       "\n",
       "<div class=\"word  hl\">\n",
       "<div class=\"sy\">ܠܝܥܩܘܒ </div>\n",
       "<div class=\"features\"> <span class=\"word_etcbc\">LJ&lt;QWB</span> <span class=\"lexeme_etcbc\">J&lt;QWB</span> <span class=\"sp\">noun</span></div>\n",
       "\n",
       "\n",
       "</div>\n",
       "\n",
       "<div class=\"word  hl\">\n",
       "<div class=\"sy\">ܝܥܩܘܒ </div>\n",
       "<div class=\"features\"> <span class=\"word_etcbc\">J&lt;QWB</span> <span class=\"lexeme_etcbc\">J&lt;QWB</span> <span class=\"sp\">noun</span></div>\n",
       "\n",
       "\n",
       "</div>\n",
       "\n",
       "<div class=\"word  hl\">\n",
       "<div class=\"sy\">ܐܘܠܕ </div>\n",
       "<div class=\"features\"> <span class=\"word_etcbc\">>WLD</span> <span class=\"lexeme_etcbc\">JLD</span> <span class=\"sp\">verb</span> <span class=\"vs\">aphel</span> <span class=\"vt\">perfect</span></div>\n",
       "\n",
       "\n",
       "</div>\n",
       "\n",
       "<div class=\"word  hl\">\n",
       "<div class=\"sy\">ܠܝܗܘܕܐ </div>\n",
       "<div class=\"features\"> <span class=\"word_etcbc\">LJHWD></span> <span class=\"lexeme_etcbc\">JHWD></span> <span class=\"sp\">noun</span></div>\n",
       "\n",
       "\n",
       "</div>\n",
       "\n",
       "<div class=\"word  hl\">\n",
       "<div class=\"sy\">ܘܠܐܚܘܗܝ </div>\n",
       "<div class=\"features\"> <span class=\"word_etcbc\">WL>XWHJ</span> <span class=\"lexeme_etcbc\">>X></span> <span class=\"sp\">noun</span></div>\n",
       "\n",
       "\n",
       "</div>\n",
       "\n",
       "\n",
       "</div>\n"
      ],
      "text/plain": [
       "<IPython.core.display.HTML object>"
      ]
     },
     "metadata": {},
     "output_type": "display_data"
    },
    {
     "data": {
      "text/markdown": [
       "\n",
       "\n",
       "**verse** *3*\n",
       "\n"
      ],
      "text/plain": [
       "<IPython.core.display.Markdown object>"
      ]
     },
     "metadata": {},
     "output_type": "display_data"
    },
    {
     "data": {
      "text/html": [
       "<div class=\"verse \" style=\"background-color: None;\">\n",
       "\n",
       "    <div class=\"vl\">\n",
       "        <div class=\"vrs\"><a href=\"https://github.com/etcbc/syrnt/blob/master/source/0.1/Matt\" title=\"show this passage in the SyrNT source\" sec=\"Matthew 1:3\">Matthew 1:3</a></div>\n",
       "        \n",
       "    </div>\n",
       "\n",
       "<div class=\"word  hl\">\n",
       "<div class=\"sy\">ܝܗܘܕܐ </div>\n",
       "<div class=\"features\"> <span class=\"word_etcbc\">JHWD></span> <span class=\"lexeme_etcbc\">JHWD></span> <span class=\"sp\">noun</span></div>\n",
       "\n",
       "\n",
       "</div>\n",
       "\n",
       "<div class=\"word  hl\">\n",
       "<div class=\"sy\">ܐܘܠܕ </div>\n",
       "<div class=\"features\"> <span class=\"word_etcbc\">>WLD</span> <span class=\"lexeme_etcbc\">JLD</span> <span class=\"sp\">verb</span> <span class=\"vs\">aphel</span> <span class=\"vt\">perfect</span></div>\n",
       "\n",
       "\n",
       "</div>\n",
       "\n",
       "<div class=\"word  hl\">\n",
       "<div class=\"sy\">ܠܦܪܨ </div>\n",
       "<div class=\"features\"> <span class=\"word_etcbc\">LPRY</span> <span class=\"lexeme_etcbc\">PRY</span> <span class=\"sp\">noun</span></div>\n",
       "\n",
       "\n",
       "</div>\n",
       "\n",
       "<div class=\"word  hl\">\n",
       "<div class=\"sy\">ܘܠܙܪܚ </div>\n",
       "<div class=\"features\"> <span class=\"word_etcbc\">WLZRX</span> <span class=\"lexeme_etcbc\">ZRX</span> <span class=\"sp\">noun</span></div>\n",
       "\n",
       "\n",
       "</div>\n",
       "\n",
       "<div class=\"word  hl\">\n",
       "<div class=\"sy\">ܡܢ </div>\n",
       "<div class=\"features\"> <span class=\"word_etcbc\">MN</span> <span class=\"lexeme_etcbc\">MN</span> <span class=\"sp\">particle</span></div>\n",
       "\n",
       "\n",
       "</div>\n",
       "\n",
       "<div class=\"word  hl\">\n",
       "<div class=\"sy\">ܬܡܪ </div>\n",
       "<div class=\"features\"> <span class=\"word_etcbc\">TMR</span> <span class=\"lexeme_etcbc\">TMR</span> <span class=\"sp\">noun</span></div>\n",
       "\n",
       "\n",
       "</div>\n",
       "\n",
       "<div class=\"word  hl\">\n",
       "<div class=\"sy\">ܦܪܨ </div>\n",
       "<div class=\"features\"> <span class=\"word_etcbc\">PRY</span> <span class=\"lexeme_etcbc\">PRY</span> <span class=\"sp\">noun</span></div>\n",
       "\n",
       "\n",
       "</div>\n",
       "\n",
       "<div class=\"word  hl\">\n",
       "<div class=\"sy\">ܐܘܠܕ </div>\n",
       "<div class=\"features\"> <span class=\"word_etcbc\">>WLD</span> <span class=\"lexeme_etcbc\">JLD</span> <span class=\"sp\">verb</span> <span class=\"vs\">aphel</span> <span class=\"vt\">perfect</span></div>\n",
       "\n",
       "\n",
       "</div>\n",
       "\n",
       "<div class=\"word  hl\">\n",
       "<div class=\"sy\">ܠܚܨܪܘܢ </div>\n",
       "<div class=\"features\"> <span class=\"word_etcbc\">LXYRWN</span> <span class=\"lexeme_etcbc\">XYRWN</span> <span class=\"sp\">noun</span></div>\n",
       "\n",
       "\n",
       "</div>\n",
       "\n",
       "<div class=\"word  hl\">\n",
       "<div class=\"sy\">ܚܨܪܘܢ </div>\n",
       "<div class=\"features\"> <span class=\"word_etcbc\">XYRWN</span> <span class=\"lexeme_etcbc\">XYRWN</span> <span class=\"sp\">noun</span></div>\n",
       "\n",
       "\n",
       "</div>\n",
       "\n",
       "<div class=\"word  hl\">\n",
       "<div class=\"sy\">ܐܘܠܕ </div>\n",
       "<div class=\"features\"> <span class=\"word_etcbc\">>WLD</span> <span class=\"lexeme_etcbc\">JLD</span> <span class=\"sp\">verb</span> <span class=\"vs\">aphel</span> <span class=\"vt\">perfect</span></div>\n",
       "\n",
       "\n",
       "</div>\n",
       "\n",
       "<div class=\"word  hl\">\n",
       "<div class=\"sy\">ܠܐܪܡ </div>\n",
       "<div class=\"features\"> <span class=\"word_etcbc\">L>RM</span> <span class=\"lexeme_etcbc\">>RM</span> <span class=\"sp\">noun</span></div>\n",
       "\n",
       "\n",
       "</div>\n",
       "\n",
       "\n",
       "</div>\n"
      ],
      "text/plain": [
       "<IPython.core.display.HTML object>"
      ]
     },
     "metadata": {},
     "output_type": "display_data"
    }
   ],
   "source": [
    "A.show(results, start=1, end=3)"
   ]
  },
  {
   "cell_type": "markdown",
   "metadata": {},
   "source": [
    "# Next\n",
    "\n",
    "You know how to run queries and show off with their results.\n",
    "\n",
    "The next thing is to dive deeper into the power of templates.\n",
    "But for that you have to go to the\n",
    "[search tutorial of the BHSA](https://nbviewer.jupyter.org/github/etcbc/bhsa/blob/master/tutorial/search.ipynb)\n",
    "since that data set has much more features to play with.\n",
    "\n",
    "---\n",
    "\n",
    "basic\n",
    "[BHSA](https://nbviewer.jupyter.org/github/etcbc/bhsa/blob/master/tutorial/search.ipynb)"
   ]
  },
  {
   "cell_type": "code",
   "execution_count": null,
   "metadata": {},
   "outputs": [],
   "source": []
  }
 ],
 "metadata": {
  "kernelspec": {
   "display_name": "Python 3",
   "language": "python",
   "name": "python3"
  },
  "language_info": {
   "codemirror_mode": {
    "name": "ipython",
    "version": 3
   },
   "file_extension": ".py",
   "mimetype": "text/x-python",
   "name": "python",
   "nbconvert_exporter": "python",
   "pygments_lexer": "ipython3",
   "version": "3.7.1"
  }
 },
 "nbformat": 4,
 "nbformat_minor": 2
}
