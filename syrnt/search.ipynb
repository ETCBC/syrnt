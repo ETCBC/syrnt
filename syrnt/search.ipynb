{
 "cells": [
  {
   "cell_type": "markdown",
   "metadata": {},
   "source": [
    "<img align=\"right\" src=\"images/tf.png\"/>\n",
    "<img align=\"right\" src=\"images/etcbc.png\"/>\n",
    "<img align=\"right\" src=\"images/logo.png\"/>\n",
    "\n",
    "# Search Introduction\n",
    "\n",
    "*Search* in Text-Fabric is a template based way of looking for structural patterns in your dataset.\n",
    "\n",
    "Within Text-Fabric we have the unique possibility to combine the ease of formulating search templates for\n",
    "complicated syntactical patterns with the power of programmatically processing the results.\n",
    "\n",
    "This notebook will show you how to get up and running.\n",
    "\n",
    "## Easy command\n",
    "\n",
    "Search is as simple as saying (just an example)\n",
    "\n",
    "```python\n",
    "results = A.search(template)\n",
    "A.show(results)\n",
    "```\n",
    "\n",
    "See all ins and outs in the\n",
    "[search template docs](https://annotation.github.io/text-fabric/tf/about/searchusage.html)."
   ]
  },
  {
   "cell_type": "markdown",
   "metadata": {},
   "source": [
    "# Incantation\n",
    "\n",
    "The ins and outs of installing Text-Fabric, getting the corpus, and initializing a notebook are\n",
    "explained in the [start tutorial](start.ipynb)."
   ]
  },
  {
   "cell_type": "code",
   "execution_count": 1,
   "metadata": {},
   "outputs": [],
   "source": [
    "%load_ext autoreload\n",
    "%autoreload 2"
   ]
  },
  {
   "cell_type": "code",
   "execution_count": 2,
   "metadata": {
    "ExecuteTime": {
     "end_time": "2018-05-24T10:06:39.818664Z",
     "start_time": "2018-05-24T10:06:39.796588Z"
    }
   },
   "outputs": [],
   "source": [
    "from tf.app import use"
   ]
  },
  {
   "cell_type": "code",
   "execution_count": 3,
   "metadata": {
    "ExecuteTime": {
     "end_time": "2018-05-24T10:06:51.615044Z",
     "start_time": "2018-05-24T10:06:50.161456Z"
    }
   },
   "outputs": [
    {
     "data": {
      "text/html": [
       "<b title=\"local github\">TF-app:</b> <span title=\"repo clone offline under ~/github\">~/github/annotation/app-syrnt/code</span>"
      ],
      "text/plain": [
       "<IPython.core.display.HTML object>"
      ]
     },
     "metadata": {},
     "output_type": "display_data"
    },
    {
     "data": {
      "text/html": [
       "<b title=\"local github\">data:</b> <span title=\"repo clone offline under ~/github\">~/github/etcbc/syrnt/tf/0.1</span>"
      ],
      "text/plain": [
       "<IPython.core.display.HTML object>"
      ]
     },
     "metadata": {},
     "output_type": "display_data"
    },
    {
     "data": {
      "text/html": [
       "<b>Text-Fabric:</b> <a target=\"_blank\" href=\"https://annotation.github.io/text-fabric/cheatsheet.html\" title=\"text-fabric-api\">Text-Fabric API 8.3.0</a>, <a target=\"_blank\" href=\"https://github.com/annotation/app-syrnt\" title=\"syrnt TF-app\">app-syrnt</a>, <a target=\"_blank\" href=\"https://annotation.github.io/text-fabric/about/searchusage.html\" title=\"Search Templates Introduction and Reference\">Search Reference</a><br><b>Data:</b> <a target=\"_blank\" href=\"https://github.com/etcbc/syrnt/blob/master/docs/transcription.md\" title=\"provenance of SyrNT\">SYRNT</a>, <a target=\"_blank\" href=\"https://annotation.github.io/text-fabric/writing/syriac.html\" title=\"How TF features represent text\">Character table</a>, <a target=\"_blank\" href=\"https://github.com/etcbc/syrnt/blob/master/docs/transcription-0.1.md\" title=\"SYRNT feature documentation\">Feature docs</a><br><b>Features:</b><br><details><summary><b>SyrNT</b></summary><a target=\"_blank\" href=\"https://github.com/etcbc/syrnt/blob/master/docs/transcription-0.1.md\" title=\"~/github/etcbc/syrnt/tf/0.1/book.tf\">book</a><br><a target=\"_blank\" href=\"https://github.com/etcbc/syrnt/blob/master/docs/transcription-0.1.md\" title=\"~/github/etcbc/syrnt/tf/0.1/book@en.tf\">book@ll</a><br><a target=\"_blank\" href=\"https://github.com/etcbc/syrnt/blob/master/docs/transcription-0.1.md\" title=\"~/github/etcbc/syrnt/tf/0.1/chapter.tf\">chapter</a><br><a target=\"_blank\" href=\"https://github.com/etcbc/syrnt/blob/master/docs/transcription-0.1.md\" title=\"~/github/etcbc/syrnt/tf/0.1/demcat.tf\">demcat</a><br><a target=\"_blank\" href=\"https://github.com/etcbc/syrnt/blob/master/docs/transcription-0.1.md\" title=\"~/github/etcbc/syrnt/tf/0.1/fmhdot.tf\">fmhdot</a><br><a target=\"_blank\" href=\"https://github.com/etcbc/syrnt/blob/master/docs/transcription-0.1.md\" title=\"~/github/etcbc/syrnt/tf/0.1/gn.tf\">gn</a><br><a target=\"_blank\" href=\"https://github.com/etcbc/syrnt/blob/master/docs/transcription-0.1.md\" title=\"~/github/etcbc/syrnt/tf/0.1/lexeme.tf\">lexeme</a><br><a target=\"_blank\" href=\"https://github.com/etcbc/syrnt/blob/master/docs/transcription-0.1.md\" title=\"~/github/etcbc/syrnt/tf/0.1/lexeme_etcbc.tf\">lexeme_etcbc</a><br><a target=\"_blank\" href=\"https://github.com/etcbc/syrnt/blob/master/docs/transcription-0.1.md\" title=\"~/github/etcbc/syrnt/tf/0.1/lexeme_sedra.tf\">lexeme_sedra</a><br><a target=\"_blank\" href=\"https://github.com/etcbc/syrnt/blob/master/docs/transcription-0.1.md\" title=\"~/github/etcbc/syrnt/tf/0.1/nmtyp.tf\">nmtyp</a><br><a target=\"_blank\" href=\"https://github.com/etcbc/syrnt/blob/master/docs/transcription-0.1.md\" title=\"~/github/etcbc/syrnt/tf/0.1/ntyp.tf\">ntyp</a><br><a target=\"_blank\" href=\"https://github.com/etcbc/syrnt/blob/master/docs/transcription-0.1.md\" title=\"~/github/etcbc/syrnt/tf/0.1/nu.tf\">nu</a><br><a target=\"_blank\" href=\"https://github.com/etcbc/syrnt/blob/master/docs/transcription-0.1.md\" title=\"~/github/etcbc/syrnt/tf/0.1/otype.tf\">otype</a><br><a target=\"_blank\" href=\"https://github.com/etcbc/syrnt/blob/master/docs/transcription-0.1.md\" title=\"~/github/etcbc/syrnt/tf/0.1/prefix.tf\">prefix</a><br><a target=\"_blank\" href=\"https://github.com/etcbc/syrnt/blob/master/docs/transcription-0.1.md\" title=\"~/github/etcbc/syrnt/tf/0.1/prefix_etcbc.tf\">prefix_etcbc</a><br><a target=\"_blank\" href=\"https://github.com/etcbc/syrnt/blob/master/docs/transcription-0.1.md\" title=\"~/github/etcbc/syrnt/tf/0.1/prefix_sedra.tf\">prefix_sedra</a><br><a target=\"_blank\" href=\"https://github.com/etcbc/syrnt/blob/master/docs/transcription-0.1.md\" title=\"~/github/etcbc/syrnt/tf/0.1/prtyp.tf\">prtyp</a><br><a target=\"_blank\" href=\"https://github.com/etcbc/syrnt/blob/master/docs/transcription-0.1.md\" title=\"~/github/etcbc/syrnt/tf/0.1/ps.tf\">ps</a><br><a target=\"_blank\" href=\"https://github.com/etcbc/syrnt/blob/master/docs/transcription-0.1.md\" title=\"~/github/etcbc/syrnt/tf/0.1/ptctyp.tf\">ptctyp</a><br><a target=\"_blank\" href=\"https://github.com/etcbc/syrnt/blob/master/docs/transcription-0.1.md\" title=\"~/github/etcbc/syrnt/tf/0.1/root.tf\">root</a><br><a target=\"_blank\" href=\"https://github.com/etcbc/syrnt/blob/master/docs/transcription-0.1.md\" title=\"~/github/etcbc/syrnt/tf/0.1/root_etcbc.tf\">root_etcbc</a><br><a target=\"_blank\" href=\"https://github.com/etcbc/syrnt/blob/master/docs/transcription-0.1.md\" title=\"~/github/etcbc/syrnt/tf/0.1/root_sedra.tf\">root_sedra</a><br><a target=\"_blank\" href=\"https://github.com/etcbc/syrnt/blob/master/docs/transcription-0.1.md\" title=\"~/github/etcbc/syrnt/tf/0.1/seyame.tf\">seyame</a><br><a target=\"_blank\" href=\"https://github.com/etcbc/syrnt/blob/master/docs/transcription-0.1.md\" title=\"~/github/etcbc/syrnt/tf/0.1/sfcontract.tf\">sfcontract</a><br><a target=\"_blank\" href=\"https://github.com/etcbc/syrnt/blob/master/docs/transcription-0.1.md\" title=\"~/github/etcbc/syrnt/tf/0.1/sfgn.tf\">sfgn</a><br><a target=\"_blank\" href=\"https://github.com/etcbc/syrnt/blob/master/docs/transcription-0.1.md\" title=\"~/github/etcbc/syrnt/tf/0.1/sfnu.tf\">sfnu</a><br><a target=\"_blank\" href=\"https://github.com/etcbc/syrnt/blob/master/docs/transcription-0.1.md\" title=\"~/github/etcbc/syrnt/tf/0.1/sfps.tf\">sfps</a><br><a target=\"_blank\" href=\"https://github.com/etcbc/syrnt/blob/master/docs/transcription-0.1.md\" title=\"~/github/etcbc/syrnt/tf/0.1/sp.tf\">sp</a><br><a target=\"_blank\" href=\"https://github.com/etcbc/syrnt/blob/master/docs/transcription-0.1.md\" title=\"~/github/etcbc/syrnt/tf/0.1/st.tf\">st</a><br><a target=\"_blank\" href=\"https://github.com/etcbc/syrnt/blob/master/docs/transcription-0.1.md\" title=\"~/github/etcbc/syrnt/tf/0.1/stem.tf\">stem</a><br><a target=\"_blank\" href=\"https://github.com/etcbc/syrnt/blob/master/docs/transcription-0.1.md\" title=\"~/github/etcbc/syrnt/tf/0.1/stem_etcbc.tf\">stem_etcbc</a><br><a target=\"_blank\" href=\"https://github.com/etcbc/syrnt/blob/master/docs/transcription-0.1.md\" title=\"~/github/etcbc/syrnt/tf/0.1/stem_sedra.tf\">stem_sedra</a><br><a target=\"_blank\" href=\"https://github.com/etcbc/syrnt/blob/master/docs/transcription-0.1.md\" title=\"~/github/etcbc/syrnt/tf/0.1/suffix.tf\">suffix</a><br><a target=\"_blank\" href=\"https://github.com/etcbc/syrnt/blob/master/docs/transcription-0.1.md\" title=\"~/github/etcbc/syrnt/tf/0.1/suffix_etcbc.tf\">suffix_etcbc</a><br><a target=\"_blank\" href=\"https://github.com/etcbc/syrnt/blob/master/docs/transcription-0.1.md\" title=\"~/github/etcbc/syrnt/tf/0.1/suffix_sedra.tf\">suffix_sedra</a><br><a target=\"_blank\" href=\"https://github.com/etcbc/syrnt/blob/master/docs/transcription-0.1.md\" title=\"~/github/etcbc/syrnt/tf/0.1/verse.tf\">verse</a><br><a target=\"_blank\" href=\"https://github.com/etcbc/syrnt/blob/master/docs/transcription-0.1.md\" title=\"~/github/etcbc/syrnt/tf/0.1/vs.tf\">vs</a><br><a target=\"_blank\" href=\"https://github.com/etcbc/syrnt/blob/master/docs/transcription-0.1.md\" title=\"~/github/etcbc/syrnt/tf/0.1/vt.tf\">vt</a><br><a target=\"_blank\" href=\"https://github.com/etcbc/syrnt/blob/master/docs/transcription-0.1.md\" title=\"~/github/etcbc/syrnt/tf/0.1/word.tf\">word</a><br><a target=\"_blank\" href=\"https://github.com/etcbc/syrnt/blob/master/docs/transcription-0.1.md\" title=\"~/github/etcbc/syrnt/tf/0.1/word_etcbc.tf\">word_etcbc</a><br><a target=\"_blank\" href=\"https://github.com/etcbc/syrnt/blob/master/docs/transcription-0.1.md\" title=\"~/github/etcbc/syrnt/tf/0.1/word_sedra.tf\">word_sedra</a><br><b><i><a target=\"_blank\" href=\"https://github.com/etcbc/syrnt/blob/master/docs/transcription-0.1.md\" title=\"~/github/etcbc/syrnt/tf/0.1/oslots.tf\">oslots</a></i></b><br></details>"
      ],
      "text/plain": [
       "<IPython.core.display.HTML object>"
      ]
     },
     "metadata": {},
     "output_type": "display_data"
    },
    {
     "data": {
      "text/html": [
       "<style>tr.tf.ltr, td.tf.ltr, th.tf.ltr { text-align: left ! important;}\n",
       "tr.tf.rtl, td.tf.rtl, th.tf.rtl { text-align: right ! important;}\n",
       "@font-face {\n",
       "  font-family: \"Ezra SIL\";\n",
       "  src: local('Ezra SIL'), local('EzraSIL'),\n",
       "    url('/server/static/fonts/SILEOT.woff') format('woff'),\n",
       "    url('https://github.com/annotation/text-fabric/blob/master/tf/server/static/fonts/SILEOT.woff?raw=true') format('woff');\n",
       "}\n",
       "\n",
       "@font-face {\n",
       "  font-family: \"SBL Hebrew\";\n",
       "  src: local('SBL Hebrew'), local('SBLHebrew'),\n",
       "    url('/server/static/fonts/SBL_Hbrw.woff') format('woff'),\n",
       "    url('https://github.com/annotation/text-fabric/blob/master/tf/server/static/fonts/SBL_Hbrw.woff?raw=true') format('woff');\n",
       "}\n",
       "\n",
       "@font-face {\n",
       "  font-family: \"Estrangelo Edessa\";\n",
       "  src: local('Estrangelo Edessa'), local('EstrangeloEdessa');\n",
       "    url('/server/static/fonts/SyrCOMEdessa.woff') format('woff'),\n",
       "    url('https://github.com/annotation/text-fabric/blob/master/tf/server/static/fonts/SyrCOMEdessa.woff?raw=true') format('woff');\n",
       "}\n",
       "\n",
       "@font-face {\n",
       "  font-family: AmiriQuran;\n",
       "  font-style: normal;\n",
       "  font-weight: 400;\n",
       "  src: local('Amiri Quran'), local('AmiriQuran'),\n",
       "    url('/server/static/fonts/AmiriQuran.woff') format('woff'),\n",
       "    url('https://github.com/annotation/text-fabric/blob/master/tf/server/static/fonts/AmiriQuran.woff?raw=true') format('woff');\n",
       "}\n",
       "\n",
       "@font-face {\n",
       "  font-family: AmiriQuranColored;\n",
       "  font-style: normal;\n",
       "  font-weight: 400;\n",
       "  src: local('Amiri Quran Colored'), local('AmiriQuranColored'),\n",
       "    url('/server/static/fonts/AmiriQuranColored.woff') format('woff'),\n",
       "    url('https://github.com/annotation/text-fabric/blob/master/tf/server/static/fonts/AmiriQuranColored.woff?raw=true') format('woff');\n",
       "}\n",
       "\n",
       "@font-face {\n",
       "  font-family: \"Santakku\";\n",
       "  src: local('Santakku'),\n",
       "    url('/server/static/fonts/Santakku.woff') format('woff'),\n",
       "    url('https://github.com/annotation/text-fabric/blob/master/tf/server/static/fonts/Santakku.woff?raw=true') format('woff');\n",
       "}\n",
       "\n",
       "@font-face {\n",
       "  font-family: \"SantakkuM\";\n",
       "  src: local('SantakkuM'),\n",
       "    url('/server/static/fonts/SantakkuM.woff') format('woff'),\n",
       "    url('https://github.com/annotation/text-fabric/blob/master/tf/server/static/fonts/SantakkuM.woff?raw=true') format('woff');\n",
       "}\n",
       "/* bypassing some classical notebook settings */\n",
       "div#notebook {\n",
       "  line-height: unset;\n",
       "}\n",
       "/* neutral text */\n",
       ".txtn,.txtn a:visited,.txtn a:link {\n",
       "    font-family: sans-serif;\n",
       "    font-size: medium;\n",
       "    direction: ltr;\n",
       "    text-decoration: none;\n",
       "    color: var(--text-color);\n",
       "}\n",
       "/* transcription text */\n",
       ".txtt,.txtt a:visited,.txtt a:link {\n",
       "    font-family: monospace;\n",
       "    font-size: medium;\n",
       "    direction: ltr;\n",
       "    text-decoration: none;\n",
       "    color: var(--text-color);\n",
       "}\n",
       "/* source text */\n",
       ".txto,.txto a:visited,.txto a:link {\n",
       "    font-family: serif;\n",
       "    font-size: medium;\n",
       "    direction: ltr;\n",
       "    text-decoration: none;\n",
       "    color: var(--text-color);\n",
       "}\n",
       "/* phonetic text */\n",
       ".txtp,.txtp a:visited,.txtp a:link {\n",
       "    font-family: Gentium, sans-serif;\n",
       "    font-size: medium;\n",
       "    direction: ltr;\n",
       "    text-decoration: none;\n",
       "    color: var(--text-color);\n",
       "}\n",
       "/* original script text */\n",
       ".txtu,.txtu a:visited,.txtu a:link {\n",
       "    font-family: Gentium, sans-serif;\n",
       "    font-size: medium;\n",
       "    text-decoration: none;\n",
       "    color: var(--text-color);\n",
       "}\n",
       "/* hebrew */\n",
       ".txtu.hbo,.lex.hbo {\n",
       "    font-family: \"Ezra SIL\", \"SBL Hebrew\", sans-serif;\n",
       "    font-size: large;\n",
       "    direction: rtl ! important;\n",
       "    unicode-bidi: embed;\n",
       "}\n",
       "/* syriac */\n",
       ".txtu.syc,.lex.syc {\n",
       "    font-family: \"Estrangelo Edessa\", sans-serif;\n",
       "    font-size: medium;\n",
       "    direction: rtl ! important;\n",
       "    unicode-bidi: embed;\n",
       "}\n",
       "/* neo aramaic */\n",
       ".txtu.cld,.lex.cld {\n",
       "    font-family: \"CharisSIL-R\", sans-serif;\n",
       "    font-size: medium;\n",
       "    direction: ltr ! important;\n",
       "    unicode-bidi: embed;\n",
       "}\n",
       "/* standard arabic */\n",
       ".txtu.ara,.lex.ara {\n",
       "    font-family: \"AmiriQuran\", sans-serif;\n",
       "    font-size: large;\n",
       "    direction: rtl ! important;\n",
       "    unicode-bidi: embed;\n",
       "}\n",
       "/* cuneiform */\n",
       ".txtu.akk,.lex.akk {\n",
       "    font-family: Santakku, sans-serif;\n",
       "    font-size: large;\n",
       "    direction: ltr ! important;\n",
       "    unicode-bidi: embed;\n",
       "}\n",
       "/* greek */\n",
       ".txtu.grc,.lex.grc a:link {\n",
       "    font-family: Gentium, sans-serif;\n",
       "    font-size: medium;\n",
       "    direction: ltr ! important;\n",
       "    unicode-bidi: embed;\n",
       "}\n",
       "a:hover {\n",
       "    text-decoration: underline | important;\n",
       "    color: #0000ff | important;\n",
       "}\n",
       ".ltr {\n",
       "    direction: ltr ! important;\n",
       "}\n",
       ".rtl {\n",
       "    direction: rtl ! important;\n",
       "}\n",
       ".features {\n",
       "    font-family: monospace;\n",
       "    font-size: medium;\n",
       "    font-weight: bold;\n",
       "    color: var(--features);\n",
       "    display: flex;\n",
       "    flex-flow: column nowrap;\n",
       "    justify-content: flex-start;\n",
       "    align-items: flex-start;\n",
       "    align-content: flex-start;\n",
       "    padding: 0.1rem;\n",
       "    margin: 0.1rem;\n",
       "    direction: ltr;\n",
       "    border: var(--meta-width) solid var(--meta-color);\n",
       "    border-radius: var(--meta-width);\n",
       "}\n",
       ".features div,.features span {\n",
       "    padding: 0;\n",
       "    margin: -0.1rem 0;\n",
       "}\n",
       ".features .f {\n",
       "    font-family: sans-serif;\n",
       "    font-size: small;\n",
       "    font-weight: normal;\n",
       "    color: #5555bb;\n",
       "}\n",
       ".features .xft {\n",
       "  color: #000000;\n",
       "  background-color: #eeeeee;\n",
       "  font-size: medium;\n",
       "  margin: 0.1rem 0rem;\n",
       "}\n",
       ".features .xft .f {\n",
       "  color: #000000;\n",
       "  background-color: #eeeeee;\n",
       "  font-size: small;\n",
       "  font-weight: normal;\n",
       "}\n",
       ".section {\n",
       "    font-family: sans-serif;\n",
       "    font-size: small;\n",
       "    font-weight: bold;\n",
       "    color: var(--section);\n",
       "    unicode-bidi: embed;\n",
       "    text-align: start;\n",
       "}\n",
       ".structure {\n",
       "    font-family: sans-serif;\n",
       "    font-size: small;\n",
       "    font-weight: bold;\n",
       "    color: var(--structure);\n",
       "    unicode-bidi: embed;\n",
       "    text-align: start;\n",
       "}\n",
       ".comments {\n",
       "    display: flex;\n",
       "    justify-content: flex-start;\n",
       "    align-items: flex-start;\n",
       "    align-content: flex-start;\n",
       "    flex-flow: column nowrap;\n",
       "}\n",
       ".nd, a:link.nd {\n",
       "    font-family: sans-serif;\n",
       "    font-size: small;\n",
       "    color: var(--node);\n",
       "    vertical-align: super;\n",
       "    direction: ltr ! important;\n",
       "    unicode-bidi: embed;\n",
       "}\n",
       ".lex {\n",
       "  color: var(--lex-color);;\n",
       "}\n",
       ".children,.children.ltr {\n",
       "    display: flex;\n",
       "    border: 0;\n",
       "    background-color: #ffffff;\n",
       "    justify-content: flex-start;\n",
       "    align-items: flex-start;\n",
       "    align-content: flex-start;\n",
       "}\n",
       ".children.stretch {\n",
       "    align-items: stretch;\n",
       "}\n",
       ".children.hor {\n",
       "    flex-flow: row nowrap;\n",
       "}\n",
       ".children.hor.wrap {\n",
       "    flex-flow: row wrap;\n",
       "}\n",
       ".children.ver {\n",
       "    flex-flow: column nowrap;\n",
       "}\n",
       ".children.ver.wrap {\n",
       "    flex-flow: column wrap;\n",
       "}\n",
       ".contnr {\n",
       "    width: fit-content;\n",
       "    display: flex;\n",
       "    justify-content: flex-start;\n",
       "    align-items: flex-start;\n",
       "    align-content: flex-start;\n",
       "    flex-flow: column nowrap;\n",
       "    background: #ffffff none repeat scroll 0 0;\n",
       "    padding:  0.5rem 0.1rem 0.1rem 0.1rem;\n",
       "    margin: 0.8rem 0.1rem 0.1rem 0.1rem;\n",
       "    border-style: solid;\n",
       "    font-size: small;\n",
       "}\n",
       ".contnr.trm {\n",
       "    background-attachment: local;\n",
       "}\n",
       ".contnr.cnul {\n",
       "    padding:  0;\n",
       "    margin: 0;\n",
       "    border-style: solid;\n",
       "    font-size: xx-small;\n",
       "}\n",
       ".contnr.cnul,.lbl.cnul {\n",
       "    border-color: var(--border-color-nul);\n",
       "    border-width: var(--border-width-nul);\n",
       "    border-radius: var(--border-width-nul);\n",
       "}\n",
       ".contnr.c0,.lbl.c0 {\n",
       "    border-color: var(--border-color0);\n",
       "    border-width: var(--border-width0);\n",
       "    border-radius: var(--border-width0);\n",
       "}\n",
       ".contnr.c1,.lbl.c1 {\n",
       "    border-color: var(--border-color1);\n",
       "    border-width: var(--border-width1);\n",
       "    border-radius: var(--border-width1);\n",
       "}\n",
       ".contnr.c2,.lbl.c2 {\n",
       "    border-color: var(--border-color2);\n",
       "    border-width: var(--border-width2);\n",
       "    border-radius: var(--border-width2);\n",
       "}\n",
       ".contnr.c3,.lbl.c3 {\n",
       "    border-color: var(--border-color3);\n",
       "    border-width: var(--border-width3);\n",
       "    border-radius: var(--border-width3);\n",
       "}\n",
       ".contnr.c4,.lbl.c4 {\n",
       "    border-color: var(--border-color4);\n",
       "    border-width: var(--border-width4);\n",
       "    border-radius: var(--border-width4);\n",
       "}\n",
       "span.plain {\n",
       "    display: inline-block;\n",
       "    white-space: pre-wrap;\n",
       "}\n",
       ".plain {\n",
       "    background-color: #ffffff;\n",
       "}\n",
       ".plain.l,.contnr.l,.contnr.l>.lbl {\n",
       "    border-left-style: dotted\n",
       "}\n",
       ".plain.r,.contnr.r,.contnr.r>.lbl {\n",
       "    border-right-style: dotted\n",
       "}\n",
       ".plain.lno,.contnr.lno,.contnr.lno>.lbl {\n",
       "    border-left-style: none\n",
       "}\n",
       ".plain.rno,.contnr.rno,.contnr.rno>.lbl {\n",
       "    border-right-style: none\n",
       "}\n",
       ".plain.l {\n",
       "    padding-left: 0.2rem;\n",
       "    margin-left: 0.1rem;\n",
       "    border-width: var(--border-width-plain);\n",
       "}\n",
       ".plain.r {\n",
       "    padding-right: 0.2rem;\n",
       "    margin-right: 0.1rem;\n",
       "    border-width: var(--border-width-plain);\n",
       "}\n",
       ".lbl {\n",
       "    font-family: monospace;\n",
       "    margin-top: -1.2rem;\n",
       "    margin-left: 1rem;\n",
       "    background: #ffffff none repeat scroll 0 0;\n",
       "    padding: 0 0.3rem;\n",
       "    border-style: solid;\n",
       "    display: block;\n",
       "    color: var(--label)\n",
       "}\n",
       ".lbl.trm {\n",
       "    background-attachment: local;\n",
       "    margin-top: 0.1rem;\n",
       "    margin-left: 0.1rem;\n",
       "    padding: 0.1rem 0.1rem;\n",
       "    border-style: none;\n",
       "}\n",
       ".lbl.cnul {\n",
       "    font-size: xx-small;\n",
       "}\n",
       ".lbl.c0 {\n",
       "    font-size: small;\n",
       "}\n",
       ".lbl.c1 {\n",
       "    font-size: small;\n",
       "}\n",
       ".lbl.c2 {\n",
       "    font-size: medium;\n",
       "}\n",
       ".lbl.c3 {\n",
       "    font-size: medium;\n",
       "}\n",
       ".lbl.c4 {\n",
       "    font-size: large;\n",
       "}\n",
       ".occs, a:link.occs {\n",
       "    font-size: small;\n",
       "}\n",
       "\n",
       "/* PROVENANCE */\n",
       "\n",
       "div.prov {\n",
       "\tmargin: 2rem;\n",
       "\tpadding: 1rem;\n",
       "\tborder: 0.1rem solid var(--fog-rim);\n",
       "}\n",
       "div.pline {\n",
       "\tdisplay: flex;\n",
       "\tflex-flow: row nowrap;\n",
       "\tjustify-content: stretch;\n",
       "\talign-items: baseline;\n",
       "}\n",
       "div.p2line {\n",
       "\tmargin-left: 2em;\n",
       "\tdisplay: flex;\n",
       "\tflex-flow: row nowrap;\n",
       "\tjustify-content: stretch;\n",
       "\talign-items: baseline;\n",
       "}\n",
       "div.psline {\n",
       "\tdisplay: flex;\n",
       "\tflex-flow: row nowrap;\n",
       "\tjustify-content: stretch;\n",
       "\talign-items: baseline;\n",
       "\tbackground-color: var(--gold-mist-back);\n",
       "}\n",
       "div.pname {\n",
       "\tflex: 0 0 5rem;\n",
       "\tfont-weight: bold;\n",
       "}\n",
       "div.pval {\n",
       "    flex: 1 1 auto;\n",
       "}\n",
       "\n",
       ":root {\n",
       "\t--node:               hsla(120, 100%,  20%, 1.0  );\n",
       "\t--label:              hsla(  0, 100%,  20%, 1.0  );\n",
       "\t--section:            hsla(  0, 100%,  25%, 1.0  );\n",
       "\t--structure:          hsla(120, 100%,  25%, 1.0  );\n",
       "\t--features:           hsla(  0,   0%,  30%, 1.0  );\n",
       "  --text-color:         hsla( 60,  80%,  10%, 1.0  );\n",
       "  --lex-color:          hsla(220,  90%,  60%, 1.0  );\n",
       "  --meta-color:         hsla(  0,   0%,  90%, 0.7  );\n",
       "  --meta-width:         0.15rem;\n",
       "  --border-color-nul:   hsla(  0,   0%,  90%, 0.5  );\n",
       "  --border-color0:      hsla(  0,   0%,  90%, 0.9  );\n",
       "  --border-color1:      hsla(  0,   0%,  80%, 0.9  );\n",
       "  --border-color2:      hsla(  0,   0%,  70%, 0.9  );\n",
       "  --border-color3:      hsla(  0,   0%,  80%, 0.8  );\n",
       "  --border-color4:      hsla(  0,   0%,  60%, 0.9  );\n",
       "  --border-width-nul:   0.1rem;\n",
       "  --border-width0:      0.1rem;\n",
       "  --border-width1:      0.15rem;\n",
       "  --border-width2:      0.2rem;\n",
       "  --border-width3:      0.3rem;\n",
       "  --border-width4:      0.25rem;\n",
       "  --border-width-plain: 0.1rem;\n",
       "}\n",
       ".hl {\n",
       "  background-color: var(--hl-strong);\n",
       "}\n",
       "span.hl {\n",
       "\tbackground-color: var(--hl-strong);\n",
       "\tborder-width: 0;\n",
       "\tborder-radius: 0.1rem;\n",
       "\tborder-style: solid;\n",
       "}\n",
       "div.contnr.hl,div.lbl.hl {\n",
       "  background-color: var(--hl-strong);\n",
       "}\n",
       "div.contnr.hl {\n",
       "  border-color: var(--hl-rim) ! important;\n",
       "\tborder-width: 0.2rem ! important;\n",
       "}\n",
       "\n",
       "span.hlbx {\n",
       "\tborder-color: var(--hl-rim);\n",
       "\tborder-width: 0.2rem ! important;\n",
       "\tborder-style: solid;\n",
       "\tborder-radius: 0.3rem;\n",
       "  padding: 0.2rem;\n",
       "  margin: 0.2rem;\n",
       "}\n",
       "\n",
       "span.plain {\n",
       "  display: inline-block;\n",
       "  white-space: pre-wrap;\n",
       "}\n",
       "\n",
       ":root {\n",
       "\t--hl-strong:        hsla( 60, 100%,  70%, 0.9  );\n",
       "\t--hl-rim:           hsla( 55,  80%,  50%, 1.0  );\n",
       "}\n",
       "</style>"
      ],
      "text/plain": [
       "<IPython.core.display.HTML object>"
      ]
     },
     "metadata": {},
     "output_type": "display_data"
    },
    {
     "data": {
      "text/html": [
       "<div><b>Text-Fabric API:</b> names <a target=\"_blank\" href=\"https://annotation.github.io/text-fabric/cheatsheet.html\" title=\"doc\">N F E L T S C TF</a> directly usable</div><hr>"
      ],
      "text/plain": [
       "<IPython.core.display.HTML object>"
      ]
     },
     "metadata": {},
     "output_type": "display_data"
    }
   ],
   "source": [
    "A = use(\"syrnt:clone\", checkout=\"clone\", hoist=globals())\n",
    "# A = use('syrnt', hoist=globals())"
   ]
  },
  {
   "cell_type": "markdown",
   "metadata": {},
   "source": [
    "# Basic search command\n",
    "\n",
    "We start with the most simple form of issuing a query.\n",
    "Let's look for the words in Matthew, chapter 1.\n",
    "\n",
    "All work involved in searching takes place under the hood."
   ]
  },
  {
   "cell_type": "code",
   "execution_count": 4,
   "metadata": {
    "ExecuteTime": {
     "end_time": "2018-05-24T07:46:55.998382Z",
     "start_time": "2018-05-24T07:46:55.137956Z"
    }
   },
   "outputs": [
    {
     "name": "stdout",
     "output_type": "stream",
     "text": [
      "  0.08s 290 results\n"
     ]
    },
    {
     "data": {
      "text/html": [
       "<table><tr class=\"tf rtl\"><th class=\"tf rtl\">n</th><th class=\"tf rtl\">p</th><th class=\"tf rtl\">word</th></tr>\n",
       "<tr class=\"tf rtl\"><td class=\"tf rtl\">1</td><td class=\"tf rtl\"><span class=\"section ltr\"><a target=\"_blank\" href=\"https://github.com/etcbc/syrnt/blob/master/plain/0.1/Matthew.txt\" title=\"show this passage in the SyrNT repository\" sec=\"Matthew 1:1\">Matthew 1:1</a></span></td><td class=\"tf rtl\"><div class=\"rtl\"><span class=\"plain rtl  hl\" ><span class=\"txtu syc\">ܟܬܒܐ </span></span></div></td></tr>\n",
       "<tr class=\"tf rtl\"><td class=\"tf rtl\">2</td><td class=\"tf rtl\"><span class=\"section ltr\"><a target=\"_blank\" href=\"https://github.com/etcbc/syrnt/blob/master/plain/0.1/Matthew.txt\" title=\"show this passage in the SyrNT repository\" sec=\"Matthew 1:1\">Matthew 1:1</a></span></td><td class=\"tf rtl\"><div class=\"rtl\"><span class=\"plain rtl  hl\" ><span class=\"txtu syc\">ܕܝܠܝܕܘܬܗ </span></span></div></td></tr>\n",
       "<tr class=\"tf rtl\"><td class=\"tf rtl\">3</td><td class=\"tf rtl\"><span class=\"section ltr\"><a target=\"_blank\" href=\"https://github.com/etcbc/syrnt/blob/master/plain/0.1/Matthew.txt\" title=\"show this passage in the SyrNT repository\" sec=\"Matthew 1:1\">Matthew 1:1</a></span></td><td class=\"tf rtl\"><div class=\"rtl\"><span class=\"plain rtl  hl\" ><span class=\"txtu syc\">ܕܝܫܘܥ </span></span></div></td></tr>\n",
       "<tr class=\"tf rtl\"><td class=\"tf rtl\">4</td><td class=\"tf rtl\"><span class=\"section ltr\"><a target=\"_blank\" href=\"https://github.com/etcbc/syrnt/blob/master/plain/0.1/Matthew.txt\" title=\"show this passage in the SyrNT repository\" sec=\"Matthew 1:1\">Matthew 1:1</a></span></td><td class=\"tf rtl\"><div class=\"rtl\"><span class=\"plain rtl  hl\" ><span class=\"txtu syc\">ܡܫܝܚܐ </span></span></div></td></tr>\n",
       "<tr class=\"tf rtl\"><td class=\"tf rtl\">5</td><td class=\"tf rtl\"><span class=\"section ltr\"><a target=\"_blank\" href=\"https://github.com/etcbc/syrnt/blob/master/plain/0.1/Matthew.txt\" title=\"show this passage in the SyrNT repository\" sec=\"Matthew 1:1\">Matthew 1:1</a></span></td><td class=\"tf rtl\"><div class=\"rtl\"><span class=\"plain rtl  hl\" ><span class=\"txtu syc\">ܒܪܗ </span></span></div></td></tr>\n",
       "<tr class=\"tf rtl\"><td class=\"tf rtl\">6</td><td class=\"tf rtl\"><span class=\"section ltr\"><a target=\"_blank\" href=\"https://github.com/etcbc/syrnt/blob/master/plain/0.1/Matthew.txt\" title=\"show this passage in the SyrNT repository\" sec=\"Matthew 1:1\">Matthew 1:1</a></span></td><td class=\"tf rtl\"><div class=\"rtl\"><span class=\"plain rtl  hl\" ><span class=\"txtu syc\">ܕܕܘܝܕ </span></span></div></td></tr>\n",
       "<tr class=\"tf rtl\"><td class=\"tf rtl\">7</td><td class=\"tf rtl\"><span class=\"section ltr\"><a target=\"_blank\" href=\"https://github.com/etcbc/syrnt/blob/master/plain/0.1/Matthew.txt\" title=\"show this passage in the SyrNT repository\" sec=\"Matthew 1:1\">Matthew 1:1</a></span></td><td class=\"tf rtl\"><div class=\"rtl\"><span class=\"plain rtl  hl\" ><span class=\"txtu syc\">ܒܪܗ </span></span></div></td></tr>\n",
       "<tr class=\"tf rtl\"><td class=\"tf rtl\">8</td><td class=\"tf rtl\"><span class=\"section ltr\"><a target=\"_blank\" href=\"https://github.com/etcbc/syrnt/blob/master/plain/0.1/Matthew.txt\" title=\"show this passage in the SyrNT repository\" sec=\"Matthew 1:1\">Matthew 1:1</a></span></td><td class=\"tf rtl\"><div class=\"rtl\"><span class=\"plain rtl  hl\" ><span class=\"txtu syc\">ܕܐܒܪܗܡ </span></span></div></td></tr>\n",
       "<tr class=\"tf rtl\"><td class=\"tf rtl\">9</td><td class=\"tf rtl\"><span class=\"section ltr\"><a target=\"_blank\" href=\"https://github.com/etcbc/syrnt/blob/master/plain/0.1/Matthew.txt\" title=\"show this passage in the SyrNT repository\" sec=\"Matthew 1:2\">Matthew 1:2</a></span></td><td class=\"tf rtl\"><div class=\"rtl\"><span class=\"plain rtl  hl\" ><span class=\"txtu syc\">ܐܒܪܗܡ </span></span></div></td></tr>\n",
       "<tr class=\"tf rtl\"><td class=\"tf rtl\">10</td><td class=\"tf rtl\"><span class=\"section ltr\"><a target=\"_blank\" href=\"https://github.com/etcbc/syrnt/blob/master/plain/0.1/Matthew.txt\" title=\"show this passage in the SyrNT repository\" sec=\"Matthew 1:2\">Matthew 1:2</a></span></td><td class=\"tf rtl\"><div class=\"rtl\"><span class=\"plain rtl  hl\" ><span class=\"txtu syc\">ܐܘܠܕ </span></span></div></td></tr></table>"
      ],
      "text/plain": [
       "<IPython.core.display.HTML object>"
      ]
     },
     "metadata": {},
     "output_type": "display_data"
    }
   ],
   "source": [
    "query = \"\"\"\n",
    "book book=Matt\n",
    "  chapter chapter=1\n",
    "    word\n",
    "\"\"\"\n",
    "results = A.search(query)\n",
    "A.table(results, end=10, skipCols=\"1 2\")"
   ]
  },
  {
   "cell_type": "markdown",
   "metadata": {},
   "source": [
    "The hyperlinks take us all to the beginning of the book of Matthew.\n",
    "\n",
    "Note that we can choose start and/or end points in the results list."
   ]
  },
  {
   "cell_type": "code",
   "execution_count": 5,
   "metadata": {
    "ExecuteTime": {
     "end_time": "2018-05-24T07:47:03.299872Z",
     "start_time": "2018-05-24T07:47:03.261873Z"
    }
   },
   "outputs": [
    {
     "data": {
      "text/html": [
       "<table><tr class=\"tf rtl\"><th class=\"tf rtl\">n</th><th class=\"tf rtl\">p</th><th class=\"tf rtl\">word</th></tr>\n",
       "<tr class=\"tf rtl\"><td class=\"tf rtl\">8</td><td class=\"tf rtl\"><span class=\"section ltr\"><a target=\"_blank\" href=\"https://github.com/etcbc/syrnt/blob/master/plain/0.1/Matthew.txt\" title=\"show this passage in the SyrNT repository\" sec=\"Matthew 1:1\">Matthew 1:1</a></span></td><td class=\"tf rtl\"><div class=\"rtl\"><span class=\"plain rtl  hl\" ><span class=\"txtu syc\">ܕܐܒܪܗܡ </span></span></div></td></tr>\n",
       "<tr class=\"tf rtl\"><td class=\"tf rtl\">9</td><td class=\"tf rtl\"><span class=\"section ltr\"><a target=\"_blank\" href=\"https://github.com/etcbc/syrnt/blob/master/plain/0.1/Matthew.txt\" title=\"show this passage in the SyrNT repository\" sec=\"Matthew 1:2\">Matthew 1:2</a></span></td><td class=\"tf rtl\"><div class=\"rtl\"><span class=\"plain rtl  hl\" ><span class=\"txtu syc\">ܐܒܪܗܡ </span></span></div></td></tr>\n",
       "<tr class=\"tf rtl\"><td class=\"tf rtl\">10</td><td class=\"tf rtl\"><span class=\"section ltr\"><a target=\"_blank\" href=\"https://github.com/etcbc/syrnt/blob/master/plain/0.1/Matthew.txt\" title=\"show this passage in the SyrNT repository\" sec=\"Matthew 1:2\">Matthew 1:2</a></span></td><td class=\"tf rtl\"><div class=\"rtl\"><span class=\"plain rtl  hl\" ><span class=\"txtu syc\">ܐܘܠܕ </span></span></div></td></tr>\n",
       "<tr class=\"tf rtl\"><td class=\"tf rtl\">11</td><td class=\"tf rtl\"><span class=\"section ltr\"><a target=\"_blank\" href=\"https://github.com/etcbc/syrnt/blob/master/plain/0.1/Matthew.txt\" title=\"show this passage in the SyrNT repository\" sec=\"Matthew 1:2\">Matthew 1:2</a></span></td><td class=\"tf rtl\"><div class=\"rtl\"><span class=\"plain rtl  hl\" ><span class=\"txtu syc\">ܠܐܝܣܚܩ </span></span></div></td></tr>\n",
       "<tr class=\"tf rtl\"><td class=\"tf rtl\">12</td><td class=\"tf rtl\"><span class=\"section ltr\"><a target=\"_blank\" href=\"https://github.com/etcbc/syrnt/blob/master/plain/0.1/Matthew.txt\" title=\"show this passage in the SyrNT repository\" sec=\"Matthew 1:2\">Matthew 1:2</a></span></td><td class=\"tf rtl\"><div class=\"rtl\"><span class=\"plain rtl  hl\" ><span class=\"txtu syc\">ܐܝܣܚܩ </span></span></div></td></tr>\n",
       "<tr class=\"tf rtl\"><td class=\"tf rtl\">13</td><td class=\"tf rtl\"><span class=\"section ltr\"><a target=\"_blank\" href=\"https://github.com/etcbc/syrnt/blob/master/plain/0.1/Matthew.txt\" title=\"show this passage in the SyrNT repository\" sec=\"Matthew 1:2\">Matthew 1:2</a></span></td><td class=\"tf rtl\"><div class=\"rtl\"><span class=\"plain rtl  hl\" ><span class=\"txtu syc\">ܐܘܠܕ </span></span></div></td></tr></table>"
      ],
      "text/plain": [
       "<IPython.core.display.HTML object>"
      ]
     },
     "metadata": {},
     "output_type": "display_data"
    }
   ],
   "source": [
    "A.table(results, start=8, end=13, skipCols=\"1 2\")"
   ]
  },
  {
   "cell_type": "markdown",
   "metadata": {},
   "source": [
    "We can show the results more fully with `show()`."
   ]
  },
  {
   "cell_type": "code",
   "execution_count": 6,
   "metadata": {
    "ExecuteTime": {
     "end_time": "2018-05-24T07:47:06.875859Z",
     "start_time": "2018-05-24T07:47:06.757345Z"
    }
   },
   "outputs": [
    {
     "data": {
      "text/html": [
       "<p><b>result</b> <i>1</i></p>"
      ],
      "text/plain": [
       "<IPython.core.display.HTML object>"
      ]
     },
     "metadata": {},
     "output_type": "display_data"
    },
    {
     "data": {
      "text/html": [
       "<div class=\"section rtl\"><a target=\"_blank\" href=\"https://github.com/etcbc/syrnt/blob/master/plain/0.1/Matthew.txt\" title=\"show this passage in the SyrNT repository\" sec=\"Matthew 1:1\">Matthew 1:1</a></div><div class=\"rtl children\"><div class=\"contnr c3  rtl  \" ><div class=\"lbl c3  \" ><span class=\"nd\">verse</span></div><div class='features'><span class=\"book xft\" ><span class=\"f\">book=</span>Matt</span><span class=\"chapter xft\" ><span class=\"f\">chapter=</span>1</span></div><div class=\"children hor wrap rtl\"><div class=\"contnr c0 trm rtl  hl\" ><div class=\"lbl c0 trm hl\" ><a target=\"_blank\" href=\"https://github.com/etcbc/syrnt/blob/master/plain\" title=\"show this passage in the SyrNT repository\"><span class=\"txtu syc\">ܟܬܒܐ </span></a></div></div><div class=\"contnr c0 trm rtl  \" ><div class=\"lbl c0 trm \" ><a target=\"_blank\" href=\"https://github.com/etcbc/syrnt/blob/master/plain\" title=\"show this passage in the SyrNT repository\"><span class=\"txtu syc\">ܕܝܠܝܕܘܬܗ </span></a></div></div><div class=\"contnr c0 trm rtl  \" ><div class=\"lbl c0 trm \" ><a target=\"_blank\" href=\"https://github.com/etcbc/syrnt/blob/master/plain\" title=\"show this passage in the SyrNT repository\"><span class=\"txtu syc\">ܕܝܫܘܥ </span></a></div></div><div class=\"contnr c0 trm rtl  \" ><div class=\"lbl c0 trm \" ><a target=\"_blank\" href=\"https://github.com/etcbc/syrnt/blob/master/plain\" title=\"show this passage in the SyrNT repository\"><span class=\"txtu syc\">ܡܫܝܚܐ </span></a></div></div><div class=\"contnr c0 trm rtl  \" ><div class=\"lbl c0 trm \" ><a target=\"_blank\" href=\"https://github.com/etcbc/syrnt/blob/master/plain\" title=\"show this passage in the SyrNT repository\"><span class=\"txtu syc\">ܒܪܗ </span></a></div></div><div class=\"contnr c0 trm rtl  \" ><div class=\"lbl c0 trm \" ><a target=\"_blank\" href=\"https://github.com/etcbc/syrnt/blob/master/plain\" title=\"show this passage in the SyrNT repository\"><span class=\"txtu syc\">ܕܕܘܝܕ </span></a></div></div><div class=\"contnr c0 trm rtl  \" ><div class=\"lbl c0 trm \" ><a target=\"_blank\" href=\"https://github.com/etcbc/syrnt/blob/master/plain\" title=\"show this passage in the SyrNT repository\"><span class=\"txtu syc\">ܒܪܗ </span></a></div></div><div class=\"contnr c0 trm rtl  \" ><div class=\"lbl c0 trm \" ><a target=\"_blank\" href=\"https://github.com/etcbc/syrnt/blob/master/plain\" title=\"show this passage in the SyrNT repository\"><span class=\"txtu syc\">ܕܐܒܪܗܡ </span></a></div></div></div></div></div>"
      ],
      "text/plain": [
       "<IPython.core.display.HTML object>"
      ]
     },
     "metadata": {},
     "output_type": "display_data"
    },
    {
     "data": {
      "text/html": [
       "<p><b>result</b> <i>2</i></p>"
      ],
      "text/plain": [
       "<IPython.core.display.HTML object>"
      ]
     },
     "metadata": {},
     "output_type": "display_data"
    },
    {
     "data": {
      "text/html": [
       "<div class=\"section rtl\"><a target=\"_blank\" href=\"https://github.com/etcbc/syrnt/blob/master/plain/0.1/Matthew.txt\" title=\"show this passage in the SyrNT repository\" sec=\"Matthew 1:1\">Matthew 1:1</a></div><div class=\"rtl children\"><div class=\"contnr c3  rtl  \" ><div class=\"lbl c3  \" ><span class=\"nd\">verse</span></div><div class='features'><span class=\"book xft\" ><span class=\"f\">book=</span>Matt</span><span class=\"chapter xft\" ><span class=\"f\">chapter=</span>1</span></div><div class=\"children hor wrap rtl\"><div class=\"contnr c0 trm rtl  \" ><div class=\"lbl c0 trm \" ><a target=\"_blank\" href=\"https://github.com/etcbc/syrnt/blob/master/plain\" title=\"show this passage in the SyrNT repository\"><span class=\"txtu syc\">ܟܬܒܐ </span></a></div></div><div class=\"contnr c0 trm rtl  hl\" ><div class=\"lbl c0 trm hl\" ><a target=\"_blank\" href=\"https://github.com/etcbc/syrnt/blob/master/plain\" title=\"show this passage in the SyrNT repository\"><span class=\"txtu syc\">ܕܝܠܝܕܘܬܗ </span></a></div></div><div class=\"contnr c0 trm rtl  \" ><div class=\"lbl c0 trm \" ><a target=\"_blank\" href=\"https://github.com/etcbc/syrnt/blob/master/plain\" title=\"show this passage in the SyrNT repository\"><span class=\"txtu syc\">ܕܝܫܘܥ </span></a></div></div><div class=\"contnr c0 trm rtl  \" ><div class=\"lbl c0 trm \" ><a target=\"_blank\" href=\"https://github.com/etcbc/syrnt/blob/master/plain\" title=\"show this passage in the SyrNT repository\"><span class=\"txtu syc\">ܡܫܝܚܐ </span></a></div></div><div class=\"contnr c0 trm rtl  \" ><div class=\"lbl c0 trm \" ><a target=\"_blank\" href=\"https://github.com/etcbc/syrnt/blob/master/plain\" title=\"show this passage in the SyrNT repository\"><span class=\"txtu syc\">ܒܪܗ </span></a></div></div><div class=\"contnr c0 trm rtl  \" ><div class=\"lbl c0 trm \" ><a target=\"_blank\" href=\"https://github.com/etcbc/syrnt/blob/master/plain\" title=\"show this passage in the SyrNT repository\"><span class=\"txtu syc\">ܕܕܘܝܕ </span></a></div></div><div class=\"contnr c0 trm rtl  \" ><div class=\"lbl c0 trm \" ><a target=\"_blank\" href=\"https://github.com/etcbc/syrnt/blob/master/plain\" title=\"show this passage in the SyrNT repository\"><span class=\"txtu syc\">ܒܪܗ </span></a></div></div><div class=\"contnr c0 trm rtl  \" ><div class=\"lbl c0 trm \" ><a target=\"_blank\" href=\"https://github.com/etcbc/syrnt/blob/master/plain\" title=\"show this passage in the SyrNT repository\"><span class=\"txtu syc\">ܕܐܒܪܗܡ </span></a></div></div></div></div></div>"
      ],
      "text/plain": [
       "<IPython.core.display.HTML object>"
      ]
     },
     "metadata": {},
     "output_type": "display_data"
    },
    {
     "data": {
      "text/html": [
       "<p><b>result</b> <i>3</i></p>"
      ],
      "text/plain": [
       "<IPython.core.display.HTML object>"
      ]
     },
     "metadata": {},
     "output_type": "display_data"
    },
    {
     "data": {
      "text/html": [
       "<div class=\"section rtl\"><a target=\"_blank\" href=\"https://github.com/etcbc/syrnt/blob/master/plain/0.1/Matthew.txt\" title=\"show this passage in the SyrNT repository\" sec=\"Matthew 1:1\">Matthew 1:1</a></div><div class=\"rtl children\"><div class=\"contnr c3  rtl  \" ><div class=\"lbl c3  \" ><span class=\"nd\">verse</span></div><div class='features'><span class=\"book xft\" ><span class=\"f\">book=</span>Matt</span><span class=\"chapter xft\" ><span class=\"f\">chapter=</span>1</span></div><div class=\"children hor wrap rtl\"><div class=\"contnr c0 trm rtl  \" ><div class=\"lbl c0 trm \" ><a target=\"_blank\" href=\"https://github.com/etcbc/syrnt/blob/master/plain\" title=\"show this passage in the SyrNT repository\"><span class=\"txtu syc\">ܟܬܒܐ </span></a></div></div><div class=\"contnr c0 trm rtl  \" ><div class=\"lbl c0 trm \" ><a target=\"_blank\" href=\"https://github.com/etcbc/syrnt/blob/master/plain\" title=\"show this passage in the SyrNT repository\"><span class=\"txtu syc\">ܕܝܠܝܕܘܬܗ </span></a></div></div><div class=\"contnr c0 trm rtl  hl\" ><div class=\"lbl c0 trm hl\" ><a target=\"_blank\" href=\"https://github.com/etcbc/syrnt/blob/master/plain\" title=\"show this passage in the SyrNT repository\"><span class=\"txtu syc\">ܕܝܫܘܥ </span></a></div></div><div class=\"contnr c0 trm rtl  \" ><div class=\"lbl c0 trm \" ><a target=\"_blank\" href=\"https://github.com/etcbc/syrnt/blob/master/plain\" title=\"show this passage in the SyrNT repository\"><span class=\"txtu syc\">ܡܫܝܚܐ </span></a></div></div><div class=\"contnr c0 trm rtl  \" ><div class=\"lbl c0 trm \" ><a target=\"_blank\" href=\"https://github.com/etcbc/syrnt/blob/master/plain\" title=\"show this passage in the SyrNT repository\"><span class=\"txtu syc\">ܒܪܗ </span></a></div></div><div class=\"contnr c0 trm rtl  \" ><div class=\"lbl c0 trm \" ><a target=\"_blank\" href=\"https://github.com/etcbc/syrnt/blob/master/plain\" title=\"show this passage in the SyrNT repository\"><span class=\"txtu syc\">ܕܕܘܝܕ </span></a></div></div><div class=\"contnr c0 trm rtl  \" ><div class=\"lbl c0 trm \" ><a target=\"_blank\" href=\"https://github.com/etcbc/syrnt/blob/master/plain\" title=\"show this passage in the SyrNT repository\"><span class=\"txtu syc\">ܒܪܗ </span></a></div></div><div class=\"contnr c0 trm rtl  \" ><div class=\"lbl c0 trm \" ><a target=\"_blank\" href=\"https://github.com/etcbc/syrnt/blob/master/plain\" title=\"show this passage in the SyrNT repository\"><span class=\"txtu syc\">ܕܐܒܪܗܡ </span></a></div></div></div></div></div>"
      ],
      "text/plain": [
       "<IPython.core.display.HTML object>"
      ]
     },
     "metadata": {},
     "output_type": "display_data"
    }
   ],
   "source": [
    "A.show(results, start=1, end=3, skipCols=\"1 2\")"
   ]
  },
  {
   "cell_type": "code",
   "execution_count": 7,
   "metadata": {},
   "outputs": [
    {
     "name": "stdout",
     "output_type": "stream",
     "text": [
      "  0.12s 28 results\n"
     ]
    },
    {
     "data": {
      "text/html": [
       "<p><b>result</b> <i>1</i></p>"
      ],
      "text/plain": [
       "<IPython.core.display.HTML object>"
      ]
     },
     "metadata": {},
     "output_type": "display_data"
    },
    {
     "data": {
      "text/html": [
       "<div class=\"section rtl\"><a target=\"_blank\" href=\"https://github.com/etcbc/syrnt/blob/master/plain/0.1/Matthew.txt\" title=\"show this passage in the SyrNT repository\" sec=\"Matthew 22:29\">Matthew 22:29</a></div><div class=\"rtl children\"><div class=\"contnr c3  rtl  \" ><div class=\"lbl c3  \" ><span class=\"nd\">verse</span></div><div class=\"children hor wrap rtl\"><div class=\"contnr c0 trm rtl  \" ><div class=\"lbl c0 trm \" ><a target=\"_blank\" href=\"https://github.com/etcbc/syrnt/blob/master/plain\" title=\"show this passage in the SyrNT repository\"><span class=\"txtu syc\">ܥܢܐ </span></a></div><div class='features'><span class=\"lexeme_etcbc xft\" ><span class=\"f\">lexeme_etcbc=</span>&lt;N></span><span class=\"nu xft\" ><span class=\"f\">nu=</span>s</span></div></div><div class=\"contnr c0 trm rtl  \" ><div class=\"lbl c0 trm \" ><a target=\"_blank\" href=\"https://github.com/etcbc/syrnt/blob/master/plain\" title=\"show this passage in the SyrNT repository\"><span class=\"txtu syc\">ܝܫܘܥ </span></a></div><div class='features'><span class=\"lexeme_etcbc xft\" ><span class=\"f\">lexeme_etcbc=</span>JCW&lt;</span></div></div><div class=\"contnr c0 trm rtl  \" ><div class=\"lbl c0 trm \" ><a target=\"_blank\" href=\"https://github.com/etcbc/syrnt/blob/master/plain\" title=\"show this passage in the SyrNT repository\"><span class=\"txtu syc\">ܘܐܡܪ </span></a></div><div class='features'><span class=\"lexeme_etcbc xft\" ><span class=\"f\">lexeme_etcbc=</span>>MR</span><span class=\"nu xft\" ><span class=\"f\">nu=</span>s</span></div></div><div class=\"contnr c0 trm rtl  \" ><div class=\"lbl c0 trm \" ><a target=\"_blank\" href=\"https://github.com/etcbc/syrnt/blob/master/plain\" title=\"show this passage in the SyrNT repository\"><span class=\"txtu syc\">ܠܗܘܢ </span></a></div><div class='features'><span class=\"lexeme_etcbc xft\" ><span class=\"f\">lexeme_etcbc=</span>L</span></div></div><div class=\"contnr c0 trm rtl  \" ><div class=\"lbl c0 trm \" ><a target=\"_blank\" href=\"https://github.com/etcbc/syrnt/blob/master/plain\" title=\"show this passage in the SyrNT repository\"><span class=\"txtu syc\">ܛܥܝܢ </span></a></div><div class='features'><span class=\"lexeme_etcbc xft\" ><span class=\"f\">lexeme_etcbc=</span>V&lt;></span><span class=\"nu xft\" ><span class=\"f\">nu=</span>p</span></div></div><div class=\"contnr c0 trm rtl  \" ><div class=\"lbl c0 trm \" ><a target=\"_blank\" href=\"https://github.com/etcbc/syrnt/blob/master/plain\" title=\"show this passage in the SyrNT repository\"><span class=\"txtu syc\">ܐܢܬܘܢ </span></a></div><div class='features'><span class=\"lexeme_etcbc xft\" ><span class=\"f\">lexeme_etcbc=</span>>NT</span><span class=\"nu xft\" ><span class=\"f\">nu=</span>p</span></div></div><div class=\"contnr c0 trm rtl  \" ><div class=\"lbl c0 trm \" ><a target=\"_blank\" href=\"https://github.com/etcbc/syrnt/blob/master/plain\" title=\"show this passage in the SyrNT repository\"><span class=\"txtu syc\">ܕܠܐ </span></a></div><div class='features'><span class=\"lexeme_etcbc xft\" ><span class=\"f\">lexeme_etcbc=</span>L></span></div></div><div class=\"contnr c0 trm rtl  \" ><div class=\"lbl c0 trm \" ><a target=\"_blank\" href=\"https://github.com/etcbc/syrnt/blob/master/plain\" title=\"show this passage in the SyrNT repository\"><span class=\"txtu syc\">ܝܕܥܝܢ </span></a></div><div class='features'><span class=\"lexeme_etcbc xft\" ><span class=\"f\">lexeme_etcbc=</span>JD&lt;</span><span class=\"nu xft\" ><span class=\"f\">nu=</span>p</span></div></div><div class=\"contnr c0 trm rtl  \" ><div class=\"lbl c0 trm \" ><a target=\"_blank\" href=\"https://github.com/etcbc/syrnt/blob/master/plain\" title=\"show this passage in the SyrNT repository\"><span class=\"txtu syc\">ܐܢܬܘܢ </span></a></div><div class='features'><span class=\"lexeme_etcbc xft\" ><span class=\"f\">lexeme_etcbc=</span>>NT</span><span class=\"nu xft\" ><span class=\"f\">nu=</span>p</span></div></div><div class=\"contnr c0 trm rtl  hl\" ><div class=\"lbl c0 trm hl\" ><a target=\"_blank\" href=\"https://github.com/etcbc/syrnt/blob/master/plain\" title=\"show this passage in the SyrNT repository\"><span class=\"txtu syc\">ܟܬܒܐ </span></a></div><div class='features'><span class=\"lexeme_etcbc xft\" ><span class=\"f\">lexeme_etcbc=</span>KTB></span><span class=\"nu xft\" ><span class=\"f\">nu=</span>p</span></div></div><div class=\"contnr c0 trm rtl  \" ><div class=\"lbl c0 trm \" ><a target=\"_blank\" href=\"https://github.com/etcbc/syrnt/blob/master/plain\" title=\"show this passage in the SyrNT repository\"><span class=\"txtu syc\">ܘܠܐ </span></a></div><div class='features'><span class=\"lexeme_etcbc xft\" ><span class=\"f\">lexeme_etcbc=</span>L></span></div></div><div class=\"contnr c0 trm rtl  \" ><div class=\"lbl c0 trm \" ><a target=\"_blank\" href=\"https://github.com/etcbc/syrnt/blob/master/plain\" title=\"show this passage in the SyrNT repository\"><span class=\"txtu syc\">ܚܝܠܗ </span></a></div><div class='features'><span class=\"lexeme_etcbc xft\" ><span class=\"f\">lexeme_etcbc=</span>XJL></span><span class=\"nu xft\" ><span class=\"f\">nu=</span>s</span></div></div><div class=\"contnr c0 trm rtl  \" ><div class=\"lbl c0 trm \" ><a target=\"_blank\" href=\"https://github.com/etcbc/syrnt/blob/master/plain\" title=\"show this passage in the SyrNT repository\"><span class=\"txtu syc\">ܕܐܠܗܐ </span></a></div><div class='features'><span class=\"lexeme_etcbc xft\" ><span class=\"f\">lexeme_etcbc=</span>>LH></span><span class=\"nu xft\" ><span class=\"f\">nu=</span>s</span></div></div></div></div></div>"
      ],
      "text/plain": [
       "<IPython.core.display.HTML object>"
      ]
     },
     "metadata": {},
     "output_type": "display_data"
    },
    {
     "data": {
      "text/html": [
       "<p><b>result</b> <i>2</i></p>"
      ],
      "text/plain": [
       "<IPython.core.display.HTML object>"
      ]
     },
     "metadata": {},
     "output_type": "display_data"
    },
    {
     "data": {
      "text/html": [
       "<div class=\"section rtl\"><a target=\"_blank\" href=\"https://github.com/etcbc/syrnt/blob/master/plain/0.1/Matthew.txt\" title=\"show this passage in the SyrNT repository\" sec=\"Matthew 26:54\">Matthew 26:54</a></div><div class=\"rtl children\"><div class=\"contnr c3  rtl  \" ><div class=\"lbl c3  \" ><span class=\"nd\">verse</span></div><div class=\"children hor wrap rtl\"><div class=\"contnr c0 trm rtl  \" ><div class=\"lbl c0 trm \" ><a target=\"_blank\" href=\"https://github.com/etcbc/syrnt/blob/master/plain\" title=\"show this passage in the SyrNT repository\"><span class=\"txtu syc\">ܐܝܟܢܐ </span></a></div><div class='features'><span class=\"lexeme_etcbc xft\" ><span class=\"f\">lexeme_etcbc=</span>>JKN></span></div></div><div class=\"contnr c0 trm rtl  \" ><div class=\"lbl c0 trm \" ><a target=\"_blank\" href=\"https://github.com/etcbc/syrnt/blob/master/plain\" title=\"show this passage in the SyrNT repository\"><span class=\"txtu syc\">ܗܟܝܠ </span></a></div><div class='features'><span class=\"lexeme_etcbc xft\" ><span class=\"f\">lexeme_etcbc=</span>HKJL</span></div></div><div class=\"contnr c0 trm rtl  \" ><div class=\"lbl c0 trm \" ><a target=\"_blank\" href=\"https://github.com/etcbc/syrnt/blob/master/plain\" title=\"show this passage in the SyrNT repository\"><span class=\"txtu syc\">ܢܬܡܠܘܢ </span></a></div><div class='features'><span class=\"lexeme_etcbc xft\" ><span class=\"f\">lexeme_etcbc=</span>ML></span><span class=\"nu xft\" ><span class=\"f\">nu=</span>p</span></div></div><div class=\"contnr c0 trm rtl  hl\" ><div class=\"lbl c0 trm hl\" ><a target=\"_blank\" href=\"https://github.com/etcbc/syrnt/blob/master/plain\" title=\"show this passage in the SyrNT repository\"><span class=\"txtu syc\">ܟܬܒܐ </span></a></div><div class='features'><span class=\"lexeme_etcbc xft\" ><span class=\"f\">lexeme_etcbc=</span>KTB></span><span class=\"nu xft\" ><span class=\"f\">nu=</span>p</span></div></div><div class=\"contnr c0 trm rtl  \" ><div class=\"lbl c0 trm \" ><a target=\"_blank\" href=\"https://github.com/etcbc/syrnt/blob/master/plain\" title=\"show this passage in the SyrNT repository\"><span class=\"txtu syc\">ܕܗܟܢܐ </span></a></div><div class='features'><span class=\"lexeme_etcbc xft\" ><span class=\"f\">lexeme_etcbc=</span>HKN></span></div></div><div class=\"contnr c0 trm rtl  \" ><div class=\"lbl c0 trm \" ><a target=\"_blank\" href=\"https://github.com/etcbc/syrnt/blob/master/plain\" title=\"show this passage in the SyrNT repository\"><span class=\"txtu syc\">ܘܠܐ </span></a></div><div class='features'><span class=\"lexeme_etcbc xft\" ><span class=\"f\">lexeme_etcbc=</span>WL></span><span class=\"nu xft\" ><span class=\"f\">nu=</span>s</span></div></div><div class=\"contnr c0 trm rtl  \" ><div class=\"lbl c0 trm \" ><a target=\"_blank\" href=\"https://github.com/etcbc/syrnt/blob/master/plain\" title=\"show this passage in the SyrNT repository\"><span class=\"txtu syc\">ܕܢܗܘܐ </span></a></div><div class='features'><span class=\"lexeme_etcbc xft\" ><span class=\"f\">lexeme_etcbc=</span>HW></span><span class=\"nu xft\" ><span class=\"f\">nu=</span>s</span></div></div></div></div></div>"
      ],
      "text/plain": [
       "<IPython.core.display.HTML object>"
      ]
     },
     "metadata": {},
     "output_type": "display_data"
    },
    {
     "data": {
      "text/html": [
       "<p><b>result</b> <i>3</i></p>"
      ],
      "text/plain": [
       "<IPython.core.display.HTML object>"
      ]
     },
     "metadata": {},
     "output_type": "display_data"
    },
    {
     "data": {
      "text/html": [
       "<div class=\"section rtl\"><a target=\"_blank\" href=\"https://github.com/etcbc/syrnt/blob/master/plain/0.1/Matthew.txt\" title=\"show this passage in the SyrNT repository\" sec=\"Matthew 26:56\">Matthew 26:56</a></div><div class=\"rtl children\"><div class=\"contnr c3  rtl  \" ><div class=\"lbl c3  \" ><span class=\"nd\">verse</span></div><div class=\"children hor wrap rtl\"><div class=\"contnr c0 trm rtl  \" ><div class=\"lbl c0 trm \" ><a target=\"_blank\" href=\"https://github.com/etcbc/syrnt/blob/master/plain\" title=\"show this passage in the SyrNT repository\"><span class=\"txtu syc\">ܗܕܐ </span></a></div><div class='features'><span class=\"lexeme_etcbc xft\" ><span class=\"f\">lexeme_etcbc=</span>HN></span><span class=\"nu xft\" ><span class=\"f\">nu=</span>s</span></div></div><div class=\"contnr c0 trm rtl  \" ><div class=\"lbl c0 trm \" ><a target=\"_blank\" href=\"https://github.com/etcbc/syrnt/blob/master/plain\" title=\"show this passage in the SyrNT repository\"><span class=\"txtu syc\">ܕܝܢ </span></a></div><div class='features'><span class=\"lexeme_etcbc xft\" ><span class=\"f\">lexeme_etcbc=</span>DJN</span></div></div><div class=\"contnr c0 trm rtl  \" ><div class=\"lbl c0 trm \" ><a target=\"_blank\" href=\"https://github.com/etcbc/syrnt/blob/master/plain\" title=\"show this passage in the SyrNT repository\"><span class=\"txtu syc\">ܕܗܘܬ </span></a></div><div class='features'><span class=\"lexeme_etcbc xft\" ><span class=\"f\">lexeme_etcbc=</span>HW></span><span class=\"nu xft\" ><span class=\"f\">nu=</span>s</span></div></div><div class=\"contnr c0 trm rtl  \" ><div class=\"lbl c0 trm \" ><a target=\"_blank\" href=\"https://github.com/etcbc/syrnt/blob/master/plain\" title=\"show this passage in the SyrNT repository\"><span class=\"txtu syc\">ܕܢܬܡܠܘܢ </span></a></div><div class='features'><span class=\"lexeme_etcbc xft\" ><span class=\"f\">lexeme_etcbc=</span>ML></span><span class=\"nu xft\" ><span class=\"f\">nu=</span>p</span></div></div><div class=\"contnr c0 trm rtl  hl\" ><div class=\"lbl c0 trm hl\" ><a target=\"_blank\" href=\"https://github.com/etcbc/syrnt/blob/master/plain\" title=\"show this passage in the SyrNT repository\"><span class=\"txtu syc\">ܟܬܒܐ </span></a></div><div class='features'><span class=\"lexeme_etcbc xft\" ><span class=\"f\">lexeme_etcbc=</span>KTB></span><span class=\"nu xft\" ><span class=\"f\">nu=</span>p</span></div></div><div class=\"contnr c0 trm rtl  \" ><div class=\"lbl c0 trm \" ><a target=\"_blank\" href=\"https://github.com/etcbc/syrnt/blob/master/plain\" title=\"show this passage in the SyrNT repository\"><span class=\"txtu syc\">ܕܢܒܝܐ </span></a></div><div class='features'><span class=\"lexeme_etcbc xft\" ><span class=\"f\">lexeme_etcbc=</span>NBJ></span><span class=\"nu xft\" ><span class=\"f\">nu=</span>p</span></div></div><div class=\"contnr c0 trm rtl  \" ><div class=\"lbl c0 trm \" ><a target=\"_blank\" href=\"https://github.com/etcbc/syrnt/blob/master/plain\" title=\"show this passage in the SyrNT repository\"><span class=\"txtu syc\">ܗܝܕܝܢ </span></a></div><div class='features'><span class=\"lexeme_etcbc xft\" ><span class=\"f\">lexeme_etcbc=</span>HJDJN</span></div></div><div class=\"contnr c0 trm rtl  \" ><div class=\"lbl c0 trm \" ><a target=\"_blank\" href=\"https://github.com/etcbc/syrnt/blob/master/plain\" title=\"show this passage in the SyrNT repository\"><span class=\"txtu syc\">ܬܠܡܝܕܐ </span></a></div><div class='features'><span class=\"lexeme_etcbc xft\" ><span class=\"f\">lexeme_etcbc=</span>TLMJD></span><span class=\"nu xft\" ><span class=\"f\">nu=</span>p</span></div></div><div class=\"contnr c0 trm rtl  \" ><div class=\"lbl c0 trm \" ><a target=\"_blank\" href=\"https://github.com/etcbc/syrnt/blob/master/plain\" title=\"show this passage in the SyrNT repository\"><span class=\"txtu syc\">ܟܠܗܘܢ </span></a></div><div class='features'><span class=\"lexeme_etcbc xft\" ><span class=\"f\">lexeme_etcbc=</span>KL</span></div></div><div class=\"contnr c0 trm rtl  \" ><div class=\"lbl c0 trm \" ><a target=\"_blank\" href=\"https://github.com/etcbc/syrnt/blob/master/plain\" title=\"show this passage in the SyrNT repository\"><span class=\"txtu syc\">ܫܒܩܘܗܝ </span></a></div><div class='features'><span class=\"lexeme_etcbc xft\" ><span class=\"f\">lexeme_etcbc=</span>CBQ</span><span class=\"nu xft\" ><span class=\"f\">nu=</span>p</span></div></div><div class=\"contnr c0 trm rtl  \" ><div class=\"lbl c0 trm \" ><a target=\"_blank\" href=\"https://github.com/etcbc/syrnt/blob/master/plain\" title=\"show this passage in the SyrNT repository\"><span class=\"txtu syc\">ܘܥܪܩܘ </span></a></div><div class='features'><span class=\"lexeme_etcbc xft\" ><span class=\"f\">lexeme_etcbc=</span>&lt;RQ</span><span class=\"nu xft\" ><span class=\"f\">nu=</span>p</span></div></div></div></div></div>"
      ],
      "text/plain": [
       "<IPython.core.display.HTML object>"
      ]
     },
     "metadata": {},
     "output_type": "display_data"
    },
    {
     "data": {
      "text/html": [
       "<p><b>result</b> <i>4</i></p>"
      ],
      "text/plain": [
       "<IPython.core.display.HTML object>"
      ]
     },
     "metadata": {},
     "output_type": "display_data"
    },
    {
     "data": {
      "text/html": [
       "<div class=\"section rtl\"><a target=\"_blank\" href=\"https://github.com/etcbc/syrnt/blob/master/plain/0.1/Mark.txt\" title=\"show this passage in the SyrNT repository\" sec=\"Mark 12:24\">Mark 12:24</a></div><div class=\"rtl children\"><div class=\"contnr c3  rtl  \" ><div class=\"lbl c3  \" ><span class=\"nd\">verse</span></div><div class=\"children hor wrap rtl\"><div class=\"contnr c0 trm rtl  \" ><div class=\"lbl c0 trm \" ><a target=\"_blank\" href=\"https://github.com/etcbc/syrnt/blob/master/plain\" title=\"show this passage in the SyrNT repository\"><span class=\"txtu syc\">ܐܡܪ </span></a></div><div class='features'><span class=\"lexeme_etcbc xft\" ><span class=\"f\">lexeme_etcbc=</span>>MR</span><span class=\"nu xft\" ><span class=\"f\">nu=</span>s</span></div></div><div class=\"contnr c0 trm rtl  \" ><div class=\"lbl c0 trm \" ><a target=\"_blank\" href=\"https://github.com/etcbc/syrnt/blob/master/plain\" title=\"show this passage in the SyrNT repository\"><span class=\"txtu syc\">ܠܗܘܢ </span></a></div><div class='features'><span class=\"lexeme_etcbc xft\" ><span class=\"f\">lexeme_etcbc=</span>L</span></div></div><div class=\"contnr c0 trm rtl  \" ><div class=\"lbl c0 trm \" ><a target=\"_blank\" href=\"https://github.com/etcbc/syrnt/blob/master/plain\" title=\"show this passage in the SyrNT repository\"><span class=\"txtu syc\">ܝܫܘܥ </span></a></div><div class='features'><span class=\"lexeme_etcbc xft\" ><span class=\"f\">lexeme_etcbc=</span>JCW&lt;</span></div></div><div class=\"contnr c0 trm rtl  \" ><div class=\"lbl c0 trm \" ><a target=\"_blank\" href=\"https://github.com/etcbc/syrnt/blob/master/plain\" title=\"show this passage in the SyrNT repository\"><span class=\"txtu syc\">ܠܐ </span></a></div><div class='features'><span class=\"lexeme_etcbc xft\" ><span class=\"f\">lexeme_etcbc=</span>L></span></div></div><div class=\"contnr c0 trm rtl  \" ><div class=\"lbl c0 trm \" ><a target=\"_blank\" href=\"https://github.com/etcbc/syrnt/blob/master/plain\" title=\"show this passage in the SyrNT repository\"><span class=\"txtu syc\">ܗܘܐ </span></a></div><div class='features'><span class=\"lexeme_etcbc xft\" ><span class=\"f\">lexeme_etcbc=</span>HW></span><span class=\"nu xft\" ><span class=\"f\">nu=</span>s</span></div></div><div class=\"contnr c0 trm rtl  \" ><div class=\"lbl c0 trm \" ><a target=\"_blank\" href=\"https://github.com/etcbc/syrnt/blob/master/plain\" title=\"show this passage in the SyrNT repository\"><span class=\"txtu syc\">ܡܛܠ </span></a></div><div class='features'><span class=\"lexeme_etcbc xft\" ><span class=\"f\">lexeme_etcbc=</span>MVL</span></div></div><div class=\"contnr c0 trm rtl  \" ><div class=\"lbl c0 trm \" ><a target=\"_blank\" href=\"https://github.com/etcbc/syrnt/blob/master/plain\" title=\"show this passage in the SyrNT repository\"><span class=\"txtu syc\">ܗܕܐ </span></a></div><div class='features'><span class=\"lexeme_etcbc xft\" ><span class=\"f\">lexeme_etcbc=</span>HN></span><span class=\"nu xft\" ><span class=\"f\">nu=</span>s</span></div></div><div class=\"contnr c0 trm rtl  \" ><div class=\"lbl c0 trm \" ><a target=\"_blank\" href=\"https://github.com/etcbc/syrnt/blob/master/plain\" title=\"show this passage in the SyrNT repository\"><span class=\"txtu syc\">ܛܥܝܢ </span></a></div><div class='features'><span class=\"lexeme_etcbc xft\" ><span class=\"f\">lexeme_etcbc=</span>V&lt;></span><span class=\"nu xft\" ><span class=\"f\">nu=</span>p</span></div></div><div class=\"contnr c0 trm rtl  \" ><div class=\"lbl c0 trm \" ><a target=\"_blank\" href=\"https://github.com/etcbc/syrnt/blob/master/plain\" title=\"show this passage in the SyrNT repository\"><span class=\"txtu syc\">ܐܢܬܘܢ </span></a></div><div class='features'><span class=\"lexeme_etcbc xft\" ><span class=\"f\">lexeme_etcbc=</span>>NT</span><span class=\"nu xft\" ><span class=\"f\">nu=</span>p</span></div></div><div class=\"contnr c0 trm rtl  \" ><div class=\"lbl c0 trm \" ><a target=\"_blank\" href=\"https://github.com/etcbc/syrnt/blob/master/plain\" title=\"show this passage in the SyrNT repository\"><span class=\"txtu syc\">ܕܠܐ </span></a></div><div class='features'><span class=\"lexeme_etcbc xft\" ><span class=\"f\">lexeme_etcbc=</span>L></span></div></div><div class=\"contnr c0 trm rtl  \" ><div class=\"lbl c0 trm \" ><a target=\"_blank\" href=\"https://github.com/etcbc/syrnt/blob/master/plain\" title=\"show this passage in the SyrNT repository\"><span class=\"txtu syc\">ܝܕܥܝܢ </span></a></div><div class='features'><span class=\"lexeme_etcbc xft\" ><span class=\"f\">lexeme_etcbc=</span>JD&lt;</span><span class=\"nu xft\" ><span class=\"f\">nu=</span>p</span></div></div><div class=\"contnr c0 trm rtl  \" ><div class=\"lbl c0 trm \" ><a target=\"_blank\" href=\"https://github.com/etcbc/syrnt/blob/master/plain\" title=\"show this passage in the SyrNT repository\"><span class=\"txtu syc\">ܐܢܬܘܢ </span></a></div><div class='features'><span class=\"lexeme_etcbc xft\" ><span class=\"f\">lexeme_etcbc=</span>>NT</span><span class=\"nu xft\" ><span class=\"f\">nu=</span>p</span></div></div><div class=\"contnr c0 trm rtl  hl\" ><div class=\"lbl c0 trm hl\" ><a target=\"_blank\" href=\"https://github.com/etcbc/syrnt/blob/master/plain\" title=\"show this passage in the SyrNT repository\"><span class=\"txtu syc\">ܟܬܒܐ </span></a></div><div class='features'><span class=\"lexeme_etcbc xft\" ><span class=\"f\">lexeme_etcbc=</span>KTB></span><span class=\"nu xft\" ><span class=\"f\">nu=</span>p</span></div></div><div class=\"contnr c0 trm rtl  \" ><div class=\"lbl c0 trm \" ><a target=\"_blank\" href=\"https://github.com/etcbc/syrnt/blob/master/plain\" title=\"show this passage in the SyrNT repository\"><span class=\"txtu syc\">ܘܠܐ </span></a></div><div class='features'><span class=\"lexeme_etcbc xft\" ><span class=\"f\">lexeme_etcbc=</span>L></span></div></div><div class=\"contnr c0 trm rtl  \" ><div class=\"lbl c0 trm \" ><a target=\"_blank\" href=\"https://github.com/etcbc/syrnt/blob/master/plain\" title=\"show this passage in the SyrNT repository\"><span class=\"txtu syc\">ܚܝܠܗ </span></a></div><div class='features'><span class=\"lexeme_etcbc xft\" ><span class=\"f\">lexeme_etcbc=</span>XJL></span><span class=\"nu xft\" ><span class=\"f\">nu=</span>s</span></div></div><div class=\"contnr c0 trm rtl  \" ><div class=\"lbl c0 trm \" ><a target=\"_blank\" href=\"https://github.com/etcbc/syrnt/blob/master/plain\" title=\"show this passage in the SyrNT repository\"><span class=\"txtu syc\">ܕܐܠܗܐ </span></a></div><div class='features'><span class=\"lexeme_etcbc xft\" ><span class=\"f\">lexeme_etcbc=</span>>LH></span><span class=\"nu xft\" ><span class=\"f\">nu=</span>s</span></div></div></div></div></div>"
      ],
      "text/plain": [
       "<IPython.core.display.HTML object>"
      ]
     },
     "metadata": {},
     "output_type": "display_data"
    },
    {
     "data": {
      "text/html": [
       "<p><b>result</b> <i>5</i></p>"
      ],
      "text/plain": [
       "<IPython.core.display.HTML object>"
      ]
     },
     "metadata": {},
     "output_type": "display_data"
    },
    {
     "data": {
      "text/html": [
       "<div class=\"section rtl\"><a target=\"_blank\" href=\"https://github.com/etcbc/syrnt/blob/master/plain/0.1/Mark.txt\" title=\"show this passage in the SyrNT repository\" sec=\"Mark 14:49\">Mark 14:49</a></div><div class=\"rtl children\"><div class=\"contnr c3  rtl  \" ><div class=\"lbl c3  \" ><span class=\"nd\">verse</span></div><div class=\"children hor wrap rtl\"><div class=\"contnr c0 trm rtl  \" ><div class=\"lbl c0 trm \" ><a target=\"_blank\" href=\"https://github.com/etcbc/syrnt/blob/master/plain\" title=\"show this passage in the SyrNT repository\"><span class=\"txtu syc\">ܟܠܝܘܡ </span></a></div><div class='features'><span class=\"lexeme_etcbc xft\" ><span class=\"f\">lexeme_etcbc=</span>KL-JWM</span><span class=\"nu xft\" ><span class=\"f\">nu=</span>s</span></div></div><div class=\"contnr c0 trm rtl  \" ><div class=\"lbl c0 trm \" ><a target=\"_blank\" href=\"https://github.com/etcbc/syrnt/blob/master/plain\" title=\"show this passage in the SyrNT repository\"><span class=\"txtu syc\">ܠܘܬܟܘܢ </span></a></div><div class='features'><span class=\"lexeme_etcbc xft\" ><span class=\"f\">lexeme_etcbc=</span>LWT</span></div></div><div class=\"contnr c0 trm rtl  \" ><div class=\"lbl c0 trm \" ><a target=\"_blank\" href=\"https://github.com/etcbc/syrnt/blob/master/plain\" title=\"show this passage in the SyrNT repository\"><span class=\"txtu syc\">ܗܘܝܬ </span></a></div><div class='features'><span class=\"lexeme_etcbc xft\" ><span class=\"f\">lexeme_etcbc=</span>HW></span><span class=\"nu xft\" ><span class=\"f\">nu=</span>s</span></div></div><div class=\"contnr c0 trm rtl  \" ><div class=\"lbl c0 trm \" ><a target=\"_blank\" href=\"https://github.com/etcbc/syrnt/blob/master/plain\" title=\"show this passage in the SyrNT repository\"><span class=\"txtu syc\">ܟܕ </span></a></div><div class='features'><span class=\"lexeme_etcbc xft\" ><span class=\"f\">lexeme_etcbc=</span>KD</span></div></div><div class=\"contnr c0 trm rtl  \" ><div class=\"lbl c0 trm \" ><a target=\"_blank\" href=\"https://github.com/etcbc/syrnt/blob/master/plain\" title=\"show this passage in the SyrNT repository\"><span class=\"txtu syc\">ܡܠܦ </span></a></div><div class='features'><span class=\"lexeme_etcbc xft\" ><span class=\"f\">lexeme_etcbc=</span>JLP</span><span class=\"nu xft\" ><span class=\"f\">nu=</span>s</span></div></div><div class=\"contnr c0 trm rtl  \" ><div class=\"lbl c0 trm \" ><a target=\"_blank\" href=\"https://github.com/etcbc/syrnt/blob/master/plain\" title=\"show this passage in the SyrNT repository\"><span class=\"txtu syc\">ܐܢܐ </span></a></div><div class='features'><span class=\"lexeme_etcbc xft\" ><span class=\"f\">lexeme_etcbc=</span>>N></span><span class=\"nu xft\" ><span class=\"f\">nu=</span>s</span></div></div><div class=\"contnr c0 trm rtl  \" ><div class=\"lbl c0 trm \" ><a target=\"_blank\" href=\"https://github.com/etcbc/syrnt/blob/master/plain\" title=\"show this passage in the SyrNT repository\"><span class=\"txtu syc\">ܒܗܝܟܠܐ </span></a></div><div class='features'><span class=\"lexeme_etcbc xft\" ><span class=\"f\">lexeme_etcbc=</span>HJKL></span><span class=\"nu xft\" ><span class=\"f\">nu=</span>s</span></div></div><div class=\"contnr c0 trm rtl  \" ><div class=\"lbl c0 trm \" ><a target=\"_blank\" href=\"https://github.com/etcbc/syrnt/blob/master/plain\" title=\"show this passage in the SyrNT repository\"><span class=\"txtu syc\">ܘܠܐ </span></a></div><div class='features'><span class=\"lexeme_etcbc xft\" ><span class=\"f\">lexeme_etcbc=</span>L></span></div></div><div class=\"contnr c0 trm rtl  \" ><div class=\"lbl c0 trm \" ><a target=\"_blank\" href=\"https://github.com/etcbc/syrnt/blob/master/plain\" title=\"show this passage in the SyrNT repository\"><span class=\"txtu syc\">ܐܚܕܬܘܢܢܝ </span></a></div><div class='features'><span class=\"lexeme_etcbc xft\" ><span class=\"f\">lexeme_etcbc=</span>>XD</span><span class=\"nu xft\" ><span class=\"f\">nu=</span>p</span></div></div><div class=\"contnr c0 trm rtl  \" ><div class=\"lbl c0 trm \" ><a target=\"_blank\" href=\"https://github.com/etcbc/syrnt/blob/master/plain\" title=\"show this passage in the SyrNT repository\"><span class=\"txtu syc\">ܐܠܐ </span></a></div><div class='features'><span class=\"lexeme_etcbc xft\" ><span class=\"f\">lexeme_etcbc=</span>>L></span></div></div><div class=\"contnr c0 trm rtl  \" ><div class=\"lbl c0 trm \" ><a target=\"_blank\" href=\"https://github.com/etcbc/syrnt/blob/master/plain\" title=\"show this passage in the SyrNT repository\"><span class=\"txtu syc\">ܕܢܫܠܡܘܢ </span></a></div><div class='features'><span class=\"lexeme_etcbc xft\" ><span class=\"f\">lexeme_etcbc=</span>CLM</span><span class=\"nu xft\" ><span class=\"f\">nu=</span>p</span></div></div><div class=\"contnr c0 trm rtl  hl\" ><div class=\"lbl c0 trm hl\" ><a target=\"_blank\" href=\"https://github.com/etcbc/syrnt/blob/master/plain\" title=\"show this passage in the SyrNT repository\"><span class=\"txtu syc\">ܟܬܒܐ </span></a></div><div class='features'><span class=\"lexeme_etcbc xft\" ><span class=\"f\">lexeme_etcbc=</span>KTB></span><span class=\"nu xft\" ><span class=\"f\">nu=</span>p</span></div></div><div class=\"contnr c0 trm rtl  \" ><div class=\"lbl c0 trm \" ><a target=\"_blank\" href=\"https://github.com/etcbc/syrnt/blob/master/plain\" title=\"show this passage in the SyrNT repository\"><span class=\"txtu syc\">ܗܘܬ </span></a></div><div class='features'><span class=\"lexeme_etcbc xft\" ><span class=\"f\">lexeme_etcbc=</span>HW></span><span class=\"nu xft\" ><span class=\"f\">nu=</span>s</span></div></div><div class=\"contnr c0 trm rtl  \" ><div class=\"lbl c0 trm \" ><a target=\"_blank\" href=\"https://github.com/etcbc/syrnt/blob/master/plain\" title=\"show this passage in the SyrNT repository\"><span class=\"txtu syc\">ܗܕܐ </span></a></div><div class='features'><span class=\"lexeme_etcbc xft\" ><span class=\"f\">lexeme_etcbc=</span>HN></span><span class=\"nu xft\" ><span class=\"f\">nu=</span>s</span></div></div></div></div></div>"
      ],
      "text/plain": [
       "<IPython.core.display.HTML object>"
      ]
     },
     "metadata": {},
     "output_type": "display_data"
    }
   ],
   "source": [
    "query = \"\"\"\n",
    "word lexeme_etcbc=KTB> nu=p\n",
    "\"\"\"\n",
    "results = A.search(query)\n",
    "A.show(results, end=5)"
   ]
  },
  {
   "cell_type": "code",
   "execution_count": 8,
   "metadata": {},
   "outputs": [
    {
     "data": {
      "text/html": [
       "<table><tr class=\"tf rtl\"><th class=\"tf rtl\">n</th><th class=\"tf rtl\">p</th><th class=\"tf rtl\">word</th></tr>\n",
       "<tr class=\"tf rtl\"><td class=\"tf rtl\">1</td><td class=\"tf rtl\"><span class=\"section ltr\"><a target=\"_blank\" href=\"https://github.com/etcbc/syrnt/blob/master/plain/0.1/Matthew.txt\" title=\"show this passage in the SyrNT repository\" sec=\"Matthew 22:29\">Matthew 22:29</a></span></td><td class=\"tf rtl\"><div class=\"rtl\"><span class=\"plain rtl  hl\" ><span class=\"txtu syc\">ܟܬܒܐ </span></span></div></td></tr>\n",
       "<tr class=\"tf rtl\"><td class=\"tf rtl\">2</td><td class=\"tf rtl\"><span class=\"section ltr\"><a target=\"_blank\" href=\"https://github.com/etcbc/syrnt/blob/master/plain/0.1/Matthew.txt\" title=\"show this passage in the SyrNT repository\" sec=\"Matthew 26:54\">Matthew 26:54</a></span></td><td class=\"tf rtl\"><div class=\"rtl\"><span class=\"plain rtl  hl\" ><span class=\"txtu syc\">ܟܬܒܐ </span></span></div></td></tr>\n",
       "<tr class=\"tf rtl\"><td class=\"tf rtl\">3</td><td class=\"tf rtl\"><span class=\"section ltr\"><a target=\"_blank\" href=\"https://github.com/etcbc/syrnt/blob/master/plain/0.1/Matthew.txt\" title=\"show this passage in the SyrNT repository\" sec=\"Matthew 26:56\">Matthew 26:56</a></span></td><td class=\"tf rtl\"><div class=\"rtl\"><span class=\"plain rtl  hl\" ><span class=\"txtu syc\">ܟܬܒܐ </span></span></div></td></tr>\n",
       "<tr class=\"tf rtl\"><td class=\"tf rtl\">4</td><td class=\"tf rtl\"><span class=\"section ltr\"><a target=\"_blank\" href=\"https://github.com/etcbc/syrnt/blob/master/plain/0.1/Mark.txt\" title=\"show this passage in the SyrNT repository\" sec=\"Mark 12:24\">Mark 12:24</a></span></td><td class=\"tf rtl\"><div class=\"rtl\"><span class=\"plain rtl  hl\" ><span class=\"txtu syc\">ܟܬܒܐ </span></span></div></td></tr>\n",
       "<tr class=\"tf rtl\"><td class=\"tf rtl\">5</td><td class=\"tf rtl\"><span class=\"section ltr\"><a target=\"_blank\" href=\"https://github.com/etcbc/syrnt/blob/master/plain/0.1/Mark.txt\" title=\"show this passage in the SyrNT repository\" sec=\"Mark 14:49\">Mark 14:49</a></span></td><td class=\"tf rtl\"><div class=\"rtl\"><span class=\"plain rtl  hl\" ><span class=\"txtu syc\">ܟܬܒܐ </span></span></div></td></tr>\n",
       "<tr class=\"tf rtl\"><td class=\"tf rtl\">6</td><td class=\"tf rtl\"><span class=\"section ltr\"><a target=\"_blank\" href=\"https://github.com/etcbc/syrnt/blob/master/plain/0.1/Luke.txt\" title=\"show this passage in the SyrNT repository\" sec=\"Luke 24:27\">Luke 24:27</a></span></td><td class=\"tf rtl\"><div class=\"rtl\"><span class=\"plain rtl  hl\" ><span class=\"txtu syc\">ܟܬܒܐ </span></span></div></td></tr>\n",
       "<tr class=\"tf rtl\"><td class=\"tf rtl\">7</td><td class=\"tf rtl\"><span class=\"section ltr\"><a target=\"_blank\" href=\"https://github.com/etcbc/syrnt/blob/master/plain/0.1/Luke.txt\" title=\"show this passage in the SyrNT repository\" sec=\"Luke 24:32\">Luke 24:32</a></span></td><td class=\"tf rtl\"><div class=\"rtl\"><span class=\"plain rtl  hl\" ><span class=\"txtu syc\">ܟܬܒܐ </span></span></div></td></tr>\n",
       "<tr class=\"tf rtl\"><td class=\"tf rtl\">8</td><td class=\"tf rtl\"><span class=\"section ltr\"><a target=\"_blank\" href=\"https://github.com/etcbc/syrnt/blob/master/plain/0.1/Luke.txt\" title=\"show this passage in the SyrNT repository\" sec=\"Luke 24:45\">Luke 24:45</a></span></td><td class=\"tf rtl\"><div class=\"rtl\"><span class=\"plain rtl  hl\" ><span class=\"txtu syc\">ܟܬܒܐ </span></span></div></td></tr>\n",
       "<tr class=\"tf rtl\"><td class=\"tf rtl\">9</td><td class=\"tf rtl\"><span class=\"section ltr\"><a target=\"_blank\" href=\"https://github.com/etcbc/syrnt/blob/master/plain/0.1/John.txt\" title=\"show this passage in the SyrNT repository\" sec=\"John 2:22\">John 2:22</a></span></td><td class=\"tf rtl\"><div class=\"rtl\"><span class=\"plain rtl  hl\" ><span class=\"txtu syc\">ܠܟܬܒܐ </span></span></div></td></tr>\n",
       "<tr class=\"tf rtl\"><td class=\"tf rtl\">10</td><td class=\"tf rtl\"><span class=\"section ltr\"><a target=\"_blank\" href=\"https://github.com/etcbc/syrnt/blob/master/plain/0.1/John.txt\" title=\"show this passage in the SyrNT repository\" sec=\"John 5:39\">John 5:39</a></span></td><td class=\"tf rtl\"><div class=\"rtl\"><span class=\"plain rtl  hl\" ><span class=\"txtu syc\">ܟܬܒܐ </span></span></div></td></tr>\n",
       "<tr class=\"tf rtl\"><td class=\"tf rtl\">11</td><td class=\"tf rtl\"><span class=\"section ltr\"><a target=\"_blank\" href=\"https://github.com/etcbc/syrnt/blob/master/plain/0.1/John.txt\" title=\"show this passage in the SyrNT repository\" sec=\"John 5:47\">John 5:47</a></span></td><td class=\"tf rtl\"><div class=\"rtl\"><span class=\"plain rtl  hl\" ><span class=\"txtu syc\">ܠܟܬܒܘܗܝ </span></span></div></td></tr>\n",
       "<tr class=\"tf rtl\"><td class=\"tf rtl\">12</td><td class=\"tf rtl\"><span class=\"section ltr\"><a target=\"_blank\" href=\"https://github.com/etcbc/syrnt/blob/master/plain/0.1/John.txt\" title=\"show this passage in the SyrNT repository\" sec=\"John 7:38\">John 7:38</a></span></td><td class=\"tf rtl\"><div class=\"rtl\"><span class=\"plain rtl  hl\" ><span class=\"txtu syc\">ܟܬܒܐ </span></span></div></td></tr>\n",
       "<tr class=\"tf rtl\"><td class=\"tf rtl\">13</td><td class=\"tf rtl\"><span class=\"section ltr\"><a target=\"_blank\" href=\"https://github.com/etcbc/syrnt/blob/master/plain/0.1/John.txt\" title=\"show this passage in the SyrNT repository\" sec=\"John 20:9\">John 20:9</a></span></td><td class=\"tf rtl\"><div class=\"rtl\"><span class=\"plain rtl  hl\" ><span class=\"txtu syc\">ܟܬܒܐ </span></span></div></td></tr>\n",
       "<tr class=\"tf rtl\"><td class=\"tf rtl\">14</td><td class=\"tf rtl\"><span class=\"section ltr\"><a target=\"_blank\" href=\"https://github.com/etcbc/syrnt/blob/master/plain/0.1/John.txt\" title=\"show this passage in the SyrNT repository\" sec=\"John 21:25\">John 21:25</a></span></td><td class=\"tf rtl\"><div class=\"rtl\"><span class=\"plain rtl  hl\" ><span class=\"txtu syc\">ܠܟܬܒܐ </span></span></div></td></tr>\n",
       "<tr class=\"tf rtl\"><td class=\"tf rtl\">15</td><td class=\"tf rtl\"><span class=\"section ltr\"><a target=\"_blank\" href=\"https://github.com/etcbc/syrnt/blob/master/plain/0.1/Acts.txt\" title=\"show this passage in the SyrNT repository\" sec=\"Acts 13:27\">Acts 13:27</a></span></td><td class=\"tf rtl\"><div class=\"rtl\"><span class=\"plain rtl  hl\" ><span class=\"txtu syc\">ܒܟܬܒܐ </span></span></div></td></tr>\n",
       "<tr class=\"tf rtl\"><td class=\"tf rtl\">16</td><td class=\"tf rtl\"><span class=\"section ltr\"><a target=\"_blank\" href=\"https://github.com/etcbc/syrnt/blob/master/plain/0.1/Acts.txt\" title=\"show this passage in the SyrNT repository\" sec=\"Acts 17:2\">Acts 17:2</a></span></td><td class=\"tf rtl\"><div class=\"rtl\"><span class=\"plain rtl  hl\" ><span class=\"txtu syc\">ܟܬܒܐ </span></span></div></td></tr>\n",
       "<tr class=\"tf rtl\"><td class=\"tf rtl\">17</td><td class=\"tf rtl\"><span class=\"section ltr\"><a target=\"_blank\" href=\"https://github.com/etcbc/syrnt/blob/master/plain/0.1/Acts.txt\" title=\"show this passage in the SyrNT repository\" sec=\"Acts 17:11\">Acts 17:11</a></span></td><td class=\"tf rtl\"><div class=\"rtl\"><span class=\"plain rtl  hl\" ><span class=\"txtu syc\">ܟܬܒܐ </span></span></div></td></tr>\n",
       "<tr class=\"tf rtl\"><td class=\"tf rtl\">18</td><td class=\"tf rtl\"><span class=\"section ltr\"><a target=\"_blank\" href=\"https://github.com/etcbc/syrnt/blob/master/plain/0.1/Acts.txt\" title=\"show this passage in the SyrNT repository\" sec=\"Acts 18:24\">Acts 18:24</a></span></td><td class=\"tf rtl\"><div class=\"rtl\"><span class=\"plain rtl  hl\" ><span class=\"txtu syc\">ܒܟܬܒܐ </span></span></div></td></tr>\n",
       "<tr class=\"tf rtl\"><td class=\"tf rtl\">19</td><td class=\"tf rtl\"><span class=\"section ltr\"><a target=\"_blank\" href=\"https://github.com/etcbc/syrnt/blob/master/plain/0.1/Acts.txt\" title=\"show this passage in the SyrNT repository\" sec=\"Acts 18:28\">Acts 18:28</a></span></td><td class=\"tf rtl\"><div class=\"rtl\"><span class=\"plain rtl  hl\" ><span class=\"txtu syc\">ܟܬܒܐ </span></span></div></td></tr>\n",
       "<tr class=\"tf rtl\"><td class=\"tf rtl\">20</td><td class=\"tf rtl\"><span class=\"section ltr\"><a target=\"_blank\" href=\"https://github.com/etcbc/syrnt/blob/master/plain/0.1/Acts.txt\" title=\"show this passage in the SyrNT repository\" sec=\"Acts 19:19\">Acts 19:19</a></span></td><td class=\"tf rtl\"><div class=\"rtl\"><span class=\"plain rtl  hl\" ><span class=\"txtu syc\">ܟܬܒܝܗܘܢ </span></span></div></td></tr>\n",
       "<tr class=\"tf rtl\"><td class=\"tf rtl\">21</td><td class=\"tf rtl\"><span class=\"section ltr\"><a target=\"_blank\" href=\"https://github.com/etcbc/syrnt/blob/master/plain/0.1/Romans.txt\" title=\"show this passage in the SyrNT repository\" sec=\"Romans 1:2\">Romans 1:2</a></span></td><td class=\"tf rtl\"><div class=\"rtl\"><span class=\"plain rtl  hl\" ><span class=\"txtu syc\">ܒܟܬܒܐ </span></span></div></td></tr>\n",
       "<tr class=\"tf rtl\"><td class=\"tf rtl\">22</td><td class=\"tf rtl\"><span class=\"section ltr\"><a target=\"_blank\" href=\"https://github.com/etcbc/syrnt/blob/master/plain/0.1/Romans.txt\" title=\"show this passage in the SyrNT repository\" sec=\"Romans 15:4\">Romans 15:4</a></span></td><td class=\"tf rtl\"><div class=\"rtl\"><span class=\"plain rtl  hl\" ><span class=\"txtu syc\">ܕܟܬܒܐ </span></span></div></td></tr>\n",
       "<tr class=\"tf rtl\"><td class=\"tf rtl\">23</td><td class=\"tf rtl\"><span class=\"section ltr\"><a target=\"_blank\" href=\"https://github.com/etcbc/syrnt/blob/master/plain/0.1/Romans.txt\" title=\"show this passage in the SyrNT repository\" sec=\"Romans 16:25\">Romans 16:25</a></span></td><td class=\"tf rtl\"><div class=\"rtl\"><span class=\"plain rtl  hl\" ><span class=\"txtu syc\">ܟܬܒܐ </span></span></div></td></tr>\n",
       "<tr class=\"tf rtl\"><td class=\"tf rtl\">24</td><td class=\"tf rtl\"><span class=\"section ltr\"><a target=\"_blank\" href=\"https://github.com/etcbc/syrnt/blob/master/plain/0.1/2_Timothy.txt\" title=\"show this passage in the SyrNT repository\" sec=\"2_Timothy 4:13\">2_Timothy 4:13</a></span></td><td class=\"tf rtl\"><div class=\"rtl\"><span class=\"plain rtl  hl\" ><span class=\"txtu syc\">ܟܬܒܐ </span></span></div></td></tr>\n",
       "<tr class=\"tf rtl\"><td class=\"tf rtl\">25</td><td class=\"tf rtl\"><span class=\"section ltr\"><a target=\"_blank\" href=\"https://github.com/etcbc/syrnt/blob/master/plain/0.1/2_Timothy.txt\" title=\"show this passage in the SyrNT repository\" sec=\"2_Timothy 4:13\">2_Timothy 4:13</a></span></td><td class=\"tf rtl\"><div class=\"rtl\"><span class=\"plain rtl  hl\" ><span class=\"txtu syc\">ܘܟܬܒܐ </span></span></div></td></tr>\n",
       "<tr class=\"tf rtl\"><td class=\"tf rtl\">26</td><td class=\"tf rtl\"><span class=\"section ltr\"><a target=\"_blank\" href=\"https://github.com/etcbc/syrnt/blob/master/plain/0.1/Hebrews.txt\" title=\"show this passage in the SyrNT repository\" sec=\"Hebrews 10:7\">Hebrews 10:7</a></span></td><td class=\"tf rtl\"><div class=\"rtl\"><span class=\"plain rtl  hl\" ><span class=\"txtu syc\">ܟܬܒܐ </span></span></div></td></tr>\n",
       "<tr class=\"tf rtl\"><td class=\"tf rtl\">27</td><td class=\"tf rtl\"><span class=\"section ltr\"><a target=\"_blank\" href=\"https://github.com/etcbc/syrnt/blob/master/plain/0.1/2_Peter.txt\" title=\"show this passage in the SyrNT repository\" sec=\"2_Peter 3:16\">2_Peter 3:16</a></span></td><td class=\"tf rtl\"><div class=\"rtl\"><span class=\"plain rtl  hl\" ><span class=\"txtu syc\">ܟܬܒܐ </span></span></div></td></tr>\n",
       "<tr class=\"tf rtl\"><td class=\"tf rtl\">28</td><td class=\"tf rtl\"><span class=\"section ltr\"><a target=\"_blank\" href=\"https://github.com/etcbc/syrnt/blob/master/plain/0.1/Revelation.txt\" title=\"show this passage in the SyrNT repository\" sec=\"Revelation 6:14\">Revelation 6:14</a></span></td><td class=\"tf rtl\"><div class=\"rtl\"><span class=\"plain rtl  hl\" ><span class=\"txtu syc\">ܟܬܒܐ </span></span></div></td></tr></table>"
      ],
      "text/plain": [
       "<IPython.core.display.HTML object>"
      ]
     },
     "metadata": {},
     "output_type": "display_data"
    }
   ],
   "source": [
    "A.table(results)"
   ]
  },
  {
   "cell_type": "markdown",
   "metadata": {},
   "source": [
    "# Next\n",
    "\n",
    "You know how to run queries and show off with their results.\n",
    "\n",
    "The next thing is to dive deeper into the power of templates.\n",
    "But for that you have to go to the\n",
    "[search tutorial of the BHSA](https://nbviewer.jupyter.org/github/etcbc/bhsa/blob/master/tutorial/search.ipynb)\n",
    "since that data set has much more features to play with.\n",
    "\n",
    "---\n",
    "\n",
    "basic\n",
    "[BHSA](https://nbviewer.jupyter.org/github/etcbc/bhsa/blob/master/tutorial/search.ipynb)\n",
    "\n",
    "CC-BY Dirk Roorda"
   ]
  }
 ],
 "metadata": {
  "kernelspec": {
   "display_name": "Python 3",
   "language": "python",
   "name": "python3"
  },
  "language_info": {
   "codemirror_mode": {
    "name": "ipython",
    "version": 3
   },
   "file_extension": ".py",
   "mimetype": "text/x-python",
   "name": "python",
   "nbconvert_exporter": "python",
   "pygments_lexer": "ipython3",
   "version": "3.7.7"
  }
 },
 "nbformat": 4,
 "nbformat_minor": 4
}
